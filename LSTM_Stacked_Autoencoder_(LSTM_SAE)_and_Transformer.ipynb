{
  "cells": [
    {
      "cell_type": "markdown",
      "source": [
        "## This file contains feature engineering, LSTM Stacked Autoencoder (LSTM-SAE) and the Transformer\n",
        "\n",
        "## Authors: Zhihao Xu, Shiyu Dou\n",
        "\n",
        "### Sources:\n",
        "Mixed Precision for Transformer\n",
        "https://ieeexplore.ieee.org/document/9414076\n",
        "https://nvidia.github.io/OpenSeq2Seq/html/machine-translation/transformer.html#mixed-precision\n",
        "\n",
        "PyTorch https://towardsdatascience.com/a-comprehensive-guide-to-neural-machine-translation-using-seq2sequence-modelling-using-pytorch-41c9b84ba350\n",
        "\n",
        "https://www.analyticsvidhya.com/blog/2020/10/multivariate-multi-step-time-series-forecasting-using-stacked-lstm-sequence-to-sequence-autoencoder-in-tensorflow-2-0-keras/\n",
        "\n",
        "https://medium.com/deep-learning-with-keras/lstm-understanding-output-types-e93d2fb57c77\n",
        "\n",
        "https://www.analyticsvidhya.com/blog/2020/10/multivariate-multi-step-time-series-forecasting-using-stacked-lstm-sequence-to-sequence-autoencoder-in-tensorflow-2-0-keras/\n"
      ],
      "metadata": {
        "id": "0UMxIiKI5lgf"
      }
    },
    {
      "cell_type": "markdown",
      "source": [
        "## Preperation"
      ],
      "metadata": {
        "id": "Gn9rgh115iB1"
      }
    },
    {
      "cell_type": "code",
      "source": [
        "!pip install keras-attention\n",
        "import random\n",
        "import numpy as np\n",
        "import matplotlib.pyplot as plt\n",
        "import os\n",
        "# 只使用第三块GPU。\n",
        "os.environ[\"CUDA_VISIBLE_DEVICES\"] = \"0\"\n",
        "\n",
        "import pickle as pkl\n",
        "import keras\n",
        "import pandas as pd, numpy as np\n",
        "import seaborn as sns\n",
        "from keras import layers\n",
        "from keras.models import Sequential, Model, load_model\n",
        "from keras.layers import LSTM, Dense, RepeatVector, TimeDistributed, Input, BatchNormalization, multiply, concatenate, Flatten, Activation, dot\n",
        "from tensorflow.keras.optimizers import Adam\n",
        "from tensorflow.keras.optimizers import RMSprop\n",
        "from keras.callbacks import EarlyStopping, ModelCheckpoint, LearningRateScheduler, ReduceLROnPlateau\n",
        "import pydot as pyd\n",
        "from keras.utils.vis_utils import plot_model, model_to_dot\n",
        "from keras.layers import Dense\n",
        "from keras.layers import Attention\n",
        "keras.utils.vis_utils.pydot = pyd\n",
        "from sklearn.metrics import mean_absolute_error\n",
        "from sklearn.preprocessing import MinMaxScaler, RobustScaler\n",
        "from sklearn.model_selection import GridSearchCV, KFold\n",
        "from google.colab import files"
      ],
      "metadata": {
        "id": "0kPhNS3u93uA",
        "colab": {
          "base_uri": "https://localhost:8080/"
        },
        "outputId": "c0209785-8e73-46aa-8e5a-fc62a8deeeb0"
      },
      "execution_count": null,
      "outputs": [
        {
          "output_type": "stream",
          "name": "stdout",
          "text": [
            "Collecting keras-attention\n",
            "  Downloading keras_attention-1.0.0-py3-none-any.whl (7.0 kB)\n",
            "Requirement already satisfied: keras in /usr/local/lib/python3.7/dist-packages (from keras-attention) (2.8.0)\n",
            "Installing collected packages: keras-attention\n",
            "Successfully installed keras-attention-1.0.0\n"
          ]
        }
      ]
    },
    {
      "cell_type": "code",
      "source": [
        "gpu_info = !nvidia-smi\n",
        "gpu_info = '\\n'.join(gpu_info)\n",
        "if gpu_info.find('failed') >= 0:\n",
        "  print('Not connected to a GPU')\n",
        "else:\n",
        "  print(gpu_info)"
      ],
      "metadata": {
        "colab": {
          "base_uri": "https://localhost:8080/"
        },
        "id": "Bapgl4Ky4Ijd",
        "outputId": "92efc83a-f492-4549-94db-50bc4ef55ad6"
      },
      "execution_count": null,
      "outputs": [
        {
          "output_type": "stream",
          "name": "stdout",
          "text": [
            "Thu Apr 28 22:31:18 2022       \n",
            "+-----------------------------------------------------------------------------+\n",
            "| NVIDIA-SMI 460.32.03    Driver Version: 460.32.03    CUDA Version: 11.2     |\n",
            "|-------------------------------+----------------------+----------------------+\n",
            "| GPU  Name        Persistence-M| Bus-Id        Disp.A | Volatile Uncorr. ECC |\n",
            "| Fan  Temp  Perf  Pwr:Usage/Cap|         Memory-Usage | GPU-Util  Compute M. |\n",
            "|                               |                      |               MIG M. |\n",
            "|===============================+======================+======================|\n",
            "|   0  Tesla T4            Off  | 00000000:00:04.0 Off |                    0 |\n",
            "| N/A   34C    P8     9W /  70W |      0MiB / 15109MiB |      0%      Default |\n",
            "|                               |                      |                  N/A |\n",
            "+-------------------------------+----------------------+----------------------+\n",
            "                                                                               \n",
            "+-----------------------------------------------------------------------------+\n",
            "| Processes:                                                                  |\n",
            "|  GPU   GI   CI        PID   Type   Process name                  GPU Memory |\n",
            "|        ID   ID                                                   Usage      |\n",
            "|=============================================================================|\n",
            "|  No running processes found                                                 |\n",
            "+-----------------------------------------------------------------------------+\n"
          ]
        }
      ]
    },
    {
      "cell_type": "code",
      "source": [
        "# Alternative option to access files in Google Drive\n",
        "!pip install -U -q PyDrive\n",
        "from pydrive.auth import GoogleAuth\n",
        "from pydrive.drive import GoogleDrive\n",
        "from google.colab import auth\n",
        "from oauth2client.client import GoogleCredentials"
      ],
      "metadata": {
        "id": "ACcYyURZQMmN"
      },
      "execution_count": null,
      "outputs": []
    },
    {
      "cell_type": "code",
      "source": [
        "auth.authenticate_user()\n",
        "gauth = GoogleAuth()\n",
        "gauth.credentials = GoogleCredentials.get_application_default()\n",
        "drive = GoogleDrive(gauth)"
      ],
      "metadata": {
        "id": "PR5J9o-_VnYP"
      },
      "execution_count": null,
      "outputs": []
    },
    {
      "cell_type": "code",
      "source": [
        "import pandas as pd\n",
        "import numpy as np\n",
        "fileDownloaded = drive.CreateFile({'id':'17djwlsxAR6IQWF_UOH4JpwWU1X9GdQGl'})\n",
        "fileDownloaded.GetContentFile('test.csv')\n",
        "test_comp = pd.read_csv('test.csv')\n",
        "\n",
        "fileDownloaded = drive.CreateFile({'id':'1OaSAZQthzltrNl97-dUL85CP9x_JD021'})\n",
        "fileDownloaded.GetContentFile('train.csv')\n",
        "train_comp = pd.read_csv('train.csv')\n",
        "\n",
        "print(train_comp.shape)\n",
        "print(test_comp.shape)"
      ],
      "metadata": {
        "colab": {
          "base_uri": "https://localhost:8080/"
        },
        "id": "20MK36oZV0cV",
        "outputId": "64d4b8b6-dcb6-40e8-ba67-f4087411d849"
      },
      "execution_count": null,
      "outputs": [
        {
          "output_type": "stream",
          "name": "stdout",
          "text": [
            "(4828800, 8)\n",
            "(1207200, 8)\n"
          ]
        }
      ]
    },
    {
      "cell_type": "markdown",
      "source": [
        "## Feature Engineering"
      ],
      "metadata": {
        "id": "md0n4rRB_ULz"
      }
    },
    {
      "cell_type": "code",
      "source": [
        "def add_features(df):\n",
        "    df['cross']= df['u_in'] * df['u_out']\n",
        "    df['cross2']= df['time_step'] * df['u_out']\n",
        "    df['area'] = df['time_step'] * df['u_in']\n",
        "    df['area'] = df.groupby('breath_id')['area'].cumsum()\n",
        "    df['time_step_cumsum'] = df.groupby(['breath_id'])['time_step'].cumsum()\n",
        "    df['u_in_cumsum'] = (df['u_in']).groupby(df['breath_id']).cumsum()\n",
        "    print(\"Step-1...Completed\")\n",
        "    \n",
        "    df['u_in_lag1'] = df.groupby('breath_id')['u_in'].shift(1)\n",
        "    df['u_out_lag1'] = df.groupby('breath_id')['u_out'].shift(1)\n",
        "    df['u_in_lag_back1'] = df.groupby('breath_id')['u_in'].shift(-1)\n",
        "    df['u_out_lag_back1'] = df.groupby('breath_id')['u_out'].shift(-1)\n",
        "    df['u_in_lag2'] = df.groupby('breath_id')['u_in'].shift(2)\n",
        "    df['u_out_lag2'] = df.groupby('breath_id')['u_out'].shift(2)\n",
        "    df['u_in_lag_back2'] = df.groupby('breath_id')['u_in'].shift(-2)\n",
        "    df['u_out_lag_back2'] = df.groupby('breath_id')['u_out'].shift(-2)\n",
        "    df['u_in_lag3'] = df.groupby('breath_id')['u_in'].shift(3)\n",
        "    df['u_out_lag3'] = df.groupby('breath_id')['u_out'].shift(3)\n",
        "    df['u_in_lag_back3'] = df.groupby('breath_id')['u_in'].shift(-3)\n",
        "    df['u_out_lag_back3'] = df.groupby('breath_id')['u_out'].shift(-3)\n",
        "    df['u_in_lag4'] = df.groupby('breath_id')['u_in'].shift(4)\n",
        "    df['u_out_lag4'] = df.groupby('breath_id')['u_out'].shift(4)\n",
        "    df['u_in_lag_back4'] = df.groupby('breath_id')['u_in'].shift(-4)\n",
        "    df['u_out_lag_back4'] = df.groupby('breath_id')['u_out'].shift(-4)\n",
        "    df = df.fillna(0)\n",
        "    print(\"Step-2...Completed\")\n",
        "    \n",
        "    df['breath_id__u_in__max'] = df.groupby(['breath_id'])['u_in'].transform('max')\n",
        "    df['breath_id__u_in__mean'] = df.groupby(['breath_id'])['u_in'].transform('mean')\n",
        "    df['breath_id__u_in__diffmax'] = df.groupby(['breath_id'])['u_in'].transform('max') - df['u_in']\n",
        "    df['breath_id__u_in__diffmean'] = df.groupby(['breath_id'])['u_in'].transform('mean') - df['u_in']\n",
        "\n",
        "    print(\"Step-3...Completed\")\n",
        "    \n",
        "    df['u_in_diff1'] = df['u_in'] - df['u_in_lag1']\n",
        "    df['u_out_diff1'] = df['u_out'] - df['u_out_lag1']\n",
        "    df['u_in_diff2'] = df['u_in'] - df['u_in_lag2']\n",
        "    df['u_out_diff2'] = df['u_out'] - df['u_out_lag2']\n",
        "    df['u_in_diff3'] = df['u_in'] - df['u_in_lag3']\n",
        "    df['u_out_diff3'] = df['u_out'] - df['u_out_lag3']\n",
        "    df['u_in_diff4'] = df['u_in'] - df['u_in_lag4']\n",
        "    df['u_out_diff4'] = df['u_out'] - df['u_out_lag4']\n",
        "    print(\"Step-4...Completed\")\n",
        "    \n",
        "    df['one'] = 1\n",
        "    df['count'] = (df['one']).groupby(df['breath_id']).cumsum()\n",
        "    df['u_in_cummean'] =df['u_in_cumsum'] /df['count']\n",
        "    \n",
        "    df['breath_id_lag']=df['breath_id'].shift(1).fillna(0)\n",
        "    df['breath_id_lag2']=df['breath_id'].shift(2).fillna(0)\n",
        "    df['breath_id_lagsame']=np.select([df['breath_id_lag']==df['breath_id']],[1],0)\n",
        "    df['breath_id_lag2same']=np.select([df['breath_id_lag2']==df['breath_id']],[1],0)\n",
        "    df['breath_id__u_in_lag'] = df['u_in'].shift(1).fillna(0)\n",
        "    df['breath_id__u_in_lag'] = df['breath_id__u_in_lag'] * df['breath_id_lagsame']\n",
        "    df['breath_id__u_in_lag2'] = df['u_in'].shift(2).fillna(0)\n",
        "    df['breath_id__u_in_lag2'] = df['breath_id__u_in_lag2'] * df['breath_id_lag2same']\n",
        "    print(\"Step-5...Completed\")\n",
        "    \n",
        "    df['time_step_diff'] = df.groupby('breath_id')['time_step'].diff().fillna(0)\n",
        "    df['ewm_u_in_mean'] = (df\\\n",
        "                           .groupby('breath_id')['u_in']\\\n",
        "                           .ewm(halflife=9)\\\n",
        "                           .mean()\\\n",
        "                           .reset_index(level=0,drop=True))\n",
        "    df[[\"15_in_sum\",\"15_in_min\",\"15_in_max\",\"15_in_mean\"]] = (df\\\n",
        "                                                              .groupby('breath_id')['u_in']\\\n",
        "                                                              .rolling(window=15,min_periods=1)\\\n",
        "                                                              .agg({\"15_in_sum\":\"sum\",\n",
        "                                                                    \"15_in_min\":\"min\",\n",
        "                                                                    \"15_in_max\":\"max\",\n",
        "                                                                    \"15_in_mean\":\"mean\"\n",
        "                                                                    #\"15_in_std\":\"std\"\n",
        "                                                               })\\\n",
        "                                                               .reset_index(level=0,drop=True))\n",
        "    print(\"Step-6...Completed\")\n",
        "        \n",
        "    df['u_in_lagback_diff1'] = df['u_in'] - df['u_in_lag_back1']\n",
        "    df['u_out_lagback_diff1'] = df['u_out'] - df['u_out_lag_back1']\n",
        "    df['u_in_lagback_diff2'] = df['u_in'] - df['u_in_lag_back2']\n",
        "    df['u_out_lagback_diff2'] = df['u_out'] - df['u_out_lag_back2']\n",
        "    print(\"Step-7...Completed\")\n",
        "    \n",
        "    df['R_str'] = df['R'].astype(str)\n",
        "    df['C_str'] = df['C'].astype(str)\n",
        "    df['R__C'] = df[\"R\"].astype(str) + '__' + df[\"C\"].astype(str)\n",
        "    df = pd.get_dummies(df)\n",
        "    print(\"Step-8...Completed\")\n",
        "    \n",
        "    return df"
      ],
      "metadata": {
        "id": "eqWgiXEFpnrR"
      },
      "execution_count": null,
      "outputs": []
    },
    {
      "cell_type": "code",
      "source": [
        "# Original dataset is ordered so sample not at random\n",
        "#iter_train = 20000\n",
        "#iter_test = 2000\n",
        "\n",
        "train = train_comp\n",
        "test = test_comp\n",
        "#train = train_comp.iloc[0:(iter_train*80), :]\n",
        "#test = test_comp.iloc[0:(iter_test*80), :]\n",
        "\n",
        "print(train.shape)\n",
        "print(test.shape)"
      ],
      "metadata": {
        "colab": {
          "base_uri": "https://localhost:8080/"
        },
        "id": "JqoljbjrV1RJ",
        "outputId": "d896d10f-78ab-4e74-aca2-57527952d516"
      },
      "execution_count": null,
      "outputs": [
        {
          "output_type": "stream",
          "name": "stdout",
          "text": [
            "(4828800, 8)\n",
            "(1207200, 8)\n"
          ]
        }
      ]
    },
    {
      "cell_type": "code",
      "source": [
        "train = add_features(train)\n",
        "test = add_features(test)"
      ],
      "metadata": {
        "colab": {
          "base_uri": "https://localhost:8080/"
        },
        "id": "muxPg-iPprYr",
        "outputId": "3d082b8d-6fdb-42d9-b0d5-beeb51b095b6"
      },
      "execution_count": null,
      "outputs": [
        {
          "output_type": "stream",
          "name": "stdout",
          "text": [
            "Step-1...Completed\n",
            "Step-2...Completed\n",
            "Step-3...Completed\n",
            "Step-4...Completed\n",
            "Step-5...Completed\n",
            "Step-6...Completed\n",
            "Step-7...Completed\n",
            "Step-8...Completed\n",
            "Step-1...Completed\n",
            "Step-2...Completed\n",
            "Step-3...Completed\n",
            "Step-4...Completed\n",
            "Step-5...Completed\n",
            "Step-6...Completed\n",
            "Step-7...Completed\n",
            "Step-8...Completed\n"
          ]
        }
      ]
    },
    {
      "cell_type": "code",
      "source": [
        "print(train.columns)\n",
        "print(train.shape)"
      ],
      "metadata": {
        "colab": {
          "base_uri": "https://localhost:8080/"
        },
        "id": "jKASOx8wWlf8",
        "outputId": "c8d17a8e-b6a4-4f75-8097-6620da9207f7"
      },
      "execution_count": null,
      "outputs": [
        {
          "output_type": "stream",
          "name": "stdout",
          "text": [
            "Index(['Unnamed: 0', 'breath_id', 'R', 'C', 'time_step', 'u_in', 'u_out',\n",
            "       'pressure', 'cross', 'cross2', 'area', 'time_step_cumsum',\n",
            "       'u_in_cumsum', 'u_in_lag1', 'u_out_lag1', 'u_in_lag_back1',\n",
            "       'u_out_lag_back1', 'u_in_lag2', 'u_out_lag2', 'u_in_lag_back2',\n",
            "       'u_out_lag_back2', 'u_in_lag3', 'u_out_lag3', 'u_in_lag_back3',\n",
            "       'u_out_lag_back3', 'u_in_lag4', 'u_out_lag4', 'u_in_lag_back4',\n",
            "       'u_out_lag_back4', 'breath_id__u_in__max', 'breath_id__u_in__mean',\n",
            "       'breath_id__u_in__diffmax', 'breath_id__u_in__diffmean', 'u_in_diff1',\n",
            "       'u_out_diff1', 'u_in_diff2', 'u_out_diff2', 'u_in_diff3', 'u_out_diff3',\n",
            "       'u_in_diff4', 'u_out_diff4', 'one', 'count', 'u_in_cummean',\n",
            "       'breath_id_lag', 'breath_id_lag2', 'breath_id_lagsame',\n",
            "       'breath_id_lag2same', 'breath_id__u_in_lag', 'breath_id__u_in_lag2',\n",
            "       'time_step_diff', 'ewm_u_in_mean', '15_in_sum', '15_in_min',\n",
            "       '15_in_max', '15_in_mean', 'u_in_lagback_diff1', 'u_out_lagback_diff1',\n",
            "       'u_in_lagback_diff2', 'u_out_lagback_diff2', 'R_str_20', 'R_str_5',\n",
            "       'R_str_50', 'C_str_10', 'C_str_20', 'C_str_50', 'R__C_20__10',\n",
            "       'R__C_20__20', 'R__C_20__50', 'R__C_50__10', 'R__C_50__20',\n",
            "       'R__C_50__50', 'R__C_5__10', 'R__C_5__20', 'R__C_5__50'],\n",
            "      dtype='object')\n",
            "(4828800, 75)\n"
          ]
        }
      ]
    },
    {
      "cell_type": "code",
      "source": [
        "# Drop the intermediate variables\n",
        "X_train = train.drop(['breath_id', 'Unnamed: 0', 'pressure', 'breath_id_lag', 'breath_id_lag2','breath_id_lagsame',\n",
        "            'breath_id_lag2same', 'one'], axis = 1)\n",
        "y_train = train[['pressure']]\n",
        "\n",
        "X_test = test.drop(['breath_id', 'Unnamed: 0', 'pressure', 'breath_id_lag', 'breath_id_lag2','breath_id_lagsame',\n",
        "            'breath_id_lag2same', 'one'], axis = 1)\n",
        "y_test = test[['pressure']]"
      ],
      "metadata": {
        "id": "BJCBfbFwZEPC"
      },
      "execution_count": null,
      "outputs": []
    },
    {
      "cell_type": "code",
      "source": [
        "print(X_train.columns)\n",
        "print(X_train.shape)\n",
        "print(y_train.columns)\n",
        "print(y_train.shape)"
      ],
      "metadata": {
        "colab": {
          "base_uri": "https://localhost:8080/"
        },
        "id": "lgsax7JtbrO6",
        "outputId": "fd800049-beeb-4979-b243-0bebef176b41"
      },
      "execution_count": null,
      "outputs": [
        {
          "output_type": "stream",
          "name": "stdout",
          "text": [
            "Index(['R', 'C', 'time_step', 'u_in', 'u_out', 'cross', 'cross2', 'area',\n",
            "       'time_step_cumsum', 'u_in_cumsum', 'u_in_lag1', 'u_out_lag1',\n",
            "       'u_in_lag_back1', 'u_out_lag_back1', 'u_in_lag2', 'u_out_lag2',\n",
            "       'u_in_lag_back2', 'u_out_lag_back2', 'u_in_lag3', 'u_out_lag3',\n",
            "       'u_in_lag_back3', 'u_out_lag_back3', 'u_in_lag4', 'u_out_lag4',\n",
            "       'u_in_lag_back4', 'u_out_lag_back4', 'breath_id__u_in__max',\n",
            "       'breath_id__u_in__mean', 'breath_id__u_in__diffmax',\n",
            "       'breath_id__u_in__diffmean', 'u_in_diff1', 'u_out_diff1', 'u_in_diff2',\n",
            "       'u_out_diff2', 'u_in_diff3', 'u_out_diff3', 'u_in_diff4', 'u_out_diff4',\n",
            "       'count', 'u_in_cummean', 'breath_id__u_in_lag', 'breath_id__u_in_lag2',\n",
            "       'time_step_diff', 'ewm_u_in_mean', '15_in_sum', '15_in_min',\n",
            "       '15_in_max', '15_in_mean', 'u_in_lagback_diff1', 'u_out_lagback_diff1',\n",
            "       'u_in_lagback_diff2', 'u_out_lagback_diff2', 'R_str_20', 'R_str_5',\n",
            "       'R_str_50', 'C_str_10', 'C_str_20', 'C_str_50', 'R__C_20__10',\n",
            "       'R__C_20__20', 'R__C_20__50', 'R__C_50__10', 'R__C_50__20',\n",
            "       'R__C_50__50', 'R__C_5__10', 'R__C_5__20', 'R__C_5__50'],\n",
            "      dtype='object')\n",
            "(4828800, 67)\n",
            "Index(['pressure'], dtype='object')\n",
            "(4828800, 1)\n"
          ]
        }
      ]
    },
    {
      "cell_type": "code",
      "source": [
        "RS = RobustScaler()\n",
        "X_train = RS.fit_transform(X_train.astype('float32'))\n",
        "X_test = RS.transform(X_test.astype('float32'))\n",
        "\n",
        "X_train = X_train.reshape(-1, 80, X_train.shape[-1])\n",
        "X_test = X_test.reshape(-1, 80, X_test.shape[-1])"
      ],
      "metadata": {
        "id": "8g_hh9O5-yYx"
      },
      "execution_count": null,
      "outputs": []
    },
    {
      "cell_type": "code",
      "source": [
        "y_train = y_train.to_numpy().reshape(-1, 80, 1)\n",
        "y_test = y_test.to_numpy().reshape(-1, 80, 1)"
      ],
      "metadata": {
        "id": "y0NaAG1F-4Pl"
      },
      "execution_count": null,
      "outputs": []
    },
    {
      "cell_type": "markdown",
      "source": [
        "## LSTM w/ Bottleneck w/o Activation"
      ],
      "metadata": {
        "id": "0vQ1DL5n_NHd"
      }
    },
    {
      "cell_type": "code",
      "source": [
        "input_train = Input(shape=(X_train.shape[1], X_train.shape[2]))\n",
        "output_train = Input(shape=(y_train.shape[1], y_train.shape[2]))\n",
        "print(input_train)\n",
        "print(output_train)"
      ],
      "metadata": {
        "colab": {
          "base_uri": "https://localhost:8080/"
        },
        "id": "LnOmWlFb9EtE",
        "outputId": "f1d92a44-4edc-4d64-8b0d-4a4074ecd9c7"
      },
      "execution_count": null,
      "outputs": [
        {
          "output_type": "stream",
          "name": "stdout",
          "text": [
            "KerasTensor(type_spec=TensorSpec(shape=(None, 80, 67), dtype=tf.float32, name='input_1'), name='input_1', description=\"created by layer 'input_1'\")\n",
            "KerasTensor(type_spec=TensorSpec(shape=(None, 80, 1), dtype=tf.float32, name='input_2'), name='input_2', description=\"created by layer 'input_2'\")\n"
          ]
        }
      ]
    },
    {
      "cell_type": "code",
      "source": [
        "# There's one additional rule of thumb that helps for supervised learning problems. \n",
        "# You can usually prevent over-fitting if you keep your number of neurons below:\n",
        "# N_hidden = N_sample_in_train (2 or 5-10) /(alpha * (#of input neurons + #of output neurons))\n",
        "\n",
        "n_hidden = 150"
      ],
      "metadata": {
        "id": "7H-SqIlz9Ev4"
      },
      "execution_count": null,
      "outputs": []
    },
    {
      "cell_type": "code",
      "source": [
        "# LSTM return_state=True + return_sequences=True value:\n",
        "# In this situation, LSTM layer returns 3 results:\n",
        "# (as return_sequences=True)\n",
        "# the hidden states for each input time step,\n",
        "# (as return_state=True) 2. the hidden state output for the last time step and 3. the cell state for the last time step.\n",
        "\n",
        "encoder_all_state_h1, encoder_h1, encoder_c1 = LSTM(n_hidden, \n",
        "                                                # this will, in fact, will be a dropout rate of 0.2 (set 20% of inputs to zero).\n",
        "                                                #dropout=0.2, recurrent_dropout=0.2, activation='gelu', \n",
        "    return_state=True, return_sequences=True)(input_train)\n",
        "\n",
        "#encoder_h1 = BatchNormalization(momentum=0.9)(encoder_h1)\n",
        "#encoder_c1 = BatchNormalization(momentum=0.9)(encoder_c1)\n",
        "\n",
        "print(encoder_all_state_h1)\n",
        "print(encoder_h1)\n",
        "print(encoder_c1)"
      ],
      "metadata": {
        "colab": {
          "base_uri": "https://localhost:8080/"
        },
        "id": "9KuJdD0G9Ey5",
        "outputId": "502eedbe-0bee-402d-c22f-b1ebcae3effe"
      },
      "execution_count": null,
      "outputs": [
        {
          "output_type": "stream",
          "name": "stdout",
          "text": [
            "KerasTensor(type_spec=TensorSpec(shape=(None, 80, 150), dtype=tf.float32, name=None), name='lstm/PartitionedCall:1', description=\"created by layer 'lstm'\")\n",
            "KerasTensor(type_spec=TensorSpec(shape=(None, 150), dtype=tf.float32, name=None), name='lstm/PartitionedCall:2', description=\"created by layer 'lstm'\")\n",
            "KerasTensor(type_spec=TensorSpec(shape=(None, 150), dtype=tf.float32, name=None), name='lstm/PartitionedCall:3', description=\"created by layer 'lstm'\")\n"
          ]
        }
      ]
    },
    {
      "cell_type": "code",
      "source": [
        "encoder_all_state_h2, encoder_h2, encoder_c2 = LSTM(n_hidden, \n",
        "                                                #dropout=0.2, recurrent_dropout=0.2, \n",
        "    return_state=True, return_sequences=True)(encoder_all_state_h1)\n",
        "\n",
        "#encoder_h2 = BatchNormalization(momentum=0.9)(encoder_h2)\n",
        "#encoder_c2 = BatchNormalization(momentum=0.9)(encoder_c2)\n",
        "\n",
        "print(encoder_all_state_h2)\n",
        "print(encoder_h2)\n",
        "print(encoder_c2)"
      ],
      "metadata": {
        "colab": {
          "base_uri": "https://localhost:8080/"
        },
        "id": "h-9ee72I9E2g",
        "outputId": "f6d0ebaa-2600-4ba5-9042-5d5c84fb94a1"
      },
      "execution_count": null,
      "outputs": [
        {
          "output_type": "stream",
          "name": "stdout",
          "text": [
            "KerasTensor(type_spec=TensorSpec(shape=(None, 80, 150), dtype=tf.float32, name=None), name='lstm_1/PartitionedCall:1', description=\"created by layer 'lstm_1'\")\n",
            "KerasTensor(type_spec=TensorSpec(shape=(None, 150), dtype=tf.float32, name=None), name='lstm_1/PartitionedCall:2', description=\"created by layer 'lstm_1'\")\n",
            "KerasTensor(type_spec=TensorSpec(shape=(None, 150), dtype=tf.float32, name=None), name='lstm_1/PartitionedCall:3', description=\"created by layer 'lstm_1'\")\n"
          ]
        }
      ]
    },
    {
      "cell_type": "code",
      "source": [
        "encoder_all_state_h3, encoder_h3, encoder_c3 = LSTM(n_hidden, \n",
        "                                                #dropout=0.2, recurrent_dropout=0.2, \n",
        "    return_state=True, return_sequences=True)(encoder_all_state_h2)\n",
        "\n",
        "#encoder_h3 = BatchNormalization(momentum=0.9)(encoder_h3)\n",
        "#encoder_c3 = BatchNormalization(momentum=0.9)(encoder_c3)\n",
        "\n",
        "print(encoder_all_state_h3)\n",
        "print(encoder_h3)\n",
        "print(encoder_c3)"
      ],
      "metadata": {
        "colab": {
          "base_uri": "https://localhost:8080/"
        },
        "id": "LfFic35F9E6a",
        "outputId": "122776e0-9eca-4bee-b2da-94af676b9996"
      },
      "execution_count": null,
      "outputs": [
        {
          "output_type": "stream",
          "name": "stdout",
          "text": [
            "KerasTensor(type_spec=TensorSpec(shape=(None, 80, 150), dtype=tf.float32, name=None), name='lstm_2/PartitionedCall:1', description=\"created by layer 'lstm_2'\")\n",
            "KerasTensor(type_spec=TensorSpec(shape=(None, 150), dtype=tf.float32, name=None), name='lstm_2/PartitionedCall:2', description=\"created by layer 'lstm_2'\")\n",
            "KerasTensor(type_spec=TensorSpec(shape=(None, 150), dtype=tf.float32, name=None), name='lstm_2/PartitionedCall:3', description=\"created by layer 'lstm_2'\")\n"
          ]
        }
      ]
    },
    {
      "cell_type": "code",
      "source": [
        "encoder_h3 = BatchNormalization(momentum=0.9)(encoder_h3)\n",
        "encoder_c3 = BatchNormalization(momentum=0.9)(encoder_c3)"
      ],
      "metadata": {
        "id": "NDhap0lF923Q"
      },
      "execution_count": null,
      "outputs": []
    },
    {
      "cell_type": "code",
      "source": [
        "# The Decoder LSTM, Next, we repeat the last hidden state of encoder 80 times, and use them as input to decoder LSTM.\n",
        "decoder_input = RepeatVector(output_train.shape[1])(encoder_h3)\n",
        "print(decoder_input)"
      ],
      "metadata": {
        "colab": {
          "base_uri": "https://localhost:8080/"
        },
        "id": "LEC-p4dB93AL",
        "outputId": "950de7b1-ae6a-4c40-c562-b105278a5c25"
      },
      "execution_count": null,
      "outputs": [
        {
          "output_type": "stream",
          "name": "stdout",
          "text": [
            "KerasTensor(type_spec=TensorSpec(shape=(None, 80, 150), dtype=tf.float32, name=None), name='repeat_vector/Tile:0', description=\"created by layer 'repeat_vector'\")\n"
          ]
        }
      ]
    },
    {
      "cell_type": "code",
      "source": [
        "# First decoder layer\n",
        "decoder_all_state_h1, decoder_h1, decoder_c1  = LSTM(n_hidden, \n",
        "                                                 #dropout=0.2, recurrent_dropout=0.2,\n",
        " return_state=True, return_sequences=True)(\n",
        " decoder_input, initial_state = [encoder_h1, encoder_c1])\n",
        "\n",
        "#decoder_h1 = BatchNormalization(momentum=0.9)(decoder_h1)\n",
        "#decoder_c1 = BatchNormalization(momentum=0.9)(decoder_c1)\n",
        "\n",
        "print(decoder_all_state_h1)\n",
        "print(decoder_h1)\n",
        "print(decoder_c1)"
      ],
      "metadata": {
        "colab": {
          "base_uri": "https://localhost:8080/"
        },
        "id": "FmlgK6GL95wJ",
        "outputId": "19ffedeb-11d5-4b6c-ca7b-220bd5662c72"
      },
      "execution_count": null,
      "outputs": [
        {
          "output_type": "stream",
          "name": "stdout",
          "text": [
            "KerasTensor(type_spec=TensorSpec(shape=(None, 80, 150), dtype=tf.float32, name=None), name='lstm_3/PartitionedCall:1', description=\"created by layer 'lstm_3'\")\n",
            "KerasTensor(type_spec=TensorSpec(shape=(None, 150), dtype=tf.float32, name=None), name='lstm_3/PartitionedCall:2', description=\"created by layer 'lstm_3'\")\n",
            "KerasTensor(type_spec=TensorSpec(shape=(None, 150), dtype=tf.float32, name=None), name='lstm_3/PartitionedCall:3', description=\"created by layer 'lstm_3'\")\n"
          ]
        }
      ]
    },
    {
      "cell_type": "code",
      "source": [
        "# Second decoder layer\n",
        "decoder_all_state_h2, decoder_h2, decoder_c2 = LSTM(n_hidden, \n",
        "                                                #dropout=0.2, recurrent_dropout=0.2,\n",
        " return_state=True, return_sequences=True)(\n",
        " decoder_all_state_h1, initial_state = [encoder_h2, encoder_c2])\n",
        "\n",
        "#decoder_h2 = BatchNormalization(momentum=0.9)(decoder_h2)\n",
        "#decoder_c2 = BatchNormalization(momentum=0.9)(decoder_c2)\n",
        "\n",
        "print(decoder_all_state_h2)\n",
        "print(decoder_h2)\n",
        "print(decoder_c2)"
      ],
      "metadata": {
        "colab": {
          "base_uri": "https://localhost:8080/"
        },
        "id": "Hthcvxeq95y3",
        "outputId": "fab3e244-78e4-4f34-a293-3589dbe5dab0"
      },
      "execution_count": null,
      "outputs": [
        {
          "output_type": "stream",
          "name": "stdout",
          "text": [
            "KerasTensor(type_spec=TensorSpec(shape=(None, 80, 150), dtype=tf.float32, name=None), name='lstm_4/PartitionedCall:1', description=\"created by layer 'lstm_4'\")\n",
            "KerasTensor(type_spec=TensorSpec(shape=(None, 150), dtype=tf.float32, name=None), name='lstm_4/PartitionedCall:2', description=\"created by layer 'lstm_4'\")\n",
            "KerasTensor(type_spec=TensorSpec(shape=(None, 150), dtype=tf.float32, name=None), name='lstm_4/PartitionedCall:3', description=\"created by layer 'lstm_4'\")\n"
          ]
        }
      ]
    },
    {
      "cell_type": "code",
      "source": [
        "# Third decoder layer\n",
        "decoder_all_state_h3 = LSTM(n_hidden, \n",
        "                                                #dropout=0.2, recurrent_dropout=0.2,\n",
        " return_state=False, return_sequences=True)(\n",
        " decoder_all_state_h2, initial_state = [encoder_h3, encoder_c3])\n",
        "\n",
        "print(decoder_all_state_h3)"
      ],
      "metadata": {
        "colab": {
          "base_uri": "https://localhost:8080/"
        },
        "id": "KBRiRBd4953h",
        "outputId": "0bdb26e7-ed38-4bd8-ef13-e75680747401"
      },
      "execution_count": null,
      "outputs": [
        {
          "output_type": "stream",
          "name": "stdout",
          "text": [
            "KerasTensor(type_spec=TensorSpec(shape=(None, 80, 150), dtype=tf.float32, name=None), name='lstm_5/PartitionedCall:1', description=\"created by layer 'lstm_5'\")\n"
          ]
        }
      ]
    },
    {
      "cell_type": "code",
      "source": [
        "out = TimeDistributed(Dense(output_train.shape[2]))(decoder_all_state_h3)"
      ],
      "metadata": {
        "id": "A-PzpB5P9-Lp"
      },
      "execution_count": null,
      "outputs": []
    },
    {
      "cell_type": "code",
      "source": [
        "Seq2seqLSTM = Model(input_train, out)\n",
        "# Gradient Norm Scaling changes the derivatives of the loss function to have a given vector norm when the L2 vector norm (sum of the squared values) of the gradient vector exceeds a threshold value. \n",
        "# For example, we could specify a norm of 1.0, meaning that if the vector norm for a gradient exceeds 1.0, then the values in the vector will be rescaled so that the norm of the vector equals 1.0.\n",
        "#opt = Adam()\n",
        "opt = Adam(lr=0.001, clipnorm=1)\n",
        "Seq2seqLSTM.compile(loss='mae', optimizer=opt, metrics=['mae'])\n",
        "Seq2seqLSTM.summary()"
      ],
      "metadata": {
        "colab": {
          "base_uri": "https://localhost:8080/"
        },
        "id": "Xl1oOfiT9-PH",
        "outputId": "385dc190-c87a-411e-fa0f-54ee2577555d"
      },
      "execution_count": null,
      "outputs": [
        {
          "output_type": "stream",
          "name": "stdout",
          "text": [
            "Model: \"model\"\n",
            "__________________________________________________________________________________________________\n",
            " Layer (type)                   Output Shape         Param #     Connected to                     \n",
            "==================================================================================================\n",
            " input_1 (InputLayer)           [(None, 80, 67)]     0           []                               \n",
            "                                                                                                  \n",
            " lstm (LSTM)                    [(None, 80, 150),    130800      ['input_1[0][0]']                \n",
            "                                 (None, 150),                                                     \n",
            "                                 (None, 150)]                                                     \n",
            "                                                                                                  \n",
            " lstm_1 (LSTM)                  [(None, 80, 150),    180600      ['lstm[0][0]']                   \n",
            "                                 (None, 150),                                                     \n",
            "                                 (None, 150)]                                                     \n",
            "                                                                                                  \n",
            " lstm_2 (LSTM)                  [(None, 80, 150),    180600      ['lstm_1[0][0]']                 \n",
            "                                 (None, 150),                                                     \n",
            "                                 (None, 150)]                                                     \n",
            "                                                                                                  \n",
            " batch_normalization (BatchNorm  (None, 150)         600         ['lstm_2[0][1]']                 \n",
            " alization)                                                                                       \n",
            "                                                                                                  \n",
            " repeat_vector (RepeatVector)   (None, 80, 150)      0           ['batch_normalization[0][0]']    \n",
            "                                                                                                  \n",
            " lstm_3 (LSTM)                  [(None, 80, 150),    180600      ['repeat_vector[0][0]',          \n",
            "                                 (None, 150),                     'lstm[0][1]',                   \n",
            "                                 (None, 150)]                     'lstm[0][2]']                   \n",
            "                                                                                                  \n",
            " lstm_4 (LSTM)                  [(None, 80, 150),    180600      ['lstm_3[0][0]',                 \n",
            "                                 (None, 150),                     'lstm_1[0][1]',                 \n",
            "                                 (None, 150)]                     'lstm_1[0][2]']                 \n",
            "                                                                                                  \n",
            " batch_normalization_1 (BatchNo  (None, 150)         600         ['lstm_2[0][2]']                 \n",
            " rmalization)                                                                                     \n",
            "                                                                                                  \n",
            " lstm_5 (LSTM)                  (None, 80, 150)      180600      ['lstm_4[0][0]',                 \n",
            "                                                                  'batch_normalization[0][0]',    \n",
            "                                                                  'batch_normalization_1[0][0]']  \n",
            "                                                                                                  \n",
            " time_distributed (TimeDistribu  (None, 80, 1)       151         ['lstm_5[0][0]']                 \n",
            " ted)                                                                                             \n",
            "                                                                                                  \n",
            "==================================================================================================\n",
            "Total params: 1,035,151\n",
            "Trainable params: 1,034,551\n",
            "Non-trainable params: 600\n",
            "__________________________________________________________________________________________________\n"
          ]
        },
        {
          "output_type": "stream",
          "name": "stderr",
          "text": [
            "/usr/local/lib/python3.7/dist-packages/keras/optimizer_v2/adam.py:105: UserWarning: The `lr` argument is deprecated, use `learning_rate` instead.\n",
            "  super(Adam, self).__init__(name, **kwargs)\n"
          ]
        }
      ]
    },
    {
      "cell_type": "code",
      "source": [
        "epc = 50\n",
        "# patience: Number of epochs with no improvement after which training will be stopped\n",
        "\n",
        "# Optimal Batch Size, in most cases, an optimal batch-size is 64.\n",
        "reduce_lr = LearningRateScheduler(lambda x: 1e-3 * 0.90 ** x)\n",
        "es = EarlyStopping(monitor='val_loss', mode='min', patience = 10)\n",
        "history = Seq2seqLSTM.fit(X_train[:, :, :], y_train[:, :, :], validation_split = 0.2, \n",
        "                    epochs = epc, verbose = 1, callbacks = [es], batch_size = 64)\n",
        "train_mae = history.history['mae']\n",
        "valid_mae = history.history['val_mae']\n",
        " \n",
        "Seq2seqLSTM.save('model_forecasting_seq2seq.h5')"
      ],
      "metadata": {
        "colab": {
          "base_uri": "https://localhost:8080/"
        },
        "id": "9wWfMZJd9-UO",
        "outputId": "f23fef27-f904-4c61-fb13-e35198717ba2"
      },
      "execution_count": null,
      "outputs": [
        {
          "output_type": "stream",
          "name": "stdout",
          "text": [
            "Epoch 1/50\n",
            "755/755 [==============================] - 42s 39ms/step - loss: 1.7473 - mae: 1.7473 - val_loss: 1.3908 - val_mae: 1.3908\n",
            "Epoch 2/50\n",
            "755/755 [==============================] - 27s 36ms/step - loss: 0.9709 - mae: 0.9709 - val_loss: 0.9729 - val_mae: 0.9729\n",
            "Epoch 3/50\n",
            "755/755 [==============================] - 27s 35ms/step - loss: 0.8469 - mae: 0.8469 - val_loss: 0.8761 - val_mae: 0.8761\n",
            "Epoch 4/50\n",
            "755/755 [==============================] - 27s 35ms/step - loss: 0.7735 - mae: 0.7735 - val_loss: 0.7766 - val_mae: 0.7766\n",
            "Epoch 5/50\n",
            "755/755 [==============================] - 27s 36ms/step - loss: 0.7302 - mae: 0.7302 - val_loss: 0.7991 - val_mae: 0.7991\n",
            "Epoch 6/50\n",
            "755/755 [==============================] - 27s 36ms/step - loss: 0.6822 - mae: 0.6822 - val_loss: 1.0331 - val_mae: 1.0331\n",
            "Epoch 7/50\n",
            "755/755 [==============================] - 28s 37ms/step - loss: 0.6429 - mae: 0.6429 - val_loss: 0.7315 - val_mae: 0.7315\n",
            "Epoch 8/50\n",
            "755/755 [==============================] - 27s 36ms/step - loss: 0.5955 - mae: 0.5955 - val_loss: 0.6189 - val_mae: 0.6189\n",
            "Epoch 9/50\n",
            "755/755 [==============================] - 27s 36ms/step - loss: 0.5606 - mae: 0.5606 - val_loss: 0.6200 - val_mae: 0.6200\n",
            "Epoch 10/50\n",
            "755/755 [==============================] - 27s 36ms/step - loss: 0.5196 - mae: 0.5196 - val_loss: 0.5702 - val_mae: 0.5702\n",
            "Epoch 11/50\n",
            "755/755 [==============================] - 27s 36ms/step - loss: 0.4992 - mae: 0.4992 - val_loss: 0.6001 - val_mae: 0.6001\n",
            "Epoch 12/50\n",
            "755/755 [==============================] - 27s 36ms/step - loss: 0.4878 - mae: 0.4878 - val_loss: 0.4966 - val_mae: 0.4966\n",
            "Epoch 13/50\n",
            "755/755 [==============================] - 27s 36ms/step - loss: 0.4722 - mae: 0.4722 - val_loss: 0.6246 - val_mae: 0.6246\n",
            "Epoch 14/50\n",
            "755/755 [==============================] - 27s 36ms/step - loss: 0.4715 - mae: 0.4715 - val_loss: 0.4847 - val_mae: 0.4847\n",
            "Epoch 15/50\n",
            "755/755 [==============================] - 27s 36ms/step - loss: 0.4557 - mae: 0.4557 - val_loss: 0.4699 - val_mae: 0.4699\n",
            "Epoch 16/50\n",
            "755/755 [==============================] - 27s 36ms/step - loss: 0.4406 - mae: 0.4406 - val_loss: 0.4452 - val_mae: 0.4452\n",
            "Epoch 17/50\n",
            "755/755 [==============================] - 27s 36ms/step - loss: 0.4300 - mae: 0.4300 - val_loss: 0.4774 - val_mae: 0.4774\n",
            "Epoch 18/50\n",
            "755/755 [==============================] - 27s 36ms/step - loss: 0.4331 - mae: 0.4331 - val_loss: 0.4842 - val_mae: 0.4842\n",
            "Epoch 19/50\n",
            "755/755 [==============================] - 27s 36ms/step - loss: 0.4272 - mae: 0.4272 - val_loss: 0.4450 - val_mae: 0.4450\n",
            "Epoch 20/50\n",
            "755/755 [==============================] - 27s 36ms/step - loss: 0.4165 - mae: 0.4165 - val_loss: 0.4382 - val_mae: 0.4382\n",
            "Epoch 21/50\n",
            "755/755 [==============================] - 27s 36ms/step - loss: 0.4137 - mae: 0.4137 - val_loss: 0.4241 - val_mae: 0.4241\n",
            "Epoch 22/50\n",
            "755/755 [==============================] - 27s 36ms/step - loss: 0.4022 - mae: 0.4022 - val_loss: 0.4010 - val_mae: 0.4010\n",
            "Epoch 23/50\n",
            "755/755 [==============================] - 28s 36ms/step - loss: 0.3974 - mae: 0.3974 - val_loss: 0.4344 - val_mae: 0.4344\n",
            "Epoch 24/50\n",
            "755/755 [==============================] - 28s 37ms/step - loss: 0.3946 - mae: 0.3946 - val_loss: 0.7280 - val_mae: 0.7280\n",
            "Epoch 25/50\n",
            "755/755 [==============================] - 31s 41ms/step - loss: 0.4029 - mae: 0.4029 - val_loss: 0.4240 - val_mae: 0.4240\n",
            "Epoch 26/50\n",
            "755/755 [==============================] - 30s 40ms/step - loss: 0.3875 - mae: 0.3875 - val_loss: 0.4277 - val_mae: 0.4277\n",
            "Epoch 27/50\n",
            "755/755 [==============================] - 27s 36ms/step - loss: 0.3804 - mae: 0.3804 - val_loss: 0.4058 - val_mae: 0.4058\n",
            "Epoch 28/50\n",
            "755/755 [==============================] - 27s 36ms/step - loss: 0.3789 - mae: 0.3789 - val_loss: 0.3882 - val_mae: 0.3882\n",
            "Epoch 29/50\n",
            "755/755 [==============================] - 29s 38ms/step - loss: 0.3769 - mae: 0.3769 - val_loss: 0.3867 - val_mae: 0.3867\n",
            "Epoch 30/50\n",
            "755/755 [==============================] - 27s 36ms/step - loss: 0.3676 - mae: 0.3676 - val_loss: 0.3932 - val_mae: 0.3932\n",
            "Epoch 31/50\n",
            "755/755 [==============================] - 27s 36ms/step - loss: 0.3666 - mae: 0.3666 - val_loss: 0.4027 - val_mae: 0.4027\n",
            "Epoch 32/50\n",
            "755/755 [==============================] - 28s 37ms/step - loss: 0.3667 - mae: 0.3667 - val_loss: 0.4470 - val_mae: 0.4470\n",
            "Epoch 33/50\n",
            "755/755 [==============================] - 28s 37ms/step - loss: 0.3632 - mae: 0.3632 - val_loss: 0.3961 - val_mae: 0.3961\n",
            "Epoch 34/50\n",
            "755/755 [==============================] - 27s 36ms/step - loss: 0.3553 - mae: 0.3553 - val_loss: 0.3977 - val_mae: 0.3977\n",
            "Epoch 35/50\n",
            "755/755 [==============================] - 27s 36ms/step - loss: 0.3548 - mae: 0.3548 - val_loss: 0.4355 - val_mae: 0.4355\n",
            "Epoch 36/50\n",
            "755/755 [==============================] - 28s 36ms/step - loss: 0.3517 - mae: 0.3517 - val_loss: 0.3610 - val_mae: 0.3610\n",
            "Epoch 37/50\n",
            "755/755 [==============================] - 27s 36ms/step - loss: 0.3503 - mae: 0.3503 - val_loss: 0.3852 - val_mae: 0.3852\n",
            "Epoch 38/50\n",
            "755/755 [==============================] - 27s 36ms/step - loss: 0.3499 - mae: 0.3499 - val_loss: 0.3971 - val_mae: 0.3971\n",
            "Epoch 39/50\n",
            "755/755 [==============================] - 27s 36ms/step - loss: 0.3458 - mae: 0.3458 - val_loss: 0.3634 - val_mae: 0.3634\n",
            "Epoch 40/50\n",
            "755/755 [==============================] - 28s 37ms/step - loss: 0.3462 - mae: 0.3462 - val_loss: 0.4827 - val_mae: 0.4827\n",
            "Epoch 41/50\n",
            "755/755 [==============================] - 27s 36ms/step - loss: 0.3415 - mae: 0.3415 - val_loss: 0.3587 - val_mae: 0.3587\n",
            "Epoch 42/50\n",
            "755/755 [==============================] - 28s 36ms/step - loss: 0.3387 - mae: 0.3387 - val_loss: 0.3677 - val_mae: 0.3677\n",
            "Epoch 43/50\n",
            "755/755 [==============================] - 27s 36ms/step - loss: 0.3398 - mae: 0.3398 - val_loss: 0.3644 - val_mae: 0.3644\n",
            "Epoch 44/50\n",
            "755/755 [==============================] - 27s 36ms/step - loss: 0.3335 - mae: 0.3335 - val_loss: 0.3388 - val_mae: 0.3388\n",
            "Epoch 45/50\n",
            "755/755 [==============================] - 27s 36ms/step - loss: 0.3316 - mae: 0.3316 - val_loss: 0.3727 - val_mae: 0.3727\n",
            "Epoch 46/50\n",
            "755/755 [==============================] - 27s 36ms/step - loss: 0.3450 - mae: 0.3450 - val_loss: 0.3498 - val_mae: 0.3498\n",
            "Epoch 47/50\n",
            "755/755 [==============================] - 27s 36ms/step - loss: 0.3237 - mae: 0.3237 - val_loss: 0.3372 - val_mae: 0.3372\n",
            "Epoch 48/50\n",
            "755/755 [==============================] - 27s 36ms/step - loss: 0.3297 - mae: 0.3297 - val_loss: 0.3352 - val_mae: 0.3352\n",
            "Epoch 49/50\n",
            "755/755 [==============================] - 27s 36ms/step - loss: 0.3247 - mae: 0.3247 - val_loss: 0.3605 - val_mae: 0.3605\n",
            "Epoch 50/50\n",
            "755/755 [==============================] - 27s 36ms/step - loss: 0.3340 - mae: 0.3340 - val_loss: 0.3529 - val_mae: 0.3529\n"
          ]
        }
      ]
    },
    {
      "cell_type": "code",
      "source": [
        "plt.plot(train_mae, linewidth=2, label='Train mae'), \n",
        "plt.plot(valid_mae, linewidth=2, label='Validation mae')\n",
        "plt.ylabel('MAE')\n",
        "plt.xlabel('Epochs')\n",
        "plt.title('Train vs. Validation Accuracy (mae)')\n",
        "plt.legend(loc='upper right')\n",
        "plt.savefig(\"LSTM1_val.png\")\n",
        "plt.show()"
      ],
      "metadata": {
        "id": "QcOFKRmk957M",
        "colab": {
          "base_uri": "https://localhost:8080/",
          "height": 295
        },
        "outputId": "49ca7c63-f5b9-4aae-d24d-3739d2683e3e"
      },
      "execution_count": null,
      "outputs": [
        {
          "output_type": "display_data",
          "data": {
            "text/plain": [
              "<Figure size 432x288 with 1 Axes>"
            ],
            "image/png": "[encoded data removed]"
          },
          "metadata": {
            "needs_background": "light"
          }
        }
      ]
    },
    {
      "cell_type": "code",
      "source": [
        "files.download(\"LSTM1_val.png\") "
      ],
      "metadata": {
        "colab": {
          "base_uri": "https://localhost:8080/",
          "height": 17
        },
        "id": "uGMmj8asmShG",
        "outputId": "bb1564aa-2fd9-40e0-d00d-9fd6693d2540"
      },
      "execution_count": null,
      "outputs": [
        {
          "output_type": "display_data",
          "data": {
            "text/plain": [
              "<IPython.core.display.Javascript object>"
            ],
            "application/javascript": [
              "\n",
              "    async function download(id, filename, size) {\n",
              "      if (!google.colab.kernel.accessAllowed) {\n",
              "        return;\n",
              "      }\n",
              "      const div = document.createElement('div');\n",
              "      const label = document.createElement('label');\n",
              "      label.textContent = `Downloading \"${filename}\": `;\n",
              "      div.appendChild(label);\n",
              "      const progress = document.createElement('progress');\n",
              "      progress.max = size;\n",
              "      div.appendChild(progress);\n",
              "      document.body.appendChild(div);\n",
              "\n",
              "      const buffers = [];\n",
              "      let downloaded = 0;\n",
              "\n",
              "      const channel = await google.colab.kernel.comms.open(id);\n",
              "      // Send a message to notify the kernel that we're ready.\n",
              "      channel.send({})\n",
              "\n",
              "      for await (const message of channel.messages) {\n",
              "        // Send a message to notify the kernel that we're ready.\n",
              "        channel.send({})\n",
              "        if (message.buffers) {\n",
              "          for (const buffer of message.buffers) {\n",
              "            buffers.push(buffer);\n",
              "            downloaded += buffer.byteLength;\n",
              "            progress.value = downloaded;\n",
              "          }\n",
              "        }\n",
              "      }\n",
              "      const blob = new Blob(buffers, {type: 'application/binary'});\n",
              "      const a = document.createElement('a');\n",
              "      a.href = window.URL.createObjectURL(blob);\n",
              "      a.download = filename;\n",
              "      div.appendChild(a);\n",
              "      a.click();\n",
              "      div.remove();\n",
              "    }\n",
              "  "
            ]
          },
          "metadata": {}
        },
        {
          "output_type": "display_data",
          "data": {
            "text/plain": [
              "<IPython.core.display.Javascript object>"
            ],
            "application/javascript": [
              "download(\"download_7aebb45a-eea5-41c8-bdcd-822eb83fcd14\", \"LSTM1_val.png\", 20325)"
            ]
          },
          "metadata": {}
        }
      ]
    },
    {
      "cell_type": "code",
      "source": [
        "X_test_pred = Seq2seqLSTM.predict(X_test)\n",
        "LSTM_pred_mae = np.mean(np.abs(X_test_pred - y_test), axis = 1)\n",
        "LSTM_pred_mae.shape"
      ],
      "metadata": {
        "colab": {
          "base_uri": "https://localhost:8080/"
        },
        "id": "t7h6rbiu66q6",
        "outputId": "12af1f9c-fb93-4b46-f86a-7194ac7b3b6d"
      },
      "execution_count": null,
      "outputs": [
        {
          "output_type": "execute_result",
          "data": {
            "text/plain": [
              "(15090, 1)"
            ]
          },
          "metadata": {},
          "execution_count": 37
        }
      ]
    },
    {
      "cell_type": "code",
      "source": [
        "plt.plot(X_test_pred[0,:], label='Predicted')\n",
        "plt.plot(y_test[0,:], label='Actual')\n",
        "plt.xlabel(\"Timestamp\")\n",
        "plt.ylabel(\"Pressure\")\n",
        "plt.legend()\n",
        "plt.title(\"Sample Patient Pressure Prediction LSTM\")\n",
        "plt.savefig(\"LSTM1_pred.png\")\n",
        "plt.show()\n",
        "files.download(\"LSTM1_pred.png\") "
      ],
      "metadata": {
        "colab": {
          "base_uri": "https://localhost:8080/",
          "height": 295
        },
        "id": "DpKbMbiQ67bc",
        "outputId": "9f1a83fe-1128-4dc4-d30b-41b456547f34"
      },
      "execution_count": null,
      "outputs": [
        {
          "output_type": "display_data",
          "data": {
            "text/plain": [
              "<Figure size 432x288 with 1 Axes>"
            ],
            "image/png": "[encoded data removed]"
          },
          "metadata": {
            "needs_background": "light"
          }
        },
        {
          "output_type": "display_data",
          "data": {
            "text/plain": [
              "<IPython.core.display.Javascript object>"
            ],
            "application/javascript": [
              "\n",
              "    async function download(id, filename, size) {\n",
              "      if (!google.colab.kernel.accessAllowed) {\n",
              "        return;\n",
              "      }\n",
              "      const div = document.createElement('div');\n",
              "      const label = document.createElement('label');\n",
              "      label.textContent = `Downloading \"${filename}\": `;\n",
              "      div.appendChild(label);\n",
              "      const progress = document.createElement('progress');\n",
              "      progress.max = size;\n",
              "      div.appendChild(progress);\n",
              "      document.body.appendChild(div);\n",
              "\n",
              "      const buffers = [];\n",
              "      let downloaded = 0;\n",
              "\n",
              "      const channel = await google.colab.kernel.comms.open(id);\n",
              "      // Send a message to notify the kernel that we're ready.\n",
              "      channel.send({})\n",
              "\n",
              "      for await (const message of channel.messages) {\n",
              "        // Send a message to notify the kernel that we're ready.\n",
              "        channel.send({})\n",
              "        if (message.buffers) {\n",
              "          for (const buffer of message.buffers) {\n",
              "            buffers.push(buffer);\n",
              "            downloaded += buffer.byteLength;\n",
              "            progress.value = downloaded;\n",
              "          }\n",
              "        }\n",
              "      }\n",
              "      const blob = new Blob(buffers, {type: 'application/binary'});\n",
              "      const a = document.createElement('a');\n",
              "      a.href = window.URL.createObjectURL(blob);\n",
              "      a.download = filename;\n",
              "      div.appendChild(a);\n",
              "      a.click();\n",
              "      div.remove();\n",
              "    }\n",
              "  "
            ]
          },
          "metadata": {}
        },
        {
          "output_type": "display_data",
          "data": {
            "text/plain": [
              "<IPython.core.display.Javascript object>"
            ],
            "application/javascript": [
              "download(\"download_38ba49eb-f75b-4575-a72e-3dd04abfb759\", \"LSTM1_pred.png\", 23156)"
            ]
          },
          "metadata": {}
        }
      ]
    },
    {
      "cell_type": "code",
      "source": [
        "pred_mae = test[[\"R\",\"C\"]][test.index % 80 == 0] \n",
        "pred_mae[\"mae\"] = LSTM_pred_mae\n",
        "pred_mae.groupby(['R', 'C']).mean()"
      ],
      "metadata": {
        "colab": {
          "base_uri": "https://localhost:8080/",
          "height": 359
        },
        "id": "0JHFMdu567gE",
        "outputId": "85bc9eed-3675-4518-df3a-58f912ae07c9"
      },
      "execution_count": null,
      "outputs": [
        {
          "output_type": "execute_result",
          "data": {
            "text/plain": [
              "            mae\n",
              "R  C           \n",
              "5  10  0.269214\n",
              "   20  0.254860\n",
              "   50  0.274287\n",
              "20 10  0.277126\n",
              "   20  0.306025\n",
              "   50  0.363709\n",
              "50 10  0.358561\n",
              "   20  0.503332\n",
              "   50  0.528446"
            ],
            "text/html": [
              "\n",
              "  <div id=\"df-702365ba-810c-42f5-8f08-38b6e44878b5\">\n",
              "    <div class=\"colab-df-container\">\n",
              "      <div>\n",
              "<style scoped>\n",
              "    .dataframe tbody tr th:only-of-type {\n",
              "        vertical-align: middle;\n",
              "    }\n",
              "\n",
              "    .dataframe tbody tr th {\n",
              "        vertical-align: top;\n",
              "    }\n",
              "\n",
              "    .dataframe thead th {\n",
              "        text-align: right;\n",
              "    }\n",
              "</style>\n",
              "<table border=\"1\" class=\"dataframe\">\n",
              "  <thead>\n",
              "    <tr style=\"text-align: right;\">\n",
              "      <th></th>\n",
              "      <th></th>\n",
              "      <th>mae</th>\n",
              "    </tr>\n",
              "    <tr>\n",
              "      <th>R</th>\n",
              "      <th>C</th>\n",
              "      <th></th>\n",
              "    </tr>\n",
              "  </thead>\n",
              "  <tbody>\n",
              "    <tr>\n",
              "      <th rowspan=\"3\" valign=\"top\">5</th>\n",
              "      <th>10</th>\n",
              "      <td>0.269214</td>\n",
              "    </tr>\n",
              "    <tr>\n",
              "      <th>20</th>\n",
              "      <td>0.254860</td>\n",
              "    </tr>\n",
              "    <tr>\n",
              "      <th>50</th>\n",
              "      <td>0.274287</td>\n",
              "    </tr>\n",
              "    <tr>\n",
              "      <th rowspan=\"3\" valign=\"top\">20</th>\n",
              "      <th>10</th>\n",
              "      <td>0.277126</td>\n",
              "    </tr>\n",
              "    <tr>\n",
              "      <th>20</th>\n",
              "      <td>0.306025</td>\n",
              "    </tr>\n",
              "    <tr>\n",
              "      <th>50</th>\n",
              "      <td>0.363709</td>\n",
              "    </tr>\n",
              "    <tr>\n",
              "      <th rowspan=\"3\" valign=\"top\">50</th>\n",
              "      <th>10</th>\n",
              "      <td>0.358561</td>\n",
              "    </tr>\n",
              "    <tr>\n",
              "      <th>20</th>\n",
              "      <td>0.503332</td>\n",
              "    </tr>\n",
              "    <tr>\n",
              "      <th>50</th>\n",
              "      <td>0.528446</td>\n",
              "    </tr>\n",
              "  </tbody>\n",
              "</table>\n",
              "</div>\n",
              "      <button class=\"colab-df-convert\" onclick=\"convertToInteractive('df-702365ba-810c-42f5-8f08-38b6e44878b5')\"\n",
              "              title=\"Convert this dataframe to an interactive table.\"\n",
              "              style=\"display:none;\">\n",
              "        \n",
              "  <svg xmlns=\"http://www.w3.org/2000/svg\" height=\"24px\"viewBox=\"0 0 24 24\"\n",
              "       width=\"24px\">\n",
              "    <path d=\"M0 0h24v24H0V0z\" fill=\"none\"/>\n",
              "    <path d=\"M18.56 5.44l.94 2.06.94-2.06 2.06-.94-2.06-.94-.94-2.06-.94 2.06-2.06.94zm-11 1L8.5 8.5l.94-2.06 2.06-.94-2.06-.94L8.5 2.5l-.94 2.06-2.06.94zm10 10l.94 2.06.94-2.06 2.06-.94-2.06-.94-.94-2.06-.94 2.06-2.06.94z\"/><path d=\"M17.41 7.96l-1.37-1.37c-.4-.4-.92-.59-1.43-.59-.52 0-1.04.2-1.43.59L10.3 9.45l-7.72 7.72c-.78.78-.78 2.05 0 2.83L4 21.41c.39.39.9.59 1.41.59.51 0 1.02-.2 1.41-.59l7.78-7.78 2.81-2.81c.8-.78.8-2.07 0-2.86zM5.41 20L4 18.59l7.72-7.72 1.47 1.35L5.41 20z\"/>\n",
              "  </svg>\n",
              "      </button>\n",
              "      \n",
              "  <style>\n",
              "    .colab-df-container {\n",
              "      display:flex;\n",
              "      flex-wrap:wrap;\n",
              "      gap: 12px;\n",
              "    }\n",
              "\n",
              "    .colab-df-convert {\n",
              "      background-color: #E8F0FE;\n",
              "      border: none;\n",
              "      border-radius: 50%;\n",
              "      cursor: pointer;\n",
              "      display: none;\n",
              "      fill: #1967D2;\n",
              "      height: 32px;\n",
              "      padding: 0 0 0 0;\n",
              "      width: 32px;\n",
              "    }\n",
              "\n",
              "    .colab-df-convert:hover {\n",
              "      background-color: #E2EBFA;\n",
              "      box-shadow: 0px 1px 2px rgba(60, 64, 67, 0.3), 0px 1px 3px 1px rgba(60, 64, 67, 0.15);\n",
              "      fill: #174EA6;\n",
              "    }\n",
              "\n",
              "    [theme=dark] .colab-df-convert {\n",
              "      background-color: #3B4455;\n",
              "      fill: #D2E3FC;\n",
              "    }\n",
              "\n",
              "    [theme=dark] .colab-df-convert:hover {\n",
              "      background-color: #434B5C;\n",
              "      box-shadow: 0px 1px 3px 1px rgba(0, 0, 0, 0.15);\n",
              "      filter: drop-shadow(0px 1px 2px rgba(0, 0, 0, 0.3));\n",
              "      fill: #FFFFFF;\n",
              "    }\n",
              "  </style>\n",
              "\n",
              "      <script>\n",
              "        const buttonEl =\n",
              "          document.querySelector('#df-702365ba-810c-42f5-8f08-38b6e44878b5 button.colab-df-convert');\n",
              "        buttonEl.style.display =\n",
              "          google.colab.kernel.accessAllowed ? 'block' : 'none';\n",
              "\n",
              "        async function convertToInteractive(key) {\n",
              "          const element = document.querySelector('#df-702365ba-810c-42f5-8f08-38b6e44878b5');\n",
              "          const dataTable =\n",
              "            await google.colab.kernel.invokeFunction('convertToInteractive',\n",
              "                                                     [key], {});\n",
              "          if (!dataTable) return;\n",
              "\n",
              "          const docLinkHtml = 'Like what you see? Visit the ' +\n",
              "            '<a target=\"_blank\" href=https://colab.research.google.com/notebooks/data_table.ipynb>data table notebook</a>'\n",
              "            + ' to learn more about interactive tables.';\n",
              "          element.innerHTML = '';\n",
              "          dataTable['output_type'] = 'display_data';\n",
              "          await google.colab.output.renderOutput(dataTable, element);\n",
              "          const docLink = document.createElement('div');\n",
              "          docLink.innerHTML = docLinkHtml;\n",
              "          element.appendChild(docLink);\n",
              "        }\n",
              "      </script>\n",
              "    </div>\n",
              "  </div>\n",
              "  "
            ]
          },
          "metadata": {},
          "execution_count": 40
        }
      ]
    },
    {
      "cell_type": "code",
      "source": [
        "np.savetxt(\"/content/drive/MyDrive/LSTM_SAE.txt\", X_test_pred[0,:], delimiter = \", \")\n",
        "\n",
        "np.savetxt(\"/content/drive/MyDrive/LSTM_SAE_full.txt\", X_test_pred.reshape(len(y_test) * 80, 1), delimiter = \", \")"
      ],
      "metadata": {
        "colab": {
          "base_uri": "https://localhost:8080/",
          "height": 351
        },
        "id": "PWoRBTKvl4v9",
        "outputId": "bc754afc-1a8a-4c83-a26d-0a076d7850d1"
      },
      "execution_count": null,
      "outputs": [
        {
          "output_type": "error",
          "ename": "FileNotFoundError",
          "evalue": "ignored",
          "traceback": [
            "\u001b[0;31m---------------------------------------------------------------------------\u001b[0m",
            "\u001b[0;31mFileNotFoundError\u001b[0m                         Traceback (most recent call last)",
            "\u001b[0;32m<ipython-input-44-f7c2ec84fa91>\u001b[0m in \u001b[0;36m<module>\u001b[0;34m()\u001b[0m\n\u001b[0;32m----> 1\u001b[0;31m \u001b[0mnp\u001b[0m\u001b[0;34m.\u001b[0m\u001b[0msavetxt\u001b[0m\u001b[0;34m(\u001b[0m\u001b[0;34m\"/content/drive/MyDrive/LSTM_SAE.txt\"\u001b[0m\u001b[0;34m,\u001b[0m \u001b[0mX_test_pred\u001b[0m\u001b[0;34m[\u001b[0m\u001b[0;36m0\u001b[0m\u001b[0;34m,\u001b[0m\u001b[0;34m:\u001b[0m\u001b[0;34m]\u001b[0m\u001b[0;34m,\u001b[0m \u001b[0mdelimiter\u001b[0m \u001b[0;34m=\u001b[0m\u001b[0;34m\", \"\u001b[0m\u001b[0;34m)\u001b[0m\u001b[0;34m\u001b[0m\u001b[0;34m\u001b[0m\u001b[0m\n\u001b[0m\u001b[1;32m      2\u001b[0m \u001b[0;34m\u001b[0m\u001b[0m\n\u001b[1;32m      3\u001b[0m \u001b[0mnp\u001b[0m\u001b[0;34m.\u001b[0m\u001b[0msavetxt\u001b[0m\u001b[0;34m(\u001b[0m\u001b[0;34m\"/content/drive/MyDrive/LSTM_SAE_full.txt\"\u001b[0m\u001b[0;34m,\u001b[0m \u001b[0mX_test_pred\u001b[0m\u001b[0;34m.\u001b[0m\u001b[0mreshape\u001b[0m\u001b[0;34m(\u001b[0m\u001b[0mlen\u001b[0m\u001b[0;34m(\u001b[0m\u001b[0my_test\u001b[0m\u001b[0;34m)\u001b[0m \u001b[0;34m*\u001b[0m \u001b[0;36m80\u001b[0m\u001b[0;34m,\u001b[0m \u001b[0;36m1\u001b[0m\u001b[0;34m)\u001b[0m\u001b[0;34m,\u001b[0m \u001b[0mdelimiter\u001b[0m \u001b[0;34m=\u001b[0m\u001b[0;34m\", \"\u001b[0m\u001b[0;34m)\u001b[0m\u001b[0;34m\u001b[0m\u001b[0;34m\u001b[0m\u001b[0m\n",
            "\u001b[0;32m<__array_function__ internals>\u001b[0m in \u001b[0;36msavetxt\u001b[0;34m(*args, **kwargs)\u001b[0m\n",
            "\u001b[0;32m/usr/local/lib/python3.7/dist-packages/numpy/lib/npyio.py\u001b[0m in \u001b[0;36msavetxt\u001b[0;34m(fname, X, fmt, delimiter, newline, header, footer, comments, encoding)\u001b[0m\n\u001b[1;32m   1366\u001b[0m     \u001b[0;32mif\u001b[0m \u001b[0m_is_string_like\u001b[0m\u001b[0;34m(\u001b[0m\u001b[0mfname\u001b[0m\u001b[0;34m)\u001b[0m\u001b[0;34m:\u001b[0m\u001b[0;34m\u001b[0m\u001b[0;34m\u001b[0m\u001b[0m\n\u001b[1;32m   1367\u001b[0m         \u001b[0;31m# datasource doesn't support creating a new file ...\u001b[0m\u001b[0;34m\u001b[0m\u001b[0;34m\u001b[0m\u001b[0;34m\u001b[0m\u001b[0m\n\u001b[0;32m-> 1368\u001b[0;31m         \u001b[0mopen\u001b[0m\u001b[0;34m(\u001b[0m\u001b[0mfname\u001b[0m\u001b[0;34m,\u001b[0m \u001b[0;34m'wt'\u001b[0m\u001b[0;34m)\u001b[0m\u001b[0;34m.\u001b[0m\u001b[0mclose\u001b[0m\u001b[0;34m(\u001b[0m\u001b[0;34m)\u001b[0m\u001b[0;34m\u001b[0m\u001b[0;34m\u001b[0m\u001b[0m\n\u001b[0m\u001b[1;32m   1369\u001b[0m         \u001b[0mfh\u001b[0m \u001b[0;34m=\u001b[0m \u001b[0mnp\u001b[0m\u001b[0;34m.\u001b[0m\u001b[0mlib\u001b[0m\u001b[0;34m.\u001b[0m\u001b[0m_datasource\u001b[0m\u001b[0;34m.\u001b[0m\u001b[0mopen\u001b[0m\u001b[0;34m(\u001b[0m\u001b[0mfname\u001b[0m\u001b[0;34m,\u001b[0m \u001b[0;34m'wt'\u001b[0m\u001b[0;34m,\u001b[0m \u001b[0mencoding\u001b[0m\u001b[0;34m=\u001b[0m\u001b[0mencoding\u001b[0m\u001b[0;34m)\u001b[0m\u001b[0;34m\u001b[0m\u001b[0;34m\u001b[0m\u001b[0m\n\u001b[1;32m   1370\u001b[0m         \u001b[0mown_fh\u001b[0m \u001b[0;34m=\u001b[0m \u001b[0;32mTrue\u001b[0m\u001b[0;34m\u001b[0m\u001b[0;34m\u001b[0m\u001b[0m\n",
            "\u001b[0;31mFileNotFoundError\u001b[0m: [Errno 2] No such file or directory: '/content/drive/MyDrive/LSTM_SAE.txt'"
          ]
        }
      ]
    },
    {
      "cell_type": "markdown",
      "source": [
        "### LSTM w/ Bottleneck w/ Activation w/o BatchNormalization"
      ],
      "metadata": {
        "id": "3urCS78tcumK"
      }
    },
    {
      "cell_type": "markdown",
      "source": [
        "Batch Normalization is Not good for Recurrent Neural Networks\n",
        "\n",
        "Batch normalization can be applied in between stacks of RNN, where normalization is applied “vertically” i.e. the output of each RNN. But it cannot be applied “horizontally” i.e. between timesteps, as it hurts training because of exploding gradients due to repeated rescaling. \n",
        "\n",
        "https://stackoverflow.com/questions/45493384/is-it-normal-to-use-batch-normalization-in-rnn-lstm\n",
        "\n",
        "No, you cannot use Batch Normalization on a recurrent neural network, as the statistics are computed per batch, this does not consider the recurrent part of the network. Weights are shared in an RNN, and the activation response for each \"recurrent loop\" might have completely different statistical properties.\n",
        "\n",
        "Other techniques similar to Batch Normalization that take these limitations into account have been developed, for example Layer Normalization. There are also reparametrizations of the LSTM layer that allow Batch Normalization to be used, for example as described in Recurrent Batch Normalization by Coijmaans et al. 2016."
      ],
      "metadata": {
        "id": "n9rktLmxCcGo"
      }
    },
    {
      "cell_type": "code",
      "source": [
        "input_train = Input(shape=(X_train.shape[1], X_train.shape[2]))\n",
        "output_train = Input(shape=(y_train.shape[1], y_train.shape[2]))\n",
        "print(input_train)\n",
        "print(output_train)\n",
        "\n",
        "n_hidden = 150"
      ],
      "metadata": {
        "colab": {
          "base_uri": "https://localhost:8080/"
        },
        "id": "hwFvkQHuGMZo",
        "outputId": "b4fae995-be4e-4eef-8058-333da304a37f"
      },
      "execution_count": null,
      "outputs": [
        {
          "output_type": "stream",
          "name": "stdout",
          "text": [
            "KerasTensor(type_spec=TensorSpec(shape=(None, 80, 67), dtype=tf.float32, name='input_3'), name='input_3', description=\"created by layer 'input_3'\")\n",
            "KerasTensor(type_spec=TensorSpec(shape=(None, 80, 1), dtype=tf.float32, name='input_4'), name='input_4', description=\"created by layer 'input_4'\")\n"
          ]
        }
      ]
    },
    {
      "cell_type": "code",
      "source": [
        "# First LSTM in encoder w/ tanh activation\n",
        "encoder_all_state_h1, encoder_h1, encoder_c1 = LSTM(n_hidden, activation='tanh',                              \n",
        "    return_state=True, return_sequences=True)(input_train)\n",
        "\n",
        "# 2nd LSTM in encoder \n",
        "encoder_all_state_h2, encoder_h2, encoder_c2 = LSTM(n_hidden, activation='tanh', \n",
        "    return_state=True, return_sequences=True)(encoder_all_state_h1)\n",
        "\n",
        "# 3rd LSTM in encoder \n",
        "encoder_all_state_h3, encoder_h3, encoder_c3 = LSTM(n_hidden, activation='tanh', \n",
        "    return_state=True, return_sequences=True)(encoder_all_state_h2)\n",
        "\n",
        "# Bottleneck layer \n",
        "decoder_input = RepeatVector(output_train.shape[1])(encoder_h3)\n",
        "\n",
        "# First decoder layer\n",
        "decoder_all_state_h1, decoder_h1, decoder_c1  = LSTM(n_hidden, activation='tanh', \n",
        " return_state=True, return_sequences=True)(\n",
        " decoder_input, initial_state = [encoder_h1, encoder_c1])\n",
        "\n",
        "# Second decoder layer\n",
        "decoder_all_state_h2, decoder_h2, decoder_c2 = LSTM(n_hidden, activation='tanh', \n",
        " return_state=True, return_sequences=True)(\n",
        " decoder_all_state_h1, initial_state = [encoder_h2, encoder_c2])\n",
        "\n",
        "# Third decoder layer\n",
        "decoder_all_state_h3 = LSTM(n_hidden, activation='tanh',\n",
        " return_state=False, return_sequences=True)(\n",
        " decoder_all_state_h2, initial_state = [encoder_h3, encoder_c3])"
      ],
      "metadata": {
        "id": "Ua7hBuB0cwcy"
      },
      "execution_count": null,
      "outputs": []
    },
    {
      "cell_type": "code",
      "source": [
        "out = TimeDistributed(Dense(output_train.shape[2]))(decoder_all_state_h3)"
      ],
      "metadata": {
        "id": "_d147wh_cweI"
      },
      "execution_count": null,
      "outputs": []
    },
    {
      "cell_type": "code",
      "source": [
        "Seq2seqLSTM_act = Model(input_train, out)\n",
        "opt = Adam(lr=0.001, clipnorm=1)\n",
        "Seq2seqLSTM_act.compile(loss='mae', optimizer=opt, metrics=['mae'])\n",
        "Seq2seqLSTM_act.summary()"
      ],
      "metadata": {
        "colab": {
          "base_uri": "https://localhost:8080/"
        },
        "id": "xJqkUGU4cwgv",
        "outputId": "292b3a56-59ad-4ef1-8ff1-02a41467531a"
      },
      "execution_count": null,
      "outputs": [
        {
          "output_type": "stream",
          "name": "stdout",
          "text": [
            "Model: \"model_1\"\n",
            "__________________________________________________________________________________________________\n",
            " Layer (type)                   Output Shape         Param #     Connected to                     \n",
            "==================================================================================================\n",
            " input_3 (InputLayer)           [(None, 80, 67)]     0           []                               \n",
            "                                                                                                  \n",
            " lstm_6 (LSTM)                  [(None, 80, 150),    130800      ['input_3[0][0]']                \n",
            "                                 (None, 150),                                                     \n",
            "                                 (None, 150)]                                                     \n",
            "                                                                                                  \n",
            " lstm_7 (LSTM)                  [(None, 80, 150),    180600      ['lstm_6[0][0]']                 \n",
            "                                 (None, 150),                                                     \n",
            "                                 (None, 150)]                                                     \n",
            "                                                                                                  \n",
            " lstm_8 (LSTM)                  [(None, 80, 150),    180600      ['lstm_7[0][0]']                 \n",
            "                                 (None, 150),                                                     \n",
            "                                 (None, 150)]                                                     \n",
            "                                                                                                  \n",
            " repeat_vector_1 (RepeatVector)  (None, 80, 150)     0           ['lstm_8[0][1]']                 \n",
            "                                                                                                  \n",
            " lstm_9 (LSTM)                  [(None, 80, 150),    180600      ['repeat_vector_1[0][0]',        \n",
            "                                 (None, 150),                     'lstm_6[0][1]',                 \n",
            "                                 (None, 150)]                     'lstm_6[0][2]']                 \n",
            "                                                                                                  \n",
            " lstm_10 (LSTM)                 [(None, 80, 150),    180600      ['lstm_9[0][0]',                 \n",
            "                                 (None, 150),                     'lstm_7[0][1]',                 \n",
            "                                 (None, 150)]                     'lstm_7[0][2]']                 \n",
            "                                                                                                  \n",
            " lstm_11 (LSTM)                 (None, 80, 150)      180600      ['lstm_10[0][0]',                \n",
            "                                                                  'lstm_8[0][1]',                 \n",
            "                                                                  'lstm_8[0][2]']                 \n",
            "                                                                                                  \n",
            " time_distributed_1 (TimeDistri  (None, 80, 1)       151         ['lstm_11[0][0]']                \n",
            " buted)                                                                                           \n",
            "                                                                                                  \n",
            "==================================================================================================\n",
            "Total params: 1,033,951\n",
            "Trainable params: 1,033,951\n",
            "Non-trainable params: 0\n",
            "__________________________________________________________________________________________________\n"
          ]
        },
        {
          "output_type": "stream",
          "name": "stderr",
          "text": [
            "/usr/local/lib/python3.7/dist-packages/keras/optimizer_v2/adam.py:105: UserWarning: The `lr` argument is deprecated, use `learning_rate` instead.\n",
            "  super(Adam, self).__init__(name, **kwargs)\n"
          ]
        }
      ]
    },
    {
      "cell_type": "code",
      "source": [
        "epc = 80\n",
        "es = EarlyStopping(monitor='val_loss', mode='min', patience=5)\n",
        "history = Seq2seqLSTM_act.fit(X_train[:, :, :], y_train[:, :, :], validation_split = 0.2, \n",
        "                    epochs = epc, verbose = 1, callbacks = [es], batch_size = 64)\n",
        "train_mae = history.history['mae']\n",
        "valid_mae = history.history['val_mae']\n",
        " \n",
        "Seq2seqLSTM.save('model_forecasting_seq2seq1.h5')"
      ],
      "metadata": {
        "colab": {
          "base_uri": "https://localhost:8080/"
        },
        "id": "dHwIK088cwjj",
        "outputId": "fb3db4d2-dc49-4b46-a506-aedb014ad94b"
      },
      "execution_count": null,
      "outputs": [
        {
          "output_type": "stream",
          "name": "stdout",
          "text": [
            "Epoch 1/80\n",
            "755/755 [==============================] - 46s 52ms/step - loss: 1.5811 - mae: 1.5811 - val_loss: 0.9840 - val_mae: 0.9840\n",
            "Epoch 2/80\n",
            "755/755 [==============================] - 37s 49ms/step - loss: 0.8720 - mae: 0.8720 - val_loss: 0.7965 - val_mae: 0.7965\n",
            "Epoch 3/80\n",
            "755/755 [==============================] - 37s 49ms/step - loss: 0.7617 - mae: 0.7617 - val_loss: 0.7327 - val_mae: 0.7327\n",
            "Epoch 4/80\n",
            "755/755 [==============================] - 37s 49ms/step - loss: 0.6757 - mae: 0.6757 - val_loss: 0.7039 - val_mae: 0.7039\n",
            "Epoch 5/80\n",
            "755/755 [==============================] - 37s 49ms/step - loss: 0.6152 - mae: 0.6152 - val_loss: 0.5878 - val_mae: 0.5878\n",
            "Epoch 6/80\n",
            "755/755 [==============================] - 37s 49ms/step - loss: 0.5685 - mae: 0.5685 - val_loss: 0.5565 - val_mae: 0.5565\n",
            "Epoch 7/80\n",
            "755/755 [==============================] - 37s 49ms/step - loss: 0.5409 - mae: 0.5409 - val_loss: 0.5291 - val_mae: 0.5291\n",
            "Epoch 8/80\n",
            "755/755 [==============================] - 37s 49ms/step - loss: 0.5167 - mae: 0.5167 - val_loss: 0.5055 - val_mae: 0.5055\n",
            "Epoch 9/80\n",
            "755/755 [==============================] - 37s 49ms/step - loss: 0.5044 - mae: 0.5044 - val_loss: 0.4915 - val_mae: 0.4915\n",
            "Epoch 10/80\n",
            "755/755 [==============================] - 37s 49ms/step - loss: 0.4836 - mae: 0.4836 - val_loss: 0.4862 - val_mae: 0.4862\n",
            "Epoch 11/80\n",
            "755/755 [==============================] - 37s 49ms/step - loss: 0.4708 - mae: 0.4708 - val_loss: 0.4864 - val_mae: 0.4864\n",
            "Epoch 12/80\n",
            "755/755 [==============================] - 37s 49ms/step - loss: 0.4588 - mae: 0.4588 - val_loss: 0.4655 - val_mae: 0.4655\n",
            "Epoch 13/80\n",
            "755/755 [==============================] - 37s 49ms/step - loss: 0.4528 - mae: 0.4528 - val_loss: 0.4780 - val_mae: 0.4780\n",
            "Epoch 14/80\n",
            "755/755 [==============================] - 37s 49ms/step - loss: 0.4418 - mae: 0.4418 - val_loss: 0.4396 - val_mae: 0.4396\n",
            "Epoch 15/80\n",
            "755/755 [==============================] - 37s 49ms/step - loss: 0.4385 - mae: 0.4385 - val_loss: 0.4678 - val_mae: 0.4678\n",
            "Epoch 16/80\n",
            "755/755 [==============================] - 37s 49ms/step - loss: 0.4315 - mae: 0.4315 - val_loss: 0.4375 - val_mae: 0.4375\n",
            "Epoch 17/80\n",
            "755/755 [==============================] - 37s 49ms/step - loss: 0.4187 - mae: 0.4187 - val_loss: 0.4225 - val_mae: 0.4225\n",
            "Epoch 18/80\n",
            "755/755 [==============================] - 37s 49ms/step - loss: 0.4153 - mae: 0.4153 - val_loss: 0.4497 - val_mae: 0.4497\n",
            "Epoch 19/80\n",
            "755/755 [==============================] - 37s 49ms/step - loss: 0.4053 - mae: 0.4053 - val_loss: 0.4184 - val_mae: 0.4184\n",
            "Epoch 20/80\n",
            "755/755 [==============================] - 37s 49ms/step - loss: 0.4000 - mae: 0.4000 - val_loss: 0.4049 - val_mae: 0.4049\n",
            "Epoch 21/80\n",
            "755/755 [==============================] - 37s 49ms/step - loss: 0.4038 - mae: 0.4038 - val_loss: 0.4213 - val_mae: 0.4213\n",
            "Epoch 22/80\n",
            "755/755 [==============================] - 37s 49ms/step - loss: 0.3906 - mae: 0.3906 - val_loss: 0.4044 - val_mae: 0.4044\n",
            "Epoch 23/80\n",
            "755/755 [==============================] - 37s 49ms/step - loss: 0.3880 - mae: 0.3880 - val_loss: 0.4136 - val_mae: 0.4136\n",
            "Epoch 24/80\n",
            "755/755 [==============================] - 37s 49ms/step - loss: 0.3820 - mae: 0.3820 - val_loss: 0.4094 - val_mae: 0.4094\n",
            "Epoch 25/80\n",
            "755/755 [==============================] - 37s 49ms/step - loss: 0.3783 - mae: 0.3783 - val_loss: 0.4036 - val_mae: 0.4036\n",
            "Epoch 26/80\n",
            "755/755 [==============================] - 37s 49ms/step - loss: 0.3781 - mae: 0.3781 - val_loss: 0.3890 - val_mae: 0.3890\n",
            "Epoch 27/80\n",
            "755/755 [==============================] - 37s 49ms/step - loss: 0.3739 - mae: 0.3739 - val_loss: 0.3948 - val_mae: 0.3948\n",
            "Epoch 28/80\n",
            "755/755 [==============================] - 37s 49ms/step - loss: 0.3692 - mae: 0.3692 - val_loss: 0.3815 - val_mae: 0.3815\n",
            "Epoch 29/80\n",
            "755/755 [==============================] - 37s 49ms/step - loss: 0.3621 - mae: 0.3621 - val_loss: 0.4017 - val_mae: 0.4017\n",
            "Epoch 30/80\n",
            "755/755 [==============================] - 37s 49ms/step - loss: 0.3645 - mae: 0.3645 - val_loss: 0.3775 - val_mae: 0.3775\n",
            "Epoch 31/80\n",
            "755/755 [==============================] - 37s 49ms/step - loss: 0.3585 - mae: 0.3585 - val_loss: 0.3702 - val_mae: 0.3702\n",
            "Epoch 32/80\n",
            "755/755 [==============================] - 37s 49ms/step - loss: 0.3561 - mae: 0.3561 - val_loss: 0.3715 - val_mae: 0.3715\n",
            "Epoch 33/80\n",
            "755/755 [==============================] - 37s 49ms/step - loss: 0.3519 - mae: 0.3519 - val_loss: 0.3832 - val_mae: 0.3832\n",
            "Epoch 34/80\n",
            "755/755 [==============================] - 37s 49ms/step - loss: 0.3508 - mae: 0.3508 - val_loss: 0.3669 - val_mae: 0.3669\n",
            "Epoch 35/80\n",
            "755/755 [==============================] - 37s 49ms/step - loss: 0.3475 - mae: 0.3475 - val_loss: 0.3570 - val_mae: 0.3570\n",
            "Epoch 36/80\n",
            "755/755 [==============================] - 37s 49ms/step - loss: 0.3438 - mae: 0.3438 - val_loss: 0.3663 - val_mae: 0.3663\n",
            "Epoch 37/80\n",
            "755/755 [==============================] - 37s 49ms/step - loss: 0.3443 - mae: 0.3443 - val_loss: 0.3736 - val_mae: 0.3736\n",
            "Epoch 38/80\n",
            "755/755 [==============================] - 37s 49ms/step - loss: 0.3400 - mae: 0.3400 - val_loss: 0.3505 - val_mae: 0.3505\n",
            "Epoch 39/80\n",
            "755/755 [==============================] - 37s 49ms/step - loss: 0.3389 - mae: 0.3389 - val_loss: 0.3525 - val_mae: 0.3525\n",
            "Epoch 40/80\n",
            "755/755 [==============================] - 37s 49ms/step - loss: 0.3366 - mae: 0.3366 - val_loss: 0.3567 - val_mae: 0.3567\n",
            "Epoch 41/80\n",
            "755/755 [==============================] - 37s 49ms/step - loss: 0.3338 - mae: 0.3338 - val_loss: 0.3489 - val_mae: 0.3489\n",
            "Epoch 42/80\n",
            "755/755 [==============================] - 37s 49ms/step - loss: 0.3286 - mae: 0.3286 - val_loss: 0.3475 - val_mae: 0.3475\n",
            "Epoch 43/80\n",
            "755/755 [==============================] - 37s 49ms/step - loss: 0.3288 - mae: 0.3288 - val_loss: 0.3360 - val_mae: 0.3360\n",
            "Epoch 44/80\n",
            "755/755 [==============================] - 37s 49ms/step - loss: 0.3199 - mae: 0.3199 - val_loss: 0.3598 - val_mae: 0.3598\n",
            "Epoch 45/80\n",
            "755/755 [==============================] - 37s 49ms/step - loss: 0.3277 - mae: 0.3277 - val_loss: 0.3432 - val_mae: 0.3432\n",
            "Epoch 46/80\n",
            "755/755 [==============================] - 37s 49ms/step - loss: 0.3202 - mae: 0.3202 - val_loss: 0.3299 - val_mae: 0.3299\n",
            "Epoch 47/80\n",
            "755/755 [==============================] - 37s 49ms/step - loss: 0.3209 - mae: 0.3209 - val_loss: 0.3443 - val_mae: 0.3443\n",
            "Epoch 48/80\n",
            "755/755 [==============================] - 37s 49ms/step - loss: 0.3151 - mae: 0.3151 - val_loss: 0.3333 - val_mae: 0.3333\n",
            "Epoch 49/80\n",
            "755/755 [==============================] - 37s 49ms/step - loss: 0.3203 - mae: 0.3203 - val_loss: 0.3403 - val_mae: 0.3403\n",
            "Epoch 50/80\n",
            "755/755 [==============================] - 37s 49ms/step - loss: 0.3118 - mae: 0.3118 - val_loss: 0.3295 - val_mae: 0.3295\n",
            "Epoch 51/80\n",
            "755/755 [==============================] - 37s 49ms/step - loss: 0.3109 - mae: 0.3109 - val_loss: 0.3258 - val_mae: 0.3258\n",
            "Epoch 52/80\n",
            "755/755 [==============================] - 37s 49ms/step - loss: 0.3064 - mae: 0.3064 - val_loss: 0.3365 - val_mae: 0.3365\n",
            "Epoch 53/80\n",
            "755/755 [==============================] - 37s 49ms/step - loss: 0.3110 - mae: 0.3110 - val_loss: 0.3342 - val_mae: 0.3342\n",
            "Epoch 54/80\n",
            "755/755 [==============================] - 37s 49ms/step - loss: 0.3062 - mae: 0.3062 - val_loss: 0.3298 - val_mae: 0.3298\n",
            "Epoch 55/80\n",
            "755/755 [==============================] - 37s 49ms/step - loss: 0.3026 - mae: 0.3026 - val_loss: 0.3286 - val_mae: 0.3286\n",
            "Epoch 56/80\n",
            "755/755 [==============================] - 37s 49ms/step - loss: 0.2997 - mae: 0.2997 - val_loss: 0.3406 - val_mae: 0.3406\n",
            "Epoch 57/80\n",
            "755/755 [==============================] - 37s 49ms/step - loss: 0.3005 - mae: 0.3005 - val_loss: 0.3269 - val_mae: 0.3269\n",
            "Epoch 58/80\n",
            "755/755 [==============================] - 37s 49ms/step - loss: 0.3001 - mae: 0.3001 - val_loss: 0.3181 - val_mae: 0.3181\n",
            "Epoch 59/80\n",
            "755/755 [==============================] - 37s 49ms/step - loss: 0.2957 - mae: 0.2957 - val_loss: 0.3235 - val_mae: 0.3235\n",
            "Epoch 60/80\n",
            "755/755 [==============================] - 37s 49ms/step - loss: 0.3001 - mae: 0.3001 - val_loss: 0.3250 - val_mae: 0.3250\n",
            "Epoch 61/80\n",
            "755/755 [==============================] - 37s 49ms/step - loss: 0.2947 - mae: 0.2947 - val_loss: 0.3142 - val_mae: 0.3142\n",
            "Epoch 62/80\n",
            "755/755 [==============================] - 37s 49ms/step - loss: 0.2908 - mae: 0.2908 - val_loss: 0.3233 - val_mae: 0.3233\n",
            "Epoch 63/80\n",
            "755/755 [==============================] - 37s 49ms/step - loss: 0.2938 - mae: 0.2938 - val_loss: 0.3126 - val_mae: 0.3126\n",
            "Epoch 64/80\n",
            "755/755 [==============================] - 37s 49ms/step - loss: 0.2951 - mae: 0.2951 - val_loss: 0.3327 - val_mae: 0.3327\n",
            "Epoch 65/80\n",
            "755/755 [==============================] - 37s 49ms/step - loss: 0.2928 - mae: 0.2928 - val_loss: 0.3132 - val_mae: 0.3132\n",
            "Epoch 66/80\n",
            "755/755 [==============================] - 37s 49ms/step - loss: 0.2872 - mae: 0.2872 - val_loss: 0.3138 - val_mae: 0.3138\n",
            "Epoch 67/80\n",
            "755/755 [==============================] - 37s 49ms/step - loss: 0.2890 - mae: 0.2890 - val_loss: 0.3181 - val_mae: 0.3181\n",
            "Epoch 68/80\n",
            "755/755 [==============================] - 37s 49ms/step - loss: 0.2856 - mae: 0.2856 - val_loss: 0.3127 - val_mae: 0.3127\n",
            "Epoch 69/80\n",
            "755/755 [==============================] - 37s 49ms/step - loss: 0.2853 - mae: 0.2853 - val_loss: 0.3218 - val_mae: 0.3218\n",
            "Epoch 70/80\n",
            "755/755 [==============================] - 37s 49ms/step - loss: 0.2836 - mae: 0.2836 - val_loss: 0.3158 - val_mae: 0.3158\n",
            "Epoch 71/80\n",
            "755/755 [==============================] - 37s 49ms/step - loss: 0.2819 - mae: 0.2819 - val_loss: 0.3141 - val_mae: 0.3141\n",
            "Epoch 72/80\n",
            "755/755 [==============================] - 37s 49ms/step - loss: 0.2813 - mae: 0.2813 - val_loss: 0.3075 - val_mae: 0.3075\n",
            "Epoch 73/80\n",
            "755/755 [==============================] - 37s 49ms/step - loss: 0.2837 - mae: 0.2837 - val_loss: 0.3281 - val_mae: 0.3281\n",
            "Epoch 74/80\n",
            "755/755 [==============================] - 37s 49ms/step - loss: 0.2748 - mae: 0.2748 - val_loss: 0.3013 - val_mae: 0.3013\n",
            "Epoch 75/80\n",
            "755/755 [==============================] - 37s 49ms/step - loss: 0.2737 - mae: 0.2737 - val_loss: 0.3031 - val_mae: 0.3031\n",
            "Epoch 76/80\n",
            "755/755 [==============================] - 37s 49ms/step - loss: 0.2734 - mae: 0.2734 - val_loss: 0.3136 - val_mae: 0.3136\n",
            "Epoch 77/80\n",
            "755/755 [==============================] - 37s 49ms/step - loss: 0.2760 - mae: 0.2760 - val_loss: 0.3001 - val_mae: 0.3001\n",
            "Epoch 78/80\n",
            "755/755 [==============================] - 37s 49ms/step - loss: 0.2736 - mae: 0.2736 - val_loss: 0.3348 - val_mae: 0.3348\n",
            "Epoch 79/80\n",
            "755/755 [==============================] - 37s 49ms/step - loss: 0.2800 - mae: 0.2800 - val_loss: 0.3013 - val_mae: 0.3013\n",
            "Epoch 80/80\n",
            "755/755 [==============================] - 37s 49ms/step - loss: 0.2669 - mae: 0.2669 - val_loss: 0.3226 - val_mae: 0.3226\n"
          ]
        }
      ]
    },
    {
      "cell_type": "code",
      "source": [
        "plt.plot(train_mae, linewidth=2, label='Train mae'), \n",
        "plt.plot(valid_mae, linewidth=2, label='Validation mae')\n",
        "plt.ylabel('MAE')\n",
        "plt.xlabel('Epochs')\n",
        "plt.title('Train vs. Validation Accuracy (mae)')\n",
        "plt.legend(loc='upper right')\n",
        "plt.show()"
      ],
      "metadata": {
        "colab": {
          "base_uri": "https://localhost:8080/",
          "height": 295
        },
        "id": "yOkh9-ltcwnB",
        "outputId": "b14e6ac3-9618-4f93-b346-35db6ed4161f"
      },
      "execution_count": null,
      "outputs": [
        {
          "output_type": "display_data",
          "data": {
            "text/plain": [
              "<Figure size 432x288 with 1 Axes>"
            ],
            "image/png": "[encoded data removed]"
          },
          "metadata": {
            "needs_background": "light"
          }
        }
      ]
    },
    {
      "cell_type": "code",
      "source": [
        "X_test_pred = Seq2seqLSTM_act.predict(X_test)\n",
        "LSTM1_pred_mae = np.mean(np.abs(X_test_pred - y_test), axis = 1)\n",
        "LSTM1_pred_mae.shape"
      ],
      "metadata": {
        "colab": {
          "base_uri": "https://localhost:8080/"
        },
        "id": "oX15n37ccwpy",
        "outputId": "67ad78f3-c0b1-4372-845b-5ab81848f5eb"
      },
      "execution_count": null,
      "outputs": [
        {
          "output_type": "execute_result",
          "data": {
            "text/plain": [
              "(15090, 1)"
            ]
          },
          "metadata": {},
          "execution_count": 37
        }
      ]
    },
    {
      "cell_type": "code",
      "source": [
        "plt.plot(X_test_pred[0,:], label='Predicted')\n",
        "plt.plot(y_test[0,:], label='Actual')\n",
        "plt.xlabel(\"Timestamp\")\n",
        "plt.ylabel(\"Pressure\")\n",
        "plt.legend()\n",
        "plt.title(\"Sample Patient Pressure Prediction\")"
      ],
      "metadata": {
        "colab": {
          "base_uri": "https://localhost:8080/",
          "height": 282
        },
        "id": "fa2hUMgpo5ZC",
        "outputId": "f02ace9f-9eca-459c-c9d1-275dbdef5b67"
      },
      "execution_count": null,
      "outputs": [
        {
          "output_type": "execute_result",
          "data": {
            "text/plain": [
              "[<matplotlib.lines.Line2D at 0x7f9d670be610>]"
            ]
          },
          "metadata": {},
          "execution_count": 38
        },
        {
          "output_type": "display_data",
          "data": {
            "text/plain": [
              "<Figure size 432x288 with 1 Axes>"
            ],
            "image/png": "[encoded data removed]"
          },
          "metadata": {
            "needs_background": "light"
          }
        }
      ]
    },
    {
      "cell_type": "code",
      "source": [
        "pred_mae1 = test[[\"R\",\"C\"]][test.index % 80 == 0] \n",
        "pred_mae1[\"mae\"] = LSTM1_pred_mae\n",
        "pred_mae1.groupby(['R', 'C']).mean()"
      ],
      "metadata": {
        "colab": {
          "base_uri": "https://localhost:8080/",
          "height": 359
        },
        "id": "0NMoaOxwo5aj",
        "outputId": "fe9ee7d4-f679-4f17-f111-b505a7b9364f"
      },
      "execution_count": null,
      "outputs": [
        {
          "output_type": "execute_result",
          "data": {
            "text/plain": [
              "            mae\n",
              "R  C           \n",
              "5  10  0.261722\n",
              "   20  0.239965\n",
              "   50  0.274531\n",
              "20 10  0.287411\n",
              "   20  0.330996\n",
              "   50  0.321034\n",
              "50 10  0.309255\n",
              "   20  0.430456\n",
              "   50  0.439176"
            ],
            "text/html": [
              "\n",
              "  <div id=\"df-a54874d7-c851-4bca-a659-27d1bca04813\">\n",
              "    <div class=\"colab-df-container\">\n",
              "      <div>\n",
              "<style scoped>\n",
              "    .dataframe tbody tr th:only-of-type {\n",
              "        vertical-align: middle;\n",
              "    }\n",
              "\n",
              "    .dataframe tbody tr th {\n",
              "        vertical-align: top;\n",
              "    }\n",
              "\n",
              "    .dataframe thead th {\n",
              "        text-align: right;\n",
              "    }\n",
              "</style>\n",
              "<table border=\"1\" class=\"dataframe\">\n",
              "  <thead>\n",
              "    <tr style=\"text-align: right;\">\n",
              "      <th></th>\n",
              "      <th></th>\n",
              "      <th>mae</th>\n",
              "    </tr>\n",
              "    <tr>\n",
              "      <th>R</th>\n",
              "      <th>C</th>\n",
              "      <th></th>\n",
              "    </tr>\n",
              "  </thead>\n",
              "  <tbody>\n",
              "    <tr>\n",
              "      <th rowspan=\"3\" valign=\"top\">5</th>\n",
              "      <th>10</th>\n",
              "      <td>0.261722</td>\n",
              "    </tr>\n",
              "    <tr>\n",
              "      <th>20</th>\n",
              "      <td>0.239965</td>\n",
              "    </tr>\n",
              "    <tr>\n",
              "      <th>50</th>\n",
              "      <td>0.274531</td>\n",
              "    </tr>\n",
              "    <tr>\n",
              "      <th rowspan=\"3\" valign=\"top\">20</th>\n",
              "      <th>10</th>\n",
              "      <td>0.287411</td>\n",
              "    </tr>\n",
              "    <tr>\n",
              "      <th>20</th>\n",
              "      <td>0.330996</td>\n",
              "    </tr>\n",
              "    <tr>\n",
              "      <th>50</th>\n",
              "      <td>0.321034</td>\n",
              "    </tr>\n",
              "    <tr>\n",
              "      <th rowspan=\"3\" valign=\"top\">50</th>\n",
              "      <th>10</th>\n",
              "      <td>0.309255</td>\n",
              "    </tr>\n",
              "    <tr>\n",
              "      <th>20</th>\n",
              "      <td>0.430456</td>\n",
              "    </tr>\n",
              "    <tr>\n",
              "      <th>50</th>\n",
              "      <td>0.439176</td>\n",
              "    </tr>\n",
              "  </tbody>\n",
              "</table>\n",
              "</div>\n",
              "      <button class=\"colab-df-convert\" onclick=\"convertToInteractive('df-a54874d7-c851-4bca-a659-27d1bca04813')\"\n",
              "              title=\"Convert this dataframe to an interactive table.\"\n",
              "              style=\"display:none;\">\n",
              "        \n",
              "  <svg xmlns=\"http://www.w3.org/2000/svg\" height=\"24px\"viewBox=\"0 0 24 24\"\n",
              "       width=\"24px\">\n",
              "    <path d=\"M0 0h24v24H0V0z\" fill=\"none\"/>\n",
              "    <path d=\"M18.56 5.44l.94 2.06.94-2.06 2.06-.94-2.06-.94-.94-2.06-.94 2.06-2.06.94zm-11 1L8.5 8.5l.94-2.06 2.06-.94-2.06-.94L8.5 2.5l-.94 2.06-2.06.94zm10 10l.94 2.06.94-2.06 2.06-.94-2.06-.94-.94-2.06-.94 2.06-2.06.94z\"/><path d=\"M17.41 7.96l-1.37-1.37c-.4-.4-.92-.59-1.43-.59-.52 0-1.04.2-1.43.59L10.3 9.45l-7.72 7.72c-.78.78-.78 2.05 0 2.83L4 21.41c.39.39.9.59 1.41.59.51 0 1.02-.2 1.41-.59l7.78-7.78 2.81-2.81c.8-.78.8-2.07 0-2.86zM5.41 20L4 18.59l7.72-7.72 1.47 1.35L5.41 20z\"/>\n",
              "  </svg>\n",
              "      </button>\n",
              "      \n",
              "  <style>\n",
              "    .colab-df-container {\n",
              "      display:flex;\n",
              "      flex-wrap:wrap;\n",
              "      gap: 12px;\n",
              "    }\n",
              "\n",
              "    .colab-df-convert {\n",
              "      background-color: #E8F0FE;\n",
              "      border: none;\n",
              "      border-radius: 50%;\n",
              "      cursor: pointer;\n",
              "      display: none;\n",
              "      fill: #1967D2;\n",
              "      height: 32px;\n",
              "      padding: 0 0 0 0;\n",
              "      width: 32px;\n",
              "    }\n",
              "\n",
              "    .colab-df-convert:hover {\n",
              "      background-color: #E2EBFA;\n",
              "      box-shadow: 0px 1px 2px rgba(60, 64, 67, 0.3), 0px 1px 3px 1px rgba(60, 64, 67, 0.15);\n",
              "      fill: #174EA6;\n",
              "    }\n",
              "\n",
              "    [theme=dark] .colab-df-convert {\n",
              "      background-color: #3B4455;\n",
              "      fill: #D2E3FC;\n",
              "    }\n",
              "\n",
              "    [theme=dark] .colab-df-convert:hover {\n",
              "      background-color: #434B5C;\n",
              "      box-shadow: 0px 1px 3px 1px rgba(0, 0, 0, 0.15);\n",
              "      filter: drop-shadow(0px 1px 2px rgba(0, 0, 0, 0.3));\n",
              "      fill: #FFFFFF;\n",
              "    }\n",
              "  </style>\n",
              "\n",
              "      <script>\n",
              "        const buttonEl =\n",
              "          document.querySelector('#df-a54874d7-c851-4bca-a659-27d1bca04813 button.colab-df-convert');\n",
              "        buttonEl.style.display =\n",
              "          google.colab.kernel.accessAllowed ? 'block' : 'none';\n",
              "\n",
              "        async function convertToInteractive(key) {\n",
              "          const element = document.querySelector('#df-a54874d7-c851-4bca-a659-27d1bca04813');\n",
              "          const dataTable =\n",
              "            await google.colab.kernel.invokeFunction('convertToInteractive',\n",
              "                                                     [key], {});\n",
              "          if (!dataTable) return;\n",
              "\n",
              "          const docLinkHtml = 'Like what you see? Visit the ' +\n",
              "            '<a target=\"_blank\" href=https://colab.research.google.com/notebooks/data_table.ipynb>data table notebook</a>'\n",
              "            + ' to learn more about interactive tables.';\n",
              "          element.innerHTML = '';\n",
              "          dataTable['output_type'] = 'display_data';\n",
              "          await google.colab.output.renderOutput(dataTable, element);\n",
              "          const docLink = document.createElement('div');\n",
              "          docLink.innerHTML = docLinkHtml;\n",
              "          element.appendChild(docLink);\n",
              "        }\n",
              "      </script>\n",
              "    </div>\n",
              "  </div>\n",
              "  "
            ]
          },
          "metadata": {},
          "execution_count": 39
        }
      ]
    },
    {
      "cell_type": "markdown",
      "source": [
        "## Transformer with Mixed Precision w/ Decoder"
      ],
      "metadata": {
        "id": "tKAQvSLl_AsN"
      }
    },
    {
      "cell_type": "code",
      "source": [
        "import tensorflow as tf"
      ],
      "metadata": {
        "id": "-SxdSX8XUYZS"
      },
      "execution_count": null,
      "outputs": []
    },
    {
      "cell_type": "code",
      "source": [
        "print(X_train.shape)\n",
        "print(X_test.shape)\n",
        "# U_out index is 4\n",
        "X_train[:, :, 4]"
      ],
      "metadata": {
        "colab": {
          "base_uri": "https://localhost:8080/"
        },
        "id": "CSEfpt1Uf2O7",
        "outputId": "9e028d36-802d-40ca-9828-0ef6526a55c5"
      },
      "execution_count": null,
      "outputs": [
        {
          "output_type": "stream",
          "name": "stdout",
          "text": [
            "(60360, 80, 67)\n",
            "(15090, 80, 67)\n"
          ]
        },
        {
          "output_type": "execute_result",
          "data": {
            "text/plain": [
              "array([[-1., -1., -1., ...,  0.,  0.,  0.],\n",
              "       [-1., -1., -1., ...,  0.,  0.,  0.],\n",
              "       [-1., -1., -1., ...,  0.,  0.,  0.],\n",
              "       ...,\n",
              "       [-1., -1., -1., ...,  0.,  0.,  0.],\n",
              "       [-1., -1., -1., ...,  0.,  0.,  0.],\n",
              "       [-1., -1., -1., ...,  0.,  0.,  0.]], dtype=float32)"
            ]
          },
          "metadata": {},
          "execution_count": 23
        }
      ]
    },
    {
      "cell_type": "code",
      "source": [
        "U_OUT_IDX = 4\n",
        "# Return an array of ones with the same shape and type as a given array.\n",
        "y_weight_train = np.ones_like(y_train)\n",
        "y_weight_test = np.ones_like(y_test)\n",
        "\n",
        "u_out_values_train = X_train[:, :, U_OUT_IDX]\n",
        "u_out_values_test = X_test[:, :, U_OUT_IDX]\n",
        "\n",
        "# Because robust scaler changes u_out: 1 to 0\n",
        "# Because robust scaler changes u_out: 0 to -1\n",
        "y_weight_train[u_out_values_train == 0] = 0 \n",
        "y_weight_test[u_out_values_test == 0] = 0"
      ],
      "metadata": {
        "id": "HLo8iKLgS917"
      },
      "execution_count": null,
      "outputs": []
    },
    {
      "cell_type": "code",
      "source": [
        "# USE MULTIPLE GPUS\n",
        "if os.environ[\"CUDA_VISIBLE_DEVICES\"].count(',') == 0:\n",
        "    gpu_strategy = tf.distribute.get_strategy()\n",
        "    print('single strategy')\n",
        "else:\n",
        "    gpu_strategy = tf.distribute.MirroredStrategy()\n",
        "    print('multiple strategy')"
      ],
      "metadata": {
        "colab": {
          "base_uri": "https://localhost:8080/"
        },
        "id": "CRllD2PxQN1K",
        "outputId": "8d675c43-832c-4636-ab4b-4a7b543ee3ef"
      },
      "execution_count": null,
      "outputs": [
        {
          "output_type": "stream",
          "name": "stdout",
          "text": [
            "single strategy\n"
          ]
        }
      ]
    },
    {
      "cell_type": "code",
      "source": [
        "# USE MIXED PRECISION\n",
        "# UNFORTUNATELY FOR THIS MODEL, MIXED PRECISION HURTS MODEL PERFORMANCE\n",
        "tf.config.optimizer.set_experimental_options({\"auto_mixed_precision\": True})\n",
        "print('Mixed precision enabled')"
      ],
      "metadata": {
        "colab": {
          "base_uri": "https://localhost:8080/"
        },
        "id": "Ih5A3HhrQOwI",
        "outputId": "98eff2c3-d8c2-493d-c814-a561f363dd10"
      },
      "execution_count": null,
      "outputs": [
        {
          "output_type": "stream",
          "name": "stdout",
          "text": [
            "Mixed precision enabled\n"
          ]
        }
      ]
    },
    {
      "cell_type": "code",
      "source": [
        "X_train.shape, y_train.shape, y_weight_test.shape"
      ],
      "metadata": {
        "colab": {
          "base_uri": "https://localhost:8080/"
        },
        "id": "WBh1jkwTS9zW",
        "outputId": "9422c88c-dc4b-43dc-f215-3eb4125b2527"
      },
      "execution_count": null,
      "outputs": [
        {
          "output_type": "execute_result",
          "data": {
            "text/plain": [
              "((60360, 80, 67), (60360, 80, 1), (15090, 80, 1))"
            ]
          },
          "metadata": {},
          "execution_count": 117
        }
      ]
    },
    {
      "cell_type": "code",
      "source": [
        "class EncoderLayer(layers.Layer):\n",
        "    def __init__(self, embed_dim, feat_dim, num_heads, ff_dim, rate=0.1):\n",
        "        super(EncoderLayer, self).__init__()\n",
        "        self.att = layers.MultiHeadAttention(num_heads = num_heads, key_dim = embed_dim)\n",
        "\n",
        "        self.ffn = keras.Sequential(\n",
        "            [layers.Dense(ff_dim, activation=\"gelu\"), layers.Dense(feat_dim), ]\n",
        "        )\n",
        "\n",
        "        #epsilon: Small float added to variance to avoid dividing by zero. Defaults to 1e-3\n",
        "        self.layernorm1 = layers.LayerNormalization(epsilon=1e-6)\n",
        "        self.layernorm2 = layers.LayerNormalization(epsilon=1e-6)\n",
        "\n",
        "        self.dropout1 = layers.Dropout(rate)\n",
        "        self.dropout2 = layers.Dropout(rate)\n",
        "\n",
        "    def call(self, inputs, training, mask = None):\n",
        "        attn_output = self.att(inputs, inputs, inputs, mask) # (batch_size, input_seq_len, d_model)\n",
        "        attn_output = self.dropout1(attn_output, training=training)\n",
        "        out1 = self.layernorm1(inputs + attn_output)\n",
        "        ffn_output = self.ffn(out1)\n",
        "        ffn_output = self.dropout2(ffn_output, training=training)\n",
        "        out2 = self.layernorm2(out1 + ffn_output)  # (batch_size, input_seq_len, d_model)\n",
        "        \n",
        "        return out2"
      ],
      "metadata": {
        "id": "RQyXGwe3apAh"
      },
      "execution_count": null,
      "outputs": []
    },
    {
      "cell_type": "code",
      "source": [
        "class DecoderLayer(layers.Layer):\n",
        "   def __init__(self, embed_dim, feat_dim, num_heads, ff_dim, rate=0.1):\n",
        "      super(DecoderLayer, self).__init__()\n",
        "      self.att1 = layers.MultiHeadAttention(num_heads = num_heads, key_dim = embed_dim)\n",
        "      self.att2 = layers.MultiHeadAttention(num_heads = num_heads, key_dim = embed_dim)\n",
        "      \n",
        "      self.ffn = keras.Sequential(\n",
        "            [layers.Dense(ff_dim, activation=\"gelu\"), layers.Dense(feat_dim), ]\n",
        "        )\n",
        "  \n",
        "      self.layernorm1 = layers.LayerNormalization(epsilon=1e-6)\n",
        "      self.layernorm2 = layers.LayerNormalization(epsilon=1e-6)\n",
        "      self.layernorm3 = layers.LayerNormalization(epsilon=1e-6)\n",
        "\n",
        "      self.dropout1 = layers.Dropout(rate)\n",
        "      self.dropout2 = layers.Dropout(rate)\n",
        "      self.dropout3 = layers.Dropout(rate)\n",
        "\n",
        "   def call(self, inputs, encoder_output, training, look_ahead_mask=None, padding_mask=None):\n",
        "      attn_output1, attn_weights_block1 = self.att1(inputs, inputs, inputs, look_ahead_mask)  # (batch_size, target_seq_len, d_model)\n",
        "      attn_output1 = self.dropout1(attn_output1, training=training)\n",
        "      out1 = self.layernorm1(inputs + attn_output1)\n",
        "\n",
        "      attn_output2, attn_weights_block2 = self.att2(encoder_output, encoder_output, out1, padding_mask) \n",
        "      attn_output2 = self.dropout2(attn_output2, training=training)\n",
        "      out2 = self.layernorm2(out1 + attn_output2)  # (batch_size, target_seq_len, d_model)\n",
        "\n",
        "      ffn_output = self.ffn(out2)  # (batch_size, target_seq_len, d_model)\n",
        "      ffn_output = self.dropout3(ffn_output, training=training)\n",
        "      out3 = self.layernorm3(out2 + ffn_output)  # (batch_size, target_seq_len, d_model)\n",
        "\n",
        "      # , attn_weights_block1, attn_weights_block2\n",
        "      return out3"
      ],
      "metadata": {
        "id": "CqzY71u3TJOB"
      },
      "execution_count": null,
      "outputs": []
    },
    {
      "cell_type": "code",
      "source": [
        "class EncoderDecoder(layers.Layer):\n",
        "   def __init__(self, embed_dim, feat_dim, num_heads, ff_dim, num_layers, rate=0.1):\n",
        "      super(EncoderDecoder, self).__init__()\n",
        "      self.num_layers = num_layers\n",
        "      self.enc_layers = [EncoderLayer(embed_dim, feat_dim, num_heads, ff_dim, rate) for _ in range(num_layers)]\n",
        "      self.dec_layers = [DecoderLayer(embed_dim, feat_dim, num_heads, ff_dim, rate) for _ in range(num_layers)]\n",
        "\n",
        "   def call(self, input, training, mask=None, look_ahead_mask=None, padding_mask=None):\n",
        "\n",
        "     enc_output = input\n",
        "     #enc_output = np.repeat(input[:,:,np.newaxis], self.num_layers, axis = 2)\n",
        "     for i in range(self.num_layers):\n",
        "        enc_old = enc_output\n",
        "        enc_output = self.enc_layers[i](enc_output, training, mask)\n",
        "        enc_output = 0.7*enc_output + 0.3*enc_old\n",
        "     \n",
        "     for i in range(self.num_layers):\n",
        "        input_old = input\n",
        "        input = self.dec_layers[i](input, enc_output, training, look_ahead_mask, padding_mask)\n",
        "        input = 0.7*input + 0.3*input_old\n",
        "    \n",
        "     return input"
      ],
      "metadata": {
        "id": "vqAzwu5soqpX"
      },
      "execution_count": null,
      "outputs": []
    },
    {
      "cell_type": "code",
      "source": [
        "print(X_train.shape[-1])"
      ],
      "metadata": {
        "colab": {
          "base_uri": "https://localhost:8080/"
        },
        "id": "9PatMTIOkGte",
        "outputId": "6d752818-0d68-4e2f-fe64-b57f2990c590"
      },
      "execution_count": null,
      "outputs": [
        {
          "output_type": "stream",
          "name": "stdout",
          "text": [
            "67\n"
          ]
        }
      ]
    },
    {
      "cell_type": "code",
      "source": [
        "feat_dim = X_train.shape[-1] + 32\n",
        "embed_dim = 64  # Embedding size for attention\n",
        "num_heads = 8  # Number of attention heads\n",
        "ff_dim = 128  # Hidden layer size in feed forward network inside transformer\n",
        "dropout_rate = 0.0\n",
        "num_layers = 12\n",
        "\n",
        "def build_model():\n",
        "    inputs = layers.Input(shape = X_train.shape[-2:])\n",
        "        \n",
        "    # \"EMBEDDING LAYER\"\n",
        "    x = layers.Dense(feat_dim)(inputs)\n",
        "    x = layers.LayerNormalization(epsilon = 1e-6)(x)\n",
        "\n",
        "    # ENCODERDECODER BLOCKS\n",
        "    encoderdecoder = EncoderDecoder(embed_dim, feat_dim, num_heads, ff_dim, num_layers, dropout_rate)\n",
        "    x = encoderdecoder(x)\n",
        "    \n",
        "    # REGRESSION HEAD\n",
        "    x = layers.Dense(128, activation = \"selu\")(x)\n",
        "    x = layers.Dropout(dropout_rate)(x)\n",
        "    outputs = layers.Dense(1, activation = \"linear\")(x)\n",
        "    model = keras.Model(inputs=inputs, outputs=outputs)\n",
        "        \n",
        "    return model"
      ],
      "metadata": {
        "id": "37QddYK8TJL2"
      },
      "execution_count": null,
      "outputs": []
    },
    {
      "cell_type": "code",
      "source": [
        "EPOCH = 80\n",
        "BATCH_SIZE = 64\n",
        "NUM_FOLDS = 11\n",
        "SEED = 42\n",
        "VERBOSE = 1"
      ],
      "metadata": {
        "id": "SXn9WIsITJG5"
      },
      "execution_count": null,
      "outputs": []
    },
    {
      "cell_type": "code",
      "source": [
        "transformer = build_model()\n",
        "opt = Adam()\n",
        "#opt = Adam(lr=0.001, clipnorm=1)\n",
        "#transformer.compile(optimizer=opt, loss=\"mae\") \n",
        "transformer.compile(loss='mae', optimizer=opt, metrics=['mae'])"
      ],
      "metadata": {
        "id": "hKqMScSUTJEL",
        "colab": {
          "base_uri": "https://localhost:8080/",
          "height": 936
        },
        "outputId": "e6246b98-f472-441e-ee6e-7e1f1186d2b6"
      },
      "execution_count": null,
      "outputs": [
        {
          "output_type": "error",
          "ename": "OperatorNotAllowedInGraphError",
          "evalue": "ignored",
          "traceback": [
            "\u001b[0;31m---------------------------------------------------------------------------\u001b[0m",
            "\u001b[0;31mOperatorNotAllowedInGraphError\u001b[0m            Traceback (most recent call last)",
            "\u001b[0;32m<ipython-input-124-6e68da285faf>\u001b[0m in \u001b[0;36m<module>\u001b[0;34m()\u001b[0m\n\u001b[0;32m----> 1\u001b[0;31m \u001b[0mtransformer\u001b[0m \u001b[0;34m=\u001b[0m \u001b[0mbuild_model\u001b[0m\u001b[0;34m(\u001b[0m\u001b[0;34m)\u001b[0m\u001b[0;34m\u001b[0m\u001b[0;34m\u001b[0m\u001b[0m\n\u001b[0m\u001b[1;32m      2\u001b[0m \u001b[0mopt\u001b[0m \u001b[0;34m=\u001b[0m \u001b[0mAdam\u001b[0m\u001b[0;34m(\u001b[0m\u001b[0;34m)\u001b[0m\u001b[0;34m\u001b[0m\u001b[0;34m\u001b[0m\u001b[0m\n\u001b[1;32m      3\u001b[0m \u001b[0;31m#opt = Adam(lr=0.001, clipnorm=1)\u001b[0m\u001b[0;34m\u001b[0m\u001b[0;34m\u001b[0m\u001b[0;34m\u001b[0m\u001b[0m\n\u001b[1;32m      4\u001b[0m \u001b[0;31m#transformer.compile(optimizer=opt, loss=\"mae\")\u001b[0m\u001b[0;34m\u001b[0m\u001b[0;34m\u001b[0m\u001b[0;34m\u001b[0m\u001b[0m\n\u001b[1;32m      5\u001b[0m \u001b[0mtransformer\u001b[0m\u001b[0;34m.\u001b[0m\u001b[0mcompile\u001b[0m\u001b[0;34m(\u001b[0m\u001b[0mloss\u001b[0m\u001b[0;34m=\u001b[0m\u001b[0;34m'mae'\u001b[0m\u001b[0;34m,\u001b[0m \u001b[0moptimizer\u001b[0m\u001b[0;34m=\u001b[0m\u001b[0mopt\u001b[0m\u001b[0;34m,\u001b[0m \u001b[0mmetrics\u001b[0m\u001b[0;34m=\u001b[0m\u001b[0;34m[\u001b[0m\u001b[0;34m'mae'\u001b[0m\u001b[0;34m]\u001b[0m\u001b[0;34m)\u001b[0m\u001b[0;34m\u001b[0m\u001b[0;34m\u001b[0m\u001b[0m\n",
            "\u001b[0;32m<ipython-input-122-89449645cb85>\u001b[0m in \u001b[0;36mbuild_model\u001b[0;34m()\u001b[0m\n\u001b[1;32m     15\u001b[0m     \u001b[0;31m# ENCODERDECODER BLOCKS\u001b[0m\u001b[0;34m\u001b[0m\u001b[0;34m\u001b[0m\u001b[0;34m\u001b[0m\u001b[0m\n\u001b[1;32m     16\u001b[0m     \u001b[0mencoderdecoder\u001b[0m \u001b[0;34m=\u001b[0m \u001b[0mEncoderDecoder\u001b[0m\u001b[0;34m(\u001b[0m\u001b[0membed_dim\u001b[0m\u001b[0;34m,\u001b[0m \u001b[0mfeat_dim\u001b[0m\u001b[0;34m,\u001b[0m \u001b[0mnum_heads\u001b[0m\u001b[0;34m,\u001b[0m \u001b[0mff_dim\u001b[0m\u001b[0;34m,\u001b[0m \u001b[0mnum_layers\u001b[0m\u001b[0;34m,\u001b[0m \u001b[0mdropout_rate\u001b[0m\u001b[0;34m)\u001b[0m\u001b[0;34m\u001b[0m\u001b[0;34m\u001b[0m\u001b[0m\n\u001b[0;32m---> 17\u001b[0;31m     \u001b[0mx\u001b[0m \u001b[0;34m=\u001b[0m \u001b[0mencoderdecoder\u001b[0m\u001b[0;34m(\u001b[0m\u001b[0mx\u001b[0m\u001b[0;34m)\u001b[0m\u001b[0;34m\u001b[0m\u001b[0;34m\u001b[0m\u001b[0m\n\u001b[0m\u001b[1;32m     18\u001b[0m \u001b[0;34m\u001b[0m\u001b[0m\n\u001b[1;32m     19\u001b[0m     \u001b[0;31m# REGRESSION HEAD\u001b[0m\u001b[0;34m\u001b[0m\u001b[0;34m\u001b[0m\u001b[0;34m\u001b[0m\u001b[0m\n",
            "\u001b[0;32m/usr/local/lib/python3.7/dist-packages/keras/utils/traceback_utils.py\u001b[0m in \u001b[0;36merror_handler\u001b[0;34m(*args, **kwargs)\u001b[0m\n\u001b[1;32m     65\u001b[0m     \u001b[0;32mexcept\u001b[0m \u001b[0mException\u001b[0m \u001b[0;32mas\u001b[0m \u001b[0me\u001b[0m\u001b[0;34m:\u001b[0m  \u001b[0;31m# pylint: disable=broad-except\u001b[0m\u001b[0;34m\u001b[0m\u001b[0;34m\u001b[0m\u001b[0m\n\u001b[1;32m     66\u001b[0m       \u001b[0mfiltered_tb\u001b[0m \u001b[0;34m=\u001b[0m \u001b[0m_process_traceback_frames\u001b[0m\u001b[0;34m(\u001b[0m\u001b[0me\u001b[0m\u001b[0;34m.\u001b[0m\u001b[0m__traceback__\u001b[0m\u001b[0;34m)\u001b[0m\u001b[0;34m\u001b[0m\u001b[0;34m\u001b[0m\u001b[0m\n\u001b[0;32m---> 67\u001b[0;31m       \u001b[0;32mraise\u001b[0m \u001b[0me\u001b[0m\u001b[0;34m.\u001b[0m\u001b[0mwith_traceback\u001b[0m\u001b[0;34m(\u001b[0m\u001b[0mfiltered_tb\u001b[0m\u001b[0;34m)\u001b[0m \u001b[0;32mfrom\u001b[0m \u001b[0;32mNone\u001b[0m\u001b[0;34m\u001b[0m\u001b[0;34m\u001b[0m\u001b[0m\n\u001b[0m\u001b[1;32m     68\u001b[0m     \u001b[0;32mfinally\u001b[0m\u001b[0;34m:\u001b[0m\u001b[0;34m\u001b[0m\u001b[0;34m\u001b[0m\u001b[0m\n\u001b[1;32m     69\u001b[0m       \u001b[0;32mdel\u001b[0m \u001b[0mfiltered_tb\u001b[0m\u001b[0;34m\u001b[0m\u001b[0;34m\u001b[0m\u001b[0m\n",
            "\u001b[0;32m/usr/local/lib/python3.7/dist-packages/tensorflow/python/autograph/impl/api.py\u001b[0m in \u001b[0;36mwrapper\u001b[0;34m(*args, **kwargs)\u001b[0m\n\u001b[1;32m    690\u001b[0m       \u001b[0;32mexcept\u001b[0m \u001b[0mException\u001b[0m \u001b[0;32mas\u001b[0m \u001b[0me\u001b[0m\u001b[0;34m:\u001b[0m  \u001b[0;31m# pylint:disable=broad-except\u001b[0m\u001b[0;34m\u001b[0m\u001b[0;34m\u001b[0m\u001b[0m\n\u001b[1;32m    691\u001b[0m         \u001b[0;32mif\u001b[0m \u001b[0mhasattr\u001b[0m\u001b[0;34m(\u001b[0m\u001b[0me\u001b[0m\u001b[0;34m,\u001b[0m \u001b[0;34m'ag_error_metadata'\u001b[0m\u001b[0;34m)\u001b[0m\u001b[0;34m:\u001b[0m\u001b[0;34m\u001b[0m\u001b[0;34m\u001b[0m\u001b[0m\n\u001b[0;32m--> 692\u001b[0;31m           \u001b[0;32mraise\u001b[0m \u001b[0me\u001b[0m\u001b[0;34m.\u001b[0m\u001b[0mag_error_metadata\u001b[0m\u001b[0;34m.\u001b[0m\u001b[0mto_exception\u001b[0m\u001b[0;34m(\u001b[0m\u001b[0me\u001b[0m\u001b[0;34m)\u001b[0m\u001b[0;34m\u001b[0m\u001b[0;34m\u001b[0m\u001b[0m\n\u001b[0m\u001b[1;32m    693\u001b[0m         \u001b[0;32melse\u001b[0m\u001b[0;34m:\u001b[0m\u001b[0;34m\u001b[0m\u001b[0;34m\u001b[0m\u001b[0m\n\u001b[1;32m    694\u001b[0m           \u001b[0;32mraise\u001b[0m\u001b[0;34m\u001b[0m\u001b[0;34m\u001b[0m\u001b[0m\n",
            "\u001b[0;31mOperatorNotAllowedInGraphError\u001b[0m: Exception encountered when calling layer \"encoder_decoder_6\" (type EncoderDecoder).\n\nin user code:\n\n    File \"<ipython-input-106-cb318e4b8dd5>\", line 19, in call  *\n        input = self.dec_layers[i](input, enc_output, training, look_ahead_mask, padding_mask)\n    File \"/usr/local/lib/python3.7/dist-packages/keras/utils/traceback_utils.py\", line 67, in error_handler  **\n        raise e.with_traceback(filtered_tb) from None\n\n    OperatorNotAllowedInGraphError: Exception encountered when calling layer \"decoder_layer_73\" (type DecoderLayer).\n    \n    in user code:\n    \n        File \"<ipython-input-100-f9208148ace8>\", line 20, in call  *\n            attn_output1, attn_weights_block1 = self.att1(inputs, inputs, inputs, look_ahead_mask)  # (batch_size, target_seq_len, d_model)\n    \n        OperatorNotAllowedInGraphError: iterating over `tf.Tensor` is not allowed in Graph execution. Use Eager execution or decorate this function with @tf.function.\n    \n    \n    Call arguments received:\n      • inputs=tf.Tensor(shape=(None, 80, 99), dtype=float32)\n      • encoder_output=tf.Tensor(shape=(None, 80, 99), dtype=float32)\n      • training=False\n      • look_ahead_mask=None\n      • padding_mask=None\n\n\nCall arguments received:\n  • input=tf.Tensor(shape=(None, 80, 99), dtype=float32)\n  • training=False\n  • mask=None\n  • look_ahead_mask=None\n  • padding_mask=None"
          ]
        }
      ]
    },
    {
      "cell_type": "code",
      "source": [
        "transformer.summary()"
      ],
      "metadata": {
        "colab": {
          "base_uri": "https://localhost:8080/"
        },
        "id": "0RA6vfgZXcjk",
        "outputId": "fa9fa710-b3ab-4c5e-a5e0-eeb1e9b7e7fc"
      },
      "execution_count": null,
      "outputs": [
        {
          "output_type": "stream",
          "name": "stdout",
          "text": [
            "Model: \"model_2\"\n",
            "__________________________________________________________________________________________________\n",
            " Layer (type)                   Output Shape         Param #     Connected to                     \n",
            "==================================================================================================\n",
            " input_5 (InputLayer)           [(None, 80, 67)]     0           []                               \n",
            "                                                                                                  \n",
            " dense_2 (Dense)                (None, 80, 99)       6732        ['input_5[0][0]']                \n",
            "                                                                                                  \n",
            " layer_normalization (LayerNorm  (None, 80, 99)      198         ['dense_2[0][0]']                \n",
            " alization)                                                                                       \n",
            "                                                                                                  \n",
            " transformer_block (Transformer  (None, 80, 99)      230354      ['layer_normalization[0][0]']    \n",
            " Block)                                                                                           \n",
            "                                                                                                  \n",
            " tf.math.multiply (TFOpLambda)  (None, 80, 99)       0           ['transformer_block[0][0]']      \n",
            "                                                                                                  \n",
            " tf.math.multiply_1 (TFOpLambda  (None, 80, 99)      0           ['layer_normalization[0][0]']    \n",
            " )                                                                                                \n",
            "                                                                                                  \n",
            " tf.__operators__.add (TFOpLamb  (None, 80, 99)      0           ['tf.math.multiply[0][0]',       \n",
            " da)                                                              'tf.math.multiply_1[0][0]']     \n",
            "                                                                                                  \n",
            " transformer_block_1 (Transform  (None, 80, 99)      230354      ['tf.__operators__.add[0][0]']   \n",
            " erBlock)                                                                                         \n",
            "                                                                                                  \n",
            " tf.math.multiply_2 (TFOpLambda  (None, 80, 99)      0           ['transformer_block_1[0][0]']    \n",
            " )                                                                                                \n",
            "                                                                                                  \n",
            " tf.math.multiply_3 (TFOpLambda  (None, 80, 99)      0           ['tf.__operators__.add[0][0]']   \n",
            " )                                                                                                \n",
            "                                                                                                  \n",
            " tf.__operators__.add_1 (TFOpLa  (None, 80, 99)      0           ['tf.math.multiply_2[0][0]',     \n",
            " mbda)                                                            'tf.math.multiply_3[0][0]']     \n",
            "                                                                                                  \n",
            " transformer_block_2 (Transform  (None, 80, 99)      230354      ['tf.__operators__.add_1[0][0]'] \n",
            " erBlock)                                                                                         \n",
            "                                                                                                  \n",
            " tf.math.multiply_4 (TFOpLambda  (None, 80, 99)      0           ['transformer_block_2[0][0]']    \n",
            " )                                                                                                \n",
            "                                                                                                  \n",
            " tf.math.multiply_5 (TFOpLambda  (None, 80, 99)      0           ['tf.__operators__.add_1[0][0]'] \n",
            " )                                                                                                \n",
            "                                                                                                  \n",
            " tf.__operators__.add_2 (TFOpLa  (None, 80, 99)      0           ['tf.math.multiply_4[0][0]',     \n",
            " mbda)                                                            'tf.math.multiply_5[0][0]']     \n",
            "                                                                                                  \n",
            " transformer_block_3 (Transform  (None, 80, 99)      230354      ['tf.__operators__.add_2[0][0]'] \n",
            " erBlock)                                                                                         \n",
            "                                                                                                  \n",
            " tf.math.multiply_6 (TFOpLambda  (None, 80, 99)      0           ['transformer_block_3[0][0]']    \n",
            " )                                                                                                \n",
            "                                                                                                  \n",
            " tf.math.multiply_7 (TFOpLambda  (None, 80, 99)      0           ['tf.__operators__.add_2[0][0]'] \n",
            " )                                                                                                \n",
            "                                                                                                  \n",
            " tf.__operators__.add_3 (TFOpLa  (None, 80, 99)      0           ['tf.math.multiply_6[0][0]',     \n",
            " mbda)                                                            'tf.math.multiply_7[0][0]']     \n",
            "                                                                                                  \n",
            " transformer_block_4 (Transform  (None, 80, 99)      230354      ['tf.__operators__.add_3[0][0]'] \n",
            " erBlock)                                                                                         \n",
            "                                                                                                  \n",
            " tf.math.multiply_8 (TFOpLambda  (None, 80, 99)      0           ['transformer_block_4[0][0]']    \n",
            " )                                                                                                \n",
            "                                                                                                  \n",
            " tf.math.multiply_9 (TFOpLambda  (None, 80, 99)      0           ['tf.__operators__.add_3[0][0]'] \n",
            " )                                                                                                \n",
            "                                                                                                  \n",
            " tf.__operators__.add_4 (TFOpLa  (None, 80, 99)      0           ['tf.math.multiply_8[0][0]',     \n",
            " mbda)                                                            'tf.math.multiply_9[0][0]']     \n",
            "                                                                                                  \n",
            " transformer_block_5 (Transform  (None, 80, 99)      230354      ['tf.__operators__.add_4[0][0]'] \n",
            " erBlock)                                                                                         \n",
            "                                                                                                  \n",
            " tf.math.multiply_10 (TFOpLambd  (None, 80, 99)      0           ['transformer_block_5[0][0]']    \n",
            " a)                                                                                               \n",
            "                                                                                                  \n",
            " tf.math.multiply_11 (TFOpLambd  (None, 80, 99)      0           ['tf.__operators__.add_4[0][0]'] \n",
            " a)                                                                                               \n",
            "                                                                                                  \n",
            " tf.__operators__.add_5 (TFOpLa  (None, 80, 99)      0           ['tf.math.multiply_10[0][0]',    \n",
            " mbda)                                                            'tf.math.multiply_11[0][0]']    \n",
            "                                                                                                  \n",
            " transformer_block_6 (Transform  (None, 80, 99)      230354      ['tf.__operators__.add_5[0][0]'] \n",
            " erBlock)                                                                                         \n",
            "                                                                                                  \n",
            " tf.math.multiply_12 (TFOpLambd  (None, 80, 99)      0           ['transformer_block_6[0][0]']    \n",
            " a)                                                                                               \n",
            "                                                                                                  \n",
            " tf.math.multiply_13 (TFOpLambd  (None, 80, 99)      0           ['tf.__operators__.add_5[0][0]'] \n",
            " a)                                                                                               \n",
            "                                                                                                  \n",
            " tf.__operators__.add_6 (TFOpLa  (None, 80, 99)      0           ['tf.math.multiply_12[0][0]',    \n",
            " mbda)                                                            'tf.math.multiply_13[0][0]']    \n",
            "                                                                                                  \n",
            " transformer_block_7 (Transform  (None, 80, 99)      230354      ['tf.__operators__.add_6[0][0]'] \n",
            " erBlock)                                                                                         \n",
            "                                                                                                  \n",
            " tf.math.multiply_14 (TFOpLambd  (None, 80, 99)      0           ['transformer_block_7[0][0]']    \n",
            " a)                                                                                               \n",
            "                                                                                                  \n",
            " tf.math.multiply_15 (TFOpLambd  (None, 80, 99)      0           ['tf.__operators__.add_6[0][0]'] \n",
            " a)                                                                                               \n",
            "                                                                                                  \n",
            " tf.__operators__.add_7 (TFOpLa  (None, 80, 99)      0           ['tf.math.multiply_14[0][0]',    \n",
            " mbda)                                                            'tf.math.multiply_15[0][0]']    \n",
            "                                                                                                  \n",
            " transformer_block_8 (Transform  (None, 80, 99)      230354      ['tf.__operators__.add_7[0][0]'] \n",
            " erBlock)                                                                                         \n",
            "                                                                                                  \n",
            " tf.math.multiply_16 (TFOpLambd  (None, 80, 99)      0           ['transformer_block_8[0][0]']    \n",
            " a)                                                                                               \n",
            "                                                                                                  \n",
            " tf.math.multiply_17 (TFOpLambd  (None, 80, 99)      0           ['tf.__operators__.add_7[0][0]'] \n",
            " a)                                                                                               \n",
            "                                                                                                  \n",
            " tf.__operators__.add_8 (TFOpLa  (None, 80, 99)      0           ['tf.math.multiply_16[0][0]',    \n",
            " mbda)                                                            'tf.math.multiply_17[0][0]']    \n",
            "                                                                                                  \n",
            " transformer_block_9 (Transform  (None, 80, 99)      230354      ['tf.__operators__.add_8[0][0]'] \n",
            " erBlock)                                                                                         \n",
            "                                                                                                  \n",
            " tf.math.multiply_18 (TFOpLambd  (None, 80, 99)      0           ['transformer_block_9[0][0]']    \n",
            " a)                                                                                               \n",
            "                                                                                                  \n",
            " tf.math.multiply_19 (TFOpLambd  (None, 80, 99)      0           ['tf.__operators__.add_8[0][0]'] \n",
            " a)                                                                                               \n",
            "                                                                                                  \n",
            " tf.__operators__.add_9 (TFOpLa  (None, 80, 99)      0           ['tf.math.multiply_18[0][0]',    \n",
            " mbda)                                                            'tf.math.multiply_19[0][0]']    \n",
            "                                                                                                  \n",
            " transformer_block_10 (Transfor  (None, 80, 99)      230354      ['tf.__operators__.add_9[0][0]'] \n",
            " merBlock)                                                                                        \n",
            "                                                                                                  \n",
            " tf.math.multiply_20 (TFOpLambd  (None, 80, 99)      0           ['transformer_block_10[0][0]']   \n",
            " a)                                                                                               \n",
            "                                                                                                  \n",
            " tf.math.multiply_21 (TFOpLambd  (None, 80, 99)      0           ['tf.__operators__.add_9[0][0]'] \n",
            " a)                                                                                               \n",
            "                                                                                                  \n",
            " tf.__operators__.add_10 (TFOpL  (None, 80, 99)      0           ['tf.math.multiply_20[0][0]',    \n",
            " ambda)                                                           'tf.math.multiply_21[0][0]']    \n",
            "                                                                                                  \n",
            " transformer_block_11 (Transfor  (None, 80, 99)      230354      ['tf.__operators__.add_10[0][0]']\n",
            " merBlock)                                                                                        \n",
            "                                                                                                  \n",
            " tf.math.multiply_22 (TFOpLambd  (None, 80, 99)      0           ['transformer_block_11[0][0]']   \n",
            " a)                                                                                               \n",
            "                                                                                                  \n",
            " tf.math.multiply_23 (TFOpLambd  (None, 80, 99)      0           ['tf.__operators__.add_10[0][0]']\n",
            " a)                                                                                               \n",
            "                                                                                                  \n",
            " tf.__operators__.add_11 (TFOpL  (None, 80, 99)      0           ['tf.math.multiply_22[0][0]',    \n",
            " ambda)                                                           'tf.math.multiply_23[0][0]']    \n",
            "                                                                                                  \n",
            " dense_27 (Dense)               (None, 80, 128)      12800       ['tf.__operators__.add_11[0][0]']\n",
            "                                                                                                  \n",
            " dropout_24 (Dropout)           (None, 80, 128)      0           ['dense_27[0][0]']               \n",
            "                                                                                                  \n",
            " dense_28 (Dense)               (None, 80, 3)        387         ['dropout_24[0][0]']             \n",
            "                                                                                                  \n",
            "==================================================================================================\n",
            "Total params: 2,784,365\n",
            "Trainable params: 2,784,365\n",
            "Non-trainable params: 0\n",
            "__________________________________________________________________________________________________\n"
          ]
        }
      ]
    },
    {
      "cell_type": "code",
      "source": [
        "reduce_lr = LearningRateScheduler(lambda x: 1e-3 * 0.90 ** x)\n",
        "es = EarlyStopping(monitor='val_loss', mode='min', patience=30)\n",
        "transformer_history = transformer.fit(X_train, y_train, verbose=VERBOSE,\n",
        "                                validation_data=(X_test, y_test), \n",
        "                                epochs = EPOCH, batch_size = BATCH_SIZE, callbacks=[reduce_lr])"
      ],
      "metadata": {
        "colab": {
          "base_uri": "https://localhost:8080/",
          "height": 1000
        },
        "id": "MetAnsPeS9uk",
        "outputId": "626f40c0-053c-4e9e-bcce-a7f0e7f0b75a"
      },
      "execution_count": null,
      "outputs": [
        {
          "output_type": "stream",
          "name": "stdout",
          "text": [
            "Epoch 1/80\n",
            "944/944 [==============================] - 112s 108ms/step - loss: 1.0715 - val_loss: 0.6261 - lr: 0.0010\n",
            "Epoch 2/80\n",
            "944/944 [==============================] - 100s 106ms/step - loss: 0.5879 - val_loss: 0.5169 - lr: 9.0000e-04\n",
            "Epoch 3/80\n",
            "944/944 [==============================] - 100s 106ms/step - loss: 0.5238 - val_loss: 0.5618 - lr: 8.1000e-04\n",
            "Epoch 4/80\n",
            "944/944 [==============================] - 100s 106ms/step - loss: 0.4835 - val_loss: 0.4660 - lr: 7.2900e-04\n",
            "Epoch 5/80\n",
            "944/944 [==============================] - 100s 106ms/step - loss: 0.4515 - val_loss: 0.4416 - lr: 6.5610e-04\n",
            "Epoch 6/80\n",
            "944/944 [==============================] - 100s 106ms/step - loss: 0.4326 - val_loss: 0.4219 - lr: 5.9049e-04\n",
            "Epoch 7/80\n",
            "944/944 [==============================] - 100s 106ms/step - loss: 0.4107 - val_loss: 0.3817 - lr: 5.3144e-04\n",
            "Epoch 8/80\n",
            "944/944 [==============================] - 100s 106ms/step - loss: 0.3934 - val_loss: 0.3981 - lr: 4.7830e-04\n",
            "Epoch 9/80\n",
            "944/944 [==============================] - 100s 106ms/step - loss: 0.3730 - val_loss: 0.4338 - lr: 4.3047e-04\n",
            "Epoch 10/80\n",
            "944/944 [==============================] - 100s 106ms/step - loss: 0.3572 - val_loss: 0.3827 - lr: 3.8742e-04\n",
            "Epoch 11/80\n",
            "944/944 [==============================] - 100s 106ms/step - loss: 0.3390 - val_loss: 0.3352 - lr: 3.4868e-04\n",
            "Epoch 12/80\n",
            "944/944 [==============================] - 100s 106ms/step - loss: 0.3240 - val_loss: 0.3227 - lr: 3.1381e-04\n",
            "Epoch 13/80\n",
            "944/944 [==============================] - 100s 106ms/step - loss: 0.3155 - val_loss: 0.3395 - lr: 2.8243e-04\n",
            "Epoch 14/80\n",
            "944/944 [==============================] - 100s 106ms/step - loss: 0.3029 - val_loss: 0.3378 - lr: 2.5419e-04\n",
            "Epoch 15/80\n",
            "944/944 [==============================] - 100s 106ms/step - loss: 0.2964 - val_loss: 0.2983 - lr: 2.2877e-04\n",
            "Epoch 16/80\n",
            "944/944 [==============================] - 100s 106ms/step - loss: 0.2815 - val_loss: 0.2940 - lr: 2.0589e-04\n",
            "Epoch 17/80\n",
            "944/944 [==============================] - 100s 106ms/step - loss: 0.2759 - val_loss: 0.2783 - lr: 1.8530e-04\n",
            "Epoch 18/80\n",
            "944/944 [==============================] - 100s 106ms/step - loss: 0.2708 - val_loss: 0.2766 - lr: 1.6677e-04\n",
            "Epoch 19/80\n",
            "944/944 [==============================] - 100s 106ms/step - loss: 0.2597 - val_loss: 0.2754 - lr: 1.5009e-04\n",
            "Epoch 20/80\n",
            "944/944 [==============================] - 100s 106ms/step - loss: 0.2533 - val_loss: 0.2693 - lr: 1.3509e-04\n",
            "Epoch 21/80\n",
            "944/944 [==============================] - 101s 107ms/step - loss: 0.2484 - val_loss: 0.2655 - lr: 1.2158e-04\n",
            "Epoch 22/80\n",
            "944/944 [==============================] - 102s 108ms/step - loss: 0.2448 - val_loss: 0.2576 - lr: 1.0942e-04\n",
            "Epoch 23/80\n",
            "944/944 [==============================] - 102s 108ms/step - loss: 0.2383 - val_loss: 0.2509 - lr: 9.8477e-05\n",
            "Epoch 24/80\n",
            "944/944 [==============================] - 102s 108ms/step - loss: 0.2343 - val_loss: 0.2474 - lr: 8.8629e-05\n",
            "Epoch 25/80\n",
            "944/944 [==============================] - 102s 108ms/step - loss: 0.2312 - val_loss: 0.2610 - lr: 7.9766e-05\n",
            "Epoch 26/80\n",
            "944/944 [==============================] - 102s 108ms/step - loss: 0.2281 - val_loss: 0.2464 - lr: 7.1790e-05\n",
            "Epoch 27/80\n",
            "944/944 [==============================] - 102s 108ms/step - loss: 0.2245 - val_loss: 0.2389 - lr: 6.4611e-05\n",
            "Epoch 28/80\n",
            "944/944 [==============================] - 102s 108ms/step - loss: 0.2222 - val_loss: 0.2395 - lr: 5.8150e-05\n",
            "Epoch 29/80\n",
            "944/944 [==============================] - 102s 108ms/step - loss: 0.2200 - val_loss: 0.2350 - lr: 5.2335e-05\n",
            "Epoch 30/80\n",
            "944/944 [==============================] - 102s 108ms/step - loss: 0.2170 - val_loss: 0.2304 - lr: 4.7101e-05\n",
            "Epoch 31/80\n",
            "944/944 [==============================] - 102s 108ms/step - loss: 0.2152 - val_loss: 0.2307 - lr: 4.2391e-05\n",
            "Epoch 32/80\n",
            "944/944 [==============================] - 102s 108ms/step - loss: 0.2133 - val_loss: 0.2308 - lr: 3.8152e-05\n",
            "Epoch 33/80\n",
            "944/944 [==============================] - 102s 108ms/step - loss: 0.2112 - val_loss: 0.2289 - lr: 3.4337e-05\n",
            "Epoch 34/80\n",
            "944/944 [==============================] - 102s 108ms/step - loss: 0.2098 - val_loss: 0.2288 - lr: 3.0903e-05\n",
            "Epoch 35/80\n",
            "944/944 [==============================] - 102s 108ms/step - loss: 0.2081 - val_loss: 0.2282 - lr: 2.7813e-05\n",
            "Epoch 36/80\n",
            "944/944 [==============================] - 102s 108ms/step - loss: 0.2071 - val_loss: 0.2254 - lr: 2.5032e-05\n",
            "Epoch 37/80\n",
            "944/944 [==============================] - 102s 108ms/step - loss: 0.2060 - val_loss: 0.2252 - lr: 2.2528e-05\n",
            "Epoch 38/80\n",
            "944/944 [==============================] - 102s 108ms/step - loss: 0.2049 - val_loss: 0.2237 - lr: 2.0276e-05\n",
            "Epoch 39/80\n",
            "944/944 [==============================] - 100s 106ms/step - loss: 0.2037 - val_loss: 0.2239 - lr: 1.8248e-05\n",
            "Epoch 40/80\n",
            "944/944 [==============================] - 100s 106ms/step - loss: 0.2030 - val_loss: 0.2230 - lr: 1.6423e-05\n",
            "Epoch 41/80\n",
            "944/944 [==============================] - 101s 106ms/step - loss: 0.2023 - val_loss: 0.2224 - lr: 1.4781e-05\n",
            "Epoch 42/80\n",
            "944/944 [==============================] - 100s 106ms/step - loss: 0.2013 - val_loss: 0.2219 - lr: 1.3303e-05\n",
            "Epoch 43/80\n",
            "944/944 [==============================] - 100s 106ms/step - loss: 0.2010 - val_loss: 0.2228 - lr: 1.1973e-05\n",
            "Epoch 44/80\n",
            "944/944 [==============================] - 100s 106ms/step - loss: 0.2004 - val_loss: 0.2218 - lr: 1.0775e-05\n",
            "Epoch 45/80\n",
            "944/944 [==============================] - 100s 106ms/step - loss: 0.1997 - val_loss: 0.2213 - lr: 9.6977e-06\n",
            "Epoch 46/80\n",
            "944/944 [==============================] - 100s 106ms/step - loss: 0.1993 - val_loss: 0.2210 - lr: 8.7280e-06\n",
            "Epoch 47/80\n",
            "944/944 [==============================] - 100s 106ms/step - loss: 0.1988 - val_loss: 0.2206 - lr: 7.8552e-06\n",
            "Epoch 48/80\n",
            "944/944 [==============================] - 100s 106ms/step - loss: 0.1985 - val_loss: 0.2206 - lr: 7.0697e-06\n",
            "Epoch 49/80\n",
            "944/944 [==============================] - 101s 107ms/step - loss: 0.1982 - val_loss: 0.2205 - lr: 6.3627e-06\n",
            "Epoch 50/80\n",
            "944/944 [==============================] - 101s 107ms/step - loss: 0.1979 - val_loss: 0.2201 - lr: 5.7264e-06\n",
            "Epoch 51/80\n",
            "944/944 [==============================] - 101s 107ms/step - loss: 0.1976 - val_loss: 0.2202 - lr: 5.1538e-06\n",
            "Epoch 52/80\n",
            "944/944 [==============================] - 101s 107ms/step - loss: 0.1974 - val_loss: 0.2200 - lr: 4.6384e-06\n",
            "Epoch 53/80\n",
            "944/944 [==============================] - 101s 107ms/step - loss: 0.1971 - val_loss: 0.2199 - lr: 4.1746e-06\n",
            "Epoch 54/80\n",
            "944/944 [==============================] - 101s 107ms/step - loss: 0.1969 - val_loss: 0.2198 - lr: 3.7571e-06\n",
            "Epoch 55/80\n",
            "944/944 [==============================] - 101s 107ms/step - loss: 0.1967 - val_loss: 0.2199 - lr: 3.3814e-06\n",
            "Epoch 56/80\n",
            "944/944 [==============================] - 101s 107ms/step - loss: 0.1965 - val_loss: 0.2197 - lr: 3.0433e-06\n",
            "Epoch 57/80\n",
            "944/944 [==============================] - 102s 108ms/step - loss: 0.1964 - val_loss: 0.2196 - lr: 2.7389e-06\n",
            "Epoch 58/80\n",
            "944/944 [==============================] - 101s 107ms/step - loss: 0.1962 - val_loss: 0.2194 - lr: 2.4650e-06\n",
            "Epoch 59/80\n",
            "944/944 [==============================] - 101s 107ms/step - loss: 0.1961 - val_loss: 0.2194 - lr: 2.2185e-06\n",
            "Epoch 60/80\n",
            "944/944 [==============================] - 101s 107ms/step - loss: 0.1960 - val_loss: 0.2194 - lr: 1.9967e-06\n",
            "Epoch 61/80\n",
            "944/944 [==============================] - 101s 107ms/step - loss: 0.1959 - val_loss: 0.2194 - lr: 1.7970e-06\n",
            "Epoch 62/80\n",
            "944/944 [==============================] - 101s 107ms/step - loss: 0.1958 - val_loss: 0.2195 - lr: 1.6173e-06\n",
            "Epoch 63/80\n",
            "944/944 [==============================] - 101s 107ms/step - loss: 0.1958 - val_loss: 0.2193 - lr: 1.4556e-06\n",
            "Epoch 64/80\n",
            "944/944 [==============================] - 102s 108ms/step - loss: 0.1957 - val_loss: 0.2193 - lr: 1.3100e-06\n",
            "Epoch 65/80\n",
            "944/944 [==============================] - 101s 107ms/step - loss: 0.1956 - val_loss: 0.2192 - lr: 1.1790e-06\n",
            "Epoch 66/80\n",
            "944/944 [==============================] - 101s 107ms/step - loss: 0.1955 - val_loss: 0.2192 - lr: 1.0611e-06\n",
            "Epoch 67/80\n",
            "944/944 [==============================] - 101s 107ms/step - loss: 0.1955 - val_loss: 0.2191 - lr: 9.5500e-07\n",
            "Epoch 68/80\n",
            "944/944 [==============================] - 101s 107ms/step - loss: 0.1954 - val_loss: 0.2192 - lr: 8.5950e-07\n",
            "Epoch 69/80\n",
            "944/944 [==============================] - 101s 107ms/step - loss: 0.1954 - val_loss: 0.2192 - lr: 7.7355e-07\n",
            "Epoch 70/80\n",
            "944/944 [==============================] - 101s 107ms/step - loss: 0.1953 - val_loss: 0.2191 - lr: 6.9620e-07\n",
            "Epoch 71/80\n",
            "944/944 [==============================] - 101s 107ms/step - loss: 0.1953 - val_loss: 0.2191 - lr: 6.2658e-07\n",
            "Epoch 72/80\n",
            "944/944 [==============================] - 101s 107ms/step - loss: 0.1953 - val_loss: 0.2191 - lr: 5.6392e-07\n",
            "Epoch 73/80\n",
            "944/944 [==============================] - 101s 107ms/step - loss: 0.1952 - val_loss: 0.2191 - lr: 5.0753e-07\n",
            "Epoch 74/80\n",
            "944/944 [==============================] - 101s 107ms/step - loss: 0.1952 - val_loss: 0.2191 - lr: 4.5678e-07\n",
            "Epoch 75/80\n",
            "944/944 [==============================] - 101s 107ms/step - loss: 0.1952 - val_loss: 0.2191 - lr: 4.1110e-07\n",
            "Epoch 76/80\n",
            "944/944 [==============================] - 101s 107ms/step - loss: 0.1951 - val_loss: 0.2191 - lr: 3.6999e-07\n",
            "Epoch 77/80\n",
            "944/944 [==============================] - 101s 107ms/step - loss: 0.1951 - val_loss: 0.2191 - lr: 3.3299e-07\n",
            "Epoch 78/80\n",
            "944/944 [==============================] - 101s 107ms/step - loss: 0.1951 - val_loss: 0.2191 - lr: 2.9969e-07\n",
            "Epoch 79/80\n",
            "944/944 [==============================] - 101s 107ms/step - loss: 0.1951 - val_loss: 0.2191 - lr: 2.6972e-07\n",
            "Epoch 80/80\n",
            "944/944 [==============================] - 101s 107ms/step - loss: 0.1951 - val_loss: 0.2191 - lr: 2.4275e-07\n"
          ]
        },
        {
          "output_type": "error",
          "ename": "KeyError",
          "evalue": "ignored",
          "traceback": [
            "\u001b[0;31m---------------------------------------------------------------------------\u001b[0m",
            "\u001b[0;31mKeyError\u001b[0m                                  Traceback (most recent call last)",
            "\u001b[0;32m<ipython-input-49-f3e9b411642a>\u001b[0m in \u001b[0;36m<module>\u001b[0;34m()\u001b[0m\n\u001b[1;32m      5\u001b[0m                                 epochs = EPOCH, batch_size = BATCH_SIZE, callbacks=[reduce_lr])\n\u001b[1;32m      6\u001b[0m \u001b[0;34m\u001b[0m\u001b[0m\n\u001b[0;32m----> 7\u001b[0;31m \u001b[0mtrain_mae1\u001b[0m \u001b[0;34m=\u001b[0m \u001b[0mtransformer_history\u001b[0m\u001b[0;34m.\u001b[0m\u001b[0mhistory\u001b[0m\u001b[0;34m[\u001b[0m\u001b[0;34m'mae'\u001b[0m\u001b[0;34m]\u001b[0m\u001b[0;34m\u001b[0m\u001b[0;34m\u001b[0m\u001b[0m\n\u001b[0m\u001b[1;32m      8\u001b[0m \u001b[0mvalid_mae1\u001b[0m \u001b[0;34m=\u001b[0m \u001b[0mtransformer_history\u001b[0m\u001b[0;34m.\u001b[0m\u001b[0mhistory\u001b[0m\u001b[0;34m[\u001b[0m\u001b[0;34m'val_mae'\u001b[0m\u001b[0;34m]\u001b[0m\u001b[0;34m\u001b[0m\u001b[0;34m\u001b[0m\u001b[0m\n\u001b[1;32m      9\u001b[0m \u001b[0;34m\u001b[0m\u001b[0m\n",
            "\u001b[0;31mKeyError\u001b[0m: 'mae'"
          ]
        }
      ]
    },
    {
      "cell_type": "code",
      "source": [
        "train_mae1 = transformer_history.history['loss']\n",
        "valid_mae1 = transformer_history.history['val_loss']\n",
        " \n",
        "transformer.save('model_forecasting_transformer.h5')"
      ],
      "metadata": {
        "colab": {
          "base_uri": "https://localhost:8080/",
          "height": 249
        },
        "id": "zkpe5OuRNvR0",
        "outputId": "8329aa8a-3893-458c-dfd2-ca55225b914f"
      },
      "execution_count": null,
      "outputs": [
        {
          "output_type": "error",
          "ename": "NameError",
          "evalue": "ignored",
          "traceback": [
            "\u001b[0;31m---------------------------------------------------------------------------\u001b[0m",
            "\u001b[0;31mNameError\u001b[0m                                 Traceback (most recent call last)",
            "\u001b[0;32m<ipython-input-1-774cc7156994>\u001b[0m in \u001b[0;36m<module>\u001b[0;34m()\u001b[0m\n\u001b[0;32m----> 1\u001b[0;31m \u001b[0mtrain_mae1\u001b[0m \u001b[0;34m=\u001b[0m \u001b[0mtransformer_history\u001b[0m\u001b[0;34m.\u001b[0m\u001b[0mhistory\u001b[0m\u001b[0;34m[\u001b[0m\u001b[0;34m'loss'\u001b[0m\u001b[0;34m]\u001b[0m\u001b[0;34m\u001b[0m\u001b[0;34m\u001b[0m\u001b[0m\n\u001b[0m\u001b[1;32m      2\u001b[0m \u001b[0mvalid_mae1\u001b[0m \u001b[0;34m=\u001b[0m \u001b[0mtransformer_history\u001b[0m\u001b[0;34m.\u001b[0m\u001b[0mhistory\u001b[0m\u001b[0;34m[\u001b[0m\u001b[0;34m'val_loss'\u001b[0m\u001b[0;34m]\u001b[0m\u001b[0;34m\u001b[0m\u001b[0;34m\u001b[0m\u001b[0m\n\u001b[1;32m      3\u001b[0m \u001b[0;34m\u001b[0m\u001b[0m\n\u001b[1;32m      4\u001b[0m \u001b[0mtransformer\u001b[0m\u001b[0;34m.\u001b[0m\u001b[0msave\u001b[0m\u001b[0;34m(\u001b[0m\u001b[0;34m'model_forecasting_transformer.h5'\u001b[0m\u001b[0;34m)\u001b[0m\u001b[0;34m\u001b[0m\u001b[0;34m\u001b[0m\u001b[0m\n",
            "\u001b[0;31mNameError\u001b[0m: name 'transformer_history' is not defined"
          ]
        }
      ]
    },
    {
      "cell_type": "code",
      "source": [
        "plt.plot(train_mae1, linewidth=2, label='Train mae'), \n",
        "plt.plot(valid_mae1, linewidth=2, label='Validation mae')\n",
        "plt.ylabel('MAE')\n",
        "plt.xlabel('Epochs')\n",
        "plt.title('Train vs. Validation Accuracy (mae)')\n",
        "plt.legend(loc='upper right')\n",
        "plt.savefig(\"Transformer_val.png\")\n",
        "plt.show()\n",
        "files.download(\"Transformer_val.png\") "
      ],
      "metadata": {
        "id": "mPEr_NcmS9m-"
      },
      "execution_count": null,
      "outputs": []
    },
    {
      "cell_type": "code",
      "source": [
        "X_test_pred = transformer.predict(X_test)\n",
        "transformer_pred_mae = np.mean(np.abs(X_test_pred - y_test), axis = 1)\n",
        "transformer_pred_mae.shape"
      ],
      "metadata": {
        "id": "35ZIkAgI5hVX"
      },
      "execution_count": null,
      "outputs": []
    },
    {
      "cell_type": "code",
      "source": [
        "plt.plot(X_test_pred[0,:], label='Predicted')\n",
        "plt.plot(y_test[0,:], label='Actual')\n",
        "plt.xlabel(\"Timestamp\")\n",
        "plt.ylabel(\"Pressure\")\n",
        "plt.legend()\n",
        "plt.title(\"Sample Patient Pressure Prediction\")\n",
        "plt.savefig(\"Transformer_pred.png\")\n",
        "plt.show()\n",
        "files.download(\"Transformer_pred.png\") "
      ],
      "metadata": {
        "id": "0w76-s-15hXB"
      },
      "execution_count": null,
      "outputs": []
    },
    {
      "cell_type": "code",
      "source": [
        "pred_mae1 = test[[\"R\",\"C\"]][test.index % 80 == 0] \n",
        "pred_mae1[\"mae\"] = transformer_pred_mae\n",
        "pred_mae1.groupby(['R', 'C']).mean()"
      ],
      "metadata": {
        "id": "lqte7Tnb5hY1"
      },
      "execution_count": null,
      "outputs": []
    },
    {
      "cell_type": "markdown",
      "source": [
        "## Transformer with Mixed Precision w/o Decoder"
      ],
      "metadata": {
        "id": "5-j7J9NK43nO"
      }
    },
    {
      "cell_type": "code",
      "source": [
        "print(X_train.shape)\n",
        "print(X_test.shape)\n",
        "# U_out index is 4\n",
        "X_train[:, :, 4]"
      ],
      "metadata": {
        "colab": {
          "base_uri": "https://localhost:8080/"
        },
        "id": "UiKspDSGPM3g",
        "outputId": "7d59fdb8-7abb-4a6c-f180-d53a292e266f"
      },
      "execution_count": null,
      "outputs": [
        {
          "output_type": "stream",
          "name": "stdout",
          "text": [
            "(60360, 80, 67)\n",
            "(15090, 80, 67)\n"
          ]
        },
        {
          "output_type": "execute_result",
          "data": {
            "text/plain": [
              "array([[-1., -1., -1., ...,  0.,  0.,  0.],\n",
              "       [-1., -1., -1., ...,  0.,  0.,  0.],\n",
              "       [-1., -1., -1., ...,  0.,  0.,  0.],\n",
              "       ...,\n",
              "       [-1., -1., -1., ...,  0.,  0.,  0.],\n",
              "       [-1., -1., -1., ...,  0.,  0.,  0.],\n",
              "       [-1., -1., -1., ...,  0.,  0.,  0.]], dtype=float32)"
            ]
          },
          "metadata": {},
          "execution_count": 56
        }
      ]
    },
    {
      "cell_type": "code",
      "execution_count": null,
      "metadata": {
        "id": "IQ84veP4pTux"
      },
      "outputs": [],
      "source": [
        "U_OUT_IDX = 4\n",
        "# np.ones_like: Return an array of ones with the same shape and type as a given array.\n",
        "y_weight_train = np.ones_like(y_train)\n",
        "y_weight_test = np.ones_like(y_test)\n",
        "\n",
        "u_out_values_train = X_train[:, :, U_OUT_IDX]\n",
        "u_out_values_test = X_test[:, :, U_OUT_IDX]\n",
        "\n",
        "y_weight_train[u_out_values_train == 0] = 0 \n",
        "y_weight_test[u_out_values_test == 0] = 0"
      ]
    },
    {
      "cell_type": "code",
      "source": [
        "# USE MULTIPLE GPUS\n",
        "if os.environ[\"CUDA_VISIBLE_DEVICES\"].count(',') == 0:\n",
        "    gpu_strategy = tf.distribute.get_strategy()\n",
        "    print('single strategy')\n",
        "else:\n",
        "    gpu_strategy = tf.distribute.MirroredStrategy()\n",
        "    print('multiple strategy')"
      ],
      "metadata": {
        "id": "LWmpyxOZ6uha",
        "colab": {
          "base_uri": "https://localhost:8080/"
        },
        "outputId": "777944a0-1306-4f6c-fbce-e650bffa7823"
      },
      "execution_count": null,
      "outputs": [
        {
          "output_type": "stream",
          "name": "stdout",
          "text": [
            "single strategy\n"
          ]
        }
      ]
    },
    {
      "cell_type": "code",
      "source": [
        "# USE MIXED PRECISION\n",
        "# UNFORTUNATELY FOR THIS MODEL, MIXED PRECISION HURTS MODEL PERFORMANCE\n",
        "tf.config.optimizer.set_experimental_options({\"auto_mixed_precision\": True})\n",
        "print('Mixed precision enabled')"
      ],
      "metadata": {
        "id": "eSOaORNb6ul2",
        "colab": {
          "base_uri": "https://localhost:8080/"
        },
        "outputId": "aabb0364-2abe-4d2b-d9d7-0c579d40e4a6"
      },
      "execution_count": null,
      "outputs": [
        {
          "output_type": "stream",
          "name": "stdout",
          "text": [
            "Mixed precision enabled\n"
          ]
        }
      ]
    },
    {
      "cell_type": "code",
      "source": [
        "class TransformerBlock(layers.Layer):\n",
        "    def __init__(self, embed_dim, feat_dim, num_heads, ff_dim, rate=0.1):\n",
        "        super(TransformerBlock, self).__init__()\n",
        "        self.att = layers.MultiHeadAttention(num_heads = num_heads, key_dim = embed_dim)\n",
        "        self.ffn = keras.Sequential(\n",
        "            [layers.Dense(ff_dim, activation=\"gelu\"), layers.Dense(feat_dim), ]\n",
        "        )\n",
        "        #epsilon: Small float added to variance to avoid dividing by zero. Defaults to 1e-3\n",
        "        self.layernorm1 = layers.LayerNormalization(epsilon=1e-6)\n",
        "        self.layernorm2 = layers.LayerNormalization(epsilon=1e-6)\n",
        "        self.dropout1 = layers.Dropout(rate)\n",
        "        self.dropout2 = layers.Dropout(rate)\n",
        "\n",
        "    def call(self, inputs, training):\n",
        "        attn_output = self.att(inputs, inputs)\n",
        "        attn_output = self.dropout1(attn_output, training=training)\n",
        "        out1 = self.layernorm1(inputs + attn_output)\n",
        "        ffn_output = self.ffn(out1)\n",
        "        ffn_output = self.dropout2(ffn_output, training=training)\n",
        "        return self.layernorm2(out1 + ffn_output)"
      ],
      "metadata": {
        "id": "Q5ExUJ7U6ucb"
      },
      "execution_count": null,
      "outputs": []
    },
    {
      "cell_type": "code",
      "source": [
        "print(X_train.shape[-1])"
      ],
      "metadata": {
        "colab": {
          "base_uri": "https://localhost:8080/"
        },
        "id": "8LypcTVSP3AV",
        "outputId": "a3f5ddc6-90c7-4e72-f04d-f20fcf76c44b"
      },
      "execution_count": null,
      "outputs": [
        {
          "output_type": "stream",
          "name": "stdout",
          "text": [
            "67\n"
          ]
        }
      ]
    },
    {
      "cell_type": "code",
      "source": [
        "feat_dim = X_train.shape[-1] + 32\n",
        "embed_dim = 64  # Embedding size for attention\n",
        "num_heads = 8  # Number of attention heads\n",
        "ff_dim = 128  # Hidden layer size in feed forward network inside transformer\n",
        "dropout_rate = 0.0\n",
        "num_blocks = 12\n",
        "\n",
        "def build_model():\n",
        "    inputs = layers.Input(shape = X_train.shape[-2:])\n",
        "        \n",
        "    # \"EMBEDDING LAYER\"\n",
        "    x = layers.Dense(feat_dim)(inputs)\n",
        "    x = layers.LayerNormalization(epsilon = 1e-6)(x)\n",
        "    \n",
        "    # TRANSFORMER BLOCKS\n",
        "    for k in range(num_blocks):\n",
        "        x_old = x\n",
        "        transformer_block = TransformerBlock(embed_dim, feat_dim, num_heads, ff_dim, dropout_rate)\n",
        "        x = transformer_block(x)\n",
        "        x = 0.7*x + 0.3*x_old # SKIP CONNECTION\n",
        "    \n",
        "    # REGRESSION HEAD\n",
        "    x = layers.Dense(128, activation = \"selu\")(x)\n",
        "    x = layers.Dropout(dropout_rate)(x)\n",
        "    outputs = layers.Dense(1, activation = \"linear\")(x)\n",
        "    model = keras.Model(inputs=inputs, outputs=outputs)\n",
        "        \n",
        "    return model"
      ],
      "metadata": {
        "id": "1K4kHPKe6unq"
      },
      "execution_count": null,
      "outputs": []
    },
    {
      "cell_type": "code",
      "execution_count": null,
      "metadata": {
        "id": "T1HZhOVus93R"
      },
      "outputs": [],
      "source": [
        "EPOCH = 50\n",
        "BATCH_SIZE = 64\n",
        "NUM_FOLDS = 11\n",
        "SEED = 42\n",
        "VERBOSE = 1"
      ]
    },
    {
      "cell_type": "code",
      "source": [
        "transformer1 = build_model()\n",
        "opt = Adam()\n",
        "transformer1.compile(loss='mae', optimizer=opt, metrics=['mae'])"
      ],
      "metadata": {
        "id": "pd6VeOm5418j"
      },
      "execution_count": null,
      "outputs": []
    },
    {
      "cell_type": "code",
      "source": [
        "transformer1.summary()"
      ],
      "metadata": {
        "id": "GDNK0aTV41-S",
        "colab": {
          "base_uri": "https://localhost:8080/"
        },
        "outputId": "5dadadb6-3746-490e-e4f9-fa3748874569"
      },
      "execution_count": null,
      "outputs": [
        {
          "output_type": "stream",
          "name": "stdout",
          "text": [
            "Model: \"model_4\"\n",
            "__________________________________________________________________________________________________\n",
            " Layer (type)                   Output Shape         Param #     Connected to                     \n",
            "==================================================================================================\n",
            " input_5 (InputLayer)           [(None, 80, 67)]     0           []                               \n",
            "                                                                                                  \n",
            " dense_108 (Dense)              (None, 80, 99)       6732        ['input_5[0][0]']                \n",
            "                                                                                                  \n",
            " layer_normalization_100 (Layer  (None, 80, 99)      198         ['dense_108[0][0]']              \n",
            " Normalization)                                                                                   \n",
            "                                                                                                  \n",
            " transformer_block_48 (Transfor  (None, 80, 99)      230354      ['layer_normalization_100[0][0]']\n",
            " merBlock)                                                                                        \n",
            "                                                                                                  \n",
            " tf.math.multiply_96 (TFOpLambd  (None, 80, 99)      0           ['transformer_block_48[0][0]']   \n",
            " a)                                                                                               \n",
            "                                                                                                  \n",
            " tf.math.multiply_97 (TFOpLambd  (None, 80, 99)      0           ['layer_normalization_100[0][0]']\n",
            " a)                                                                                               \n",
            "                                                                                                  \n",
            " tf.__operators__.add_48 (TFOpL  (None, 80, 99)      0           ['tf.math.multiply_96[0][0]',    \n",
            " ambda)                                                           'tf.math.multiply_97[0][0]']    \n",
            "                                                                                                  \n",
            " transformer_block_49 (Transfor  (None, 80, 99)      230354      ['tf.__operators__.add_48[0][0]']\n",
            " merBlock)                                                                                        \n",
            "                                                                                                  \n",
            " tf.math.multiply_98 (TFOpLambd  (None, 80, 99)      0           ['transformer_block_49[0][0]']   \n",
            " a)                                                                                               \n",
            "                                                                                                  \n",
            " tf.math.multiply_99 (TFOpLambd  (None, 80, 99)      0           ['tf.__operators__.add_48[0][0]']\n",
            " a)                                                                                               \n",
            "                                                                                                  \n",
            " tf.__operators__.add_49 (TFOpL  (None, 80, 99)      0           ['tf.math.multiply_98[0][0]',    \n",
            " ambda)                                                           'tf.math.multiply_99[0][0]']    \n",
            "                                                                                                  \n",
            " transformer_block_50 (Transfor  (None, 80, 99)      230354      ['tf.__operators__.add_49[0][0]']\n",
            " merBlock)                                                                                        \n",
            "                                                                                                  \n",
            " tf.math.multiply_100 (TFOpLamb  (None, 80, 99)      0           ['transformer_block_50[0][0]']   \n",
            " da)                                                                                              \n",
            "                                                                                                  \n",
            " tf.math.multiply_101 (TFOpLamb  (None, 80, 99)      0           ['tf.__operators__.add_49[0][0]']\n",
            " da)                                                                                              \n",
            "                                                                                                  \n",
            " tf.__operators__.add_50 (TFOpL  (None, 80, 99)      0           ['tf.math.multiply_100[0][0]',   \n",
            " ambda)                                                           'tf.math.multiply_101[0][0]']   \n",
            "                                                                                                  \n",
            " transformer_block_51 (Transfor  (None, 80, 99)      230354      ['tf.__operators__.add_50[0][0]']\n",
            " merBlock)                                                                                        \n",
            "                                                                                                  \n",
            " tf.math.multiply_102 (TFOpLamb  (None, 80, 99)      0           ['transformer_block_51[0][0]']   \n",
            " da)                                                                                              \n",
            "                                                                                                  \n",
            " tf.math.multiply_103 (TFOpLamb  (None, 80, 99)      0           ['tf.__operators__.add_50[0][0]']\n",
            " da)                                                                                              \n",
            "                                                                                                  \n",
            " tf.__operators__.add_51 (TFOpL  (None, 80, 99)      0           ['tf.math.multiply_102[0][0]',   \n",
            " ambda)                                                           'tf.math.multiply_103[0][0]']   \n",
            "                                                                                                  \n",
            " transformer_block_52 (Transfor  (None, 80, 99)      230354      ['tf.__operators__.add_51[0][0]']\n",
            " merBlock)                                                                                        \n",
            "                                                                                                  \n",
            " tf.math.multiply_104 (TFOpLamb  (None, 80, 99)      0           ['transformer_block_52[0][0]']   \n",
            " da)                                                                                              \n",
            "                                                                                                  \n",
            " tf.math.multiply_105 (TFOpLamb  (None, 80, 99)      0           ['tf.__operators__.add_51[0][0]']\n",
            " da)                                                                                              \n",
            "                                                                                                  \n",
            " tf.__operators__.add_52 (TFOpL  (None, 80, 99)      0           ['tf.math.multiply_104[0][0]',   \n",
            " ambda)                                                           'tf.math.multiply_105[0][0]']   \n",
            "                                                                                                  \n",
            " transformer_block_53 (Transfor  (None, 80, 99)      230354      ['tf.__operators__.add_52[0][0]']\n",
            " merBlock)                                                                                        \n",
            "                                                                                                  \n",
            " tf.math.multiply_106 (TFOpLamb  (None, 80, 99)      0           ['transformer_block_53[0][0]']   \n",
            " da)                                                                                              \n",
            "                                                                                                  \n",
            " tf.math.multiply_107 (TFOpLamb  (None, 80, 99)      0           ['tf.__operators__.add_52[0][0]']\n",
            " da)                                                                                              \n",
            "                                                                                                  \n",
            " tf.__operators__.add_53 (TFOpL  (None, 80, 99)      0           ['tf.math.multiply_106[0][0]',   \n",
            " ambda)                                                           'tf.math.multiply_107[0][0]']   \n",
            "                                                                                                  \n",
            " transformer_block_54 (Transfor  (None, 80, 99)      230354      ['tf.__operators__.add_53[0][0]']\n",
            " merBlock)                                                                                        \n",
            "                                                                                                  \n",
            " tf.math.multiply_108 (TFOpLamb  (None, 80, 99)      0           ['transformer_block_54[0][0]']   \n",
            " da)                                                                                              \n",
            "                                                                                                  \n",
            " tf.math.multiply_109 (TFOpLamb  (None, 80, 99)      0           ['tf.__operators__.add_53[0][0]']\n",
            " da)                                                                                              \n",
            "                                                                                                  \n",
            " tf.__operators__.add_54 (TFOpL  (None, 80, 99)      0           ['tf.math.multiply_108[0][0]',   \n",
            " ambda)                                                           'tf.math.multiply_109[0][0]']   \n",
            "                                                                                                  \n",
            " transformer_block_55 (Transfor  (None, 80, 99)      230354      ['tf.__operators__.add_54[0][0]']\n",
            " merBlock)                                                                                        \n",
            "                                                                                                  \n",
            " tf.math.multiply_110 (TFOpLamb  (None, 80, 99)      0           ['transformer_block_55[0][0]']   \n",
            " da)                                                                                              \n",
            "                                                                                                  \n",
            " tf.math.multiply_111 (TFOpLamb  (None, 80, 99)      0           ['tf.__operators__.add_54[0][0]']\n",
            " da)                                                                                              \n",
            "                                                                                                  \n",
            " tf.__operators__.add_55 (TFOpL  (None, 80, 99)      0           ['tf.math.multiply_110[0][0]',   \n",
            " ambda)                                                           'tf.math.multiply_111[0][0]']   \n",
            "                                                                                                  \n",
            " transformer_block_56 (Transfor  (None, 80, 99)      230354      ['tf.__operators__.add_55[0][0]']\n",
            " merBlock)                                                                                        \n",
            "                                                                                                  \n",
            " tf.math.multiply_112 (TFOpLamb  (None, 80, 99)      0           ['transformer_block_56[0][0]']   \n",
            " da)                                                                                              \n",
            "                                                                                                  \n",
            " tf.math.multiply_113 (TFOpLamb  (None, 80, 99)      0           ['tf.__operators__.add_55[0][0]']\n",
            " da)                                                                                              \n",
            "                                                                                                  \n",
            " tf.__operators__.add_56 (TFOpL  (None, 80, 99)      0           ['tf.math.multiply_112[0][0]',   \n",
            " ambda)                                                           'tf.math.multiply_113[0][0]']   \n",
            "                                                                                                  \n",
            " transformer_block_57 (Transfor  (None, 80, 99)      230354      ['tf.__operators__.add_56[0][0]']\n",
            " merBlock)                                                                                        \n",
            "                                                                                                  \n",
            " tf.math.multiply_114 (TFOpLamb  (None, 80, 99)      0           ['transformer_block_57[0][0]']   \n",
            " da)                                                                                              \n",
            "                                                                                                  \n",
            " tf.math.multiply_115 (TFOpLamb  (None, 80, 99)      0           ['tf.__operators__.add_56[0][0]']\n",
            " da)                                                                                              \n",
            "                                                                                                  \n",
            " tf.__operators__.add_57 (TFOpL  (None, 80, 99)      0           ['tf.math.multiply_114[0][0]',   \n",
            " ambda)                                                           'tf.math.multiply_115[0][0]']   \n",
            "                                                                                                  \n",
            " transformer_block_58 (Transfor  (None, 80, 99)      230354      ['tf.__operators__.add_57[0][0]']\n",
            " merBlock)                                                                                        \n",
            "                                                                                                  \n",
            " tf.math.multiply_116 (TFOpLamb  (None, 80, 99)      0           ['transformer_block_58[0][0]']   \n",
            " da)                                                                                              \n",
            "                                                                                                  \n",
            " tf.math.multiply_117 (TFOpLamb  (None, 80, 99)      0           ['tf.__operators__.add_57[0][0]']\n",
            " da)                                                                                              \n",
            "                                                                                                  \n",
            " tf.__operators__.add_58 (TFOpL  (None, 80, 99)      0           ['tf.math.multiply_116[0][0]',   \n",
            " ambda)                                                           'tf.math.multiply_117[0][0]']   \n",
            "                                                                                                  \n",
            " transformer_block_59 (Transfor  (None, 80, 99)      230354      ['tf.__operators__.add_58[0][0]']\n",
            " merBlock)                                                                                        \n",
            "                                                                                                  \n",
            " tf.math.multiply_118 (TFOpLamb  (None, 80, 99)      0           ['transformer_block_59[0][0]']   \n",
            " da)                                                                                              \n",
            "                                                                                                  \n",
            " tf.math.multiply_119 (TFOpLamb  (None, 80, 99)      0           ['tf.__operators__.add_58[0][0]']\n",
            " da)                                                                                              \n",
            "                                                                                                  \n",
            " tf.__operators__.add_59 (TFOpL  (None, 80, 99)      0           ['tf.math.multiply_118[0][0]',   \n",
            " ambda)                                                           'tf.math.multiply_119[0][0]']   \n",
            "                                                                                                  \n",
            " dense_133 (Dense)              (None, 80, 128)      12800       ['tf.__operators__.add_59[0][0]']\n",
            "                                                                                                  \n",
            " dropout_124 (Dropout)          (None, 80, 128)      0           ['dense_133[0][0]']              \n",
            "                                                                                                  \n",
            " dense_134 (Dense)              (None, 80, 1)        129         ['dropout_124[0][0]']            \n",
            "                                                                                                  \n",
            "==================================================================================================\n",
            "Total params: 2,784,107\n",
            "Trainable params: 2,784,107\n",
            "Non-trainable params: 0\n",
            "__________________________________________________________________________________________________\n"
          ]
        }
      ]
    },
    {
      "cell_type": "code",
      "source": [
        "reduce_lr = LearningRateScheduler(lambda x: 1e-3 * 0.90 ** x)\n",
        "es = EarlyStopping(monitor='val_loss', mode='min', patience=5)\n",
        "transformer_history1 = transformer1.fit(X_train, y_train, verbose=VERBOSE,\n",
        "                                validation_data=(X_test, y_test), \n",
        "                                epochs = EPOCH, batch_size = BATCH_SIZE, callbacks=[reduce_lr])"
      ],
      "metadata": {
        "id": "XFpr1Wrf7Eb-",
        "colab": {
          "base_uri": "https://localhost:8080/"
        },
        "outputId": "2e5f68b4-d2b3-49a9-c858-a0c03035fc0a"
      },
      "execution_count": null,
      "outputs": [
        {
          "output_type": "stream",
          "name": "stdout",
          "text": [
            "Epoch 1/50\n",
            "944/944 [==============================] - 107s 102ms/step - loss: 0.9802 - mae: 0.9802 - val_loss: 0.6909 - val_mae: 0.6909 - lr: 0.0010\n",
            "Epoch 2/50\n",
            "944/944 [==============================] - 94s 99ms/step - loss: 0.5947 - mae: 0.5947 - val_loss: 0.5292 - val_mae: 0.5292 - lr: 9.0000e-04\n",
            "Epoch 3/50\n",
            "944/944 [==============================] - 93s 99ms/step - loss: 0.5247 - mae: 0.5247 - val_loss: 0.5071 - val_mae: 0.5071 - lr: 8.1000e-04\n",
            "Epoch 4/50\n",
            "944/944 [==============================] - 93s 99ms/step - loss: 0.4838 - mae: 0.4838 - val_loss: 0.5027 - val_mae: 0.5027 - lr: 7.2900e-04\n",
            "Epoch 5/50\n",
            "944/944 [==============================] - 93s 99ms/step - loss: 0.4498 - mae: 0.4498 - val_loss: 0.6185 - val_mae: 0.6185 - lr: 6.5610e-04\n",
            "Epoch 6/50\n",
            "944/944 [==============================] - 93s 99ms/step - loss: 0.4351 - mae: 0.4351 - val_loss: 0.4210 - val_mae: 0.4210 - lr: 5.9049e-04\n",
            "Epoch 7/50\n",
            "944/944 [==============================] - 93s 99ms/step - loss: 0.4111 - mae: 0.4111 - val_loss: 0.4269 - val_mae: 0.4269 - lr: 5.3144e-04\n",
            "Epoch 8/50\n",
            "944/944 [==============================] - 93s 99ms/step - loss: 0.3895 - mae: 0.3895 - val_loss: 0.3799 - val_mae: 0.3799 - lr: 4.7830e-04\n",
            "Epoch 9/50\n",
            "944/944 [==============================] - 93s 99ms/step - loss: 0.3722 - mae: 0.3722 - val_loss: 0.3688 - val_mae: 0.3688 - lr: 4.3047e-04\n",
            "Epoch 10/50\n",
            "944/944 [==============================] - 93s 99ms/step - loss: 0.3639 - mae: 0.3639 - val_loss: 0.3883 - val_mae: 0.3883 - lr: 3.8742e-04\n",
            "Epoch 11/50\n",
            "944/944 [==============================] - 93s 98ms/step - loss: 0.3424 - mae: 0.3424 - val_loss: 0.3445 - val_mae: 0.3445 - lr: 3.4868e-04\n",
            "Epoch 12/50\n",
            "944/944 [==============================] - 93s 98ms/step - loss: 0.3304 - mae: 0.3304 - val_loss: 0.3256 - val_mae: 0.3256 - lr: 3.1381e-04\n",
            "Epoch 13/50\n",
            "944/944 [==============================] - 93s 99ms/step - loss: 0.3163 - mae: 0.3163 - val_loss: 0.3387 - val_mae: 0.3387 - lr: 2.8243e-04\n",
            "Epoch 14/50\n",
            "944/944 [==============================] - 93s 99ms/step - loss: 0.3011 - mae: 0.3011 - val_loss: 0.3004 - val_mae: 0.3004 - lr: 2.5419e-04\n",
            "Epoch 15/50\n",
            "944/944 [==============================] - 94s 99ms/step - loss: 0.2928 - mae: 0.2928 - val_loss: 0.2924 - val_mae: 0.2924 - lr: 2.2877e-04\n",
            "Epoch 16/50\n",
            "944/944 [==============================] - 93s 99ms/step - loss: 0.2856 - mae: 0.2856 - val_loss: 0.3043 - val_mae: 0.3043 - lr: 2.0589e-04\n",
            "Epoch 17/50\n",
            "944/944 [==============================] - 93s 99ms/step - loss: 0.2731 - mae: 0.2731 - val_loss: 0.2827 - val_mae: 0.2827 - lr: 1.8530e-04\n",
            "Epoch 18/50\n",
            "944/944 [==============================] - 93s 98ms/step - loss: 0.2675 - mae: 0.2675 - val_loss: 0.2794 - val_mae: 0.2794 - lr: 1.6677e-04\n",
            "Epoch 19/50\n",
            "944/944 [==============================] - 93s 99ms/step - loss: 0.2609 - mae: 0.2609 - val_loss: 0.2742 - val_mae: 0.2742 - lr: 1.5009e-04\n",
            "Epoch 20/50\n",
            "944/944 [==============================] - 93s 98ms/step - loss: 0.2573 - mae: 0.2573 - val_loss: 0.2681 - val_mae: 0.2681 - lr: 1.3509e-04\n",
            "Epoch 21/50\n",
            "944/944 [==============================] - 93s 98ms/step - loss: 0.2505 - mae: 0.2505 - val_loss: 0.2618 - val_mae: 0.2618 - lr: 1.2158e-04\n",
            "Epoch 22/50\n",
            "944/944 [==============================] - 93s 99ms/step - loss: 0.2452 - mae: 0.2452 - val_loss: 0.2563 - val_mae: 0.2563 - lr: 1.0942e-04\n",
            "Epoch 23/50\n",
            "944/944 [==============================] - 93s 99ms/step - loss: 0.2402 - mae: 0.2402 - val_loss: 0.2511 - val_mae: 0.2511 - lr: 9.8477e-05\n",
            "Epoch 24/50\n",
            "944/944 [==============================] - 93s 99ms/step - loss: 0.2351 - mae: 0.2351 - val_loss: 0.2484 - val_mae: 0.2484 - lr: 8.8629e-05\n",
            "Epoch 25/50\n",
            "944/944 [==============================] - 93s 99ms/step - loss: 0.2326 - mae: 0.2326 - val_loss: 0.2433 - val_mae: 0.2433 - lr: 7.9766e-05\n",
            "Epoch 26/50\n",
            "944/944 [==============================] - 93s 99ms/step - loss: 0.2294 - mae: 0.2294 - val_loss: 0.2401 - val_mae: 0.2401 - lr: 7.1790e-05\n",
            "Epoch 27/50\n",
            "944/944 [==============================] - 93s 98ms/step - loss: 0.2257 - mae: 0.2257 - val_loss: 0.2400 - val_mae: 0.2400 - lr: 6.4611e-05\n",
            "Epoch 28/50\n",
            "944/944 [==============================] - 93s 98ms/step - loss: 0.2237 - mae: 0.2237 - val_loss: 0.2357 - val_mae: 0.2357 - lr: 5.8150e-05\n",
            "Epoch 29/50\n",
            "944/944 [==============================] - 93s 98ms/step - loss: 0.2203 - mae: 0.2203 - val_loss: 0.2380 - val_mae: 0.2380 - lr: 5.2335e-05\n",
            "Epoch 30/50\n",
            "944/944 [==============================] - 93s 98ms/step - loss: 0.2183 - mae: 0.2183 - val_loss: 0.2369 - val_mae: 0.2369 - lr: 4.7101e-05\n",
            "Epoch 31/50\n",
            "944/944 [==============================] - 93s 98ms/step - loss: 0.2157 - mae: 0.2157 - val_loss: 0.2322 - val_mae: 0.2322 - lr: 4.2391e-05\n",
            "Epoch 32/50\n",
            "944/944 [==============================] - 93s 98ms/step - loss: 0.2139 - mae: 0.2139 - val_loss: 0.2303 - val_mae: 0.2303 - lr: 3.8152e-05\n",
            "Epoch 33/50\n",
            "944/944 [==============================] - 93s 99ms/step - loss: 0.2116 - mae: 0.2116 - val_loss: 0.2294 - val_mae: 0.2294 - lr: 3.4337e-05\n",
            "Epoch 34/50\n",
            "944/944 [==============================] - 93s 98ms/step - loss: 0.2100 - mae: 0.2100 - val_loss: 0.2277 - val_mae: 0.2277 - lr: 3.0903e-05\n",
            "Epoch 35/50\n",
            "944/944 [==============================] - 93s 99ms/step - loss: 0.2092 - mae: 0.2092 - val_loss: 0.2274 - val_mae: 0.2274 - lr: 2.7813e-05\n",
            "Epoch 36/50\n",
            "944/944 [==============================] - 93s 99ms/step - loss: 0.2077 - mae: 0.2077 - val_loss: 0.2266 - val_mae: 0.2266 - lr: 2.5032e-05\n",
            "Epoch 37/50\n",
            "944/944 [==============================] - 93s 98ms/step - loss: 0.2068 - mae: 0.2068 - val_loss: 0.2253 - val_mae: 0.2253 - lr: 2.2528e-05\n",
            "Epoch 38/50\n",
            "944/944 [==============================] - 93s 99ms/step - loss: 0.2046 - mae: 0.2046 - val_loss: 0.2243 - val_mae: 0.2243 - lr: 2.0276e-05\n",
            "Epoch 39/50\n",
            "944/944 [==============================] - 93s 98ms/step - loss: 0.2041 - mae: 0.2041 - val_loss: 0.2257 - val_mae: 0.2257 - lr: 1.8248e-05\n",
            "Epoch 40/50\n",
            "944/944 [==============================] - 93s 99ms/step - loss: 0.2032 - mae: 0.2032 - val_loss: 0.2230 - val_mae: 0.2230 - lr: 1.6423e-05\n",
            "Epoch 41/50\n",
            "944/944 [==============================] - 93s 99ms/step - loss: 0.2023 - mae: 0.2023 - val_loss: 0.2223 - val_mae: 0.2223 - lr: 1.4781e-05\n",
            "Epoch 42/50\n",
            "944/944 [==============================] - 93s 99ms/step - loss: 0.2015 - mae: 0.2015 - val_loss: 0.2217 - val_mae: 0.2217 - lr: 1.3303e-05\n",
            "Epoch 43/50\n",
            "944/944 [==============================] - 93s 99ms/step - loss: 0.2007 - mae: 0.2007 - val_loss: 0.2214 - val_mae: 0.2214 - lr: 1.1973e-05\n",
            "Epoch 44/50\n",
            "944/944 [==============================] - 93s 99ms/step - loss: 0.2001 - mae: 0.2001 - val_loss: 0.2225 - val_mae: 0.2225 - lr: 1.0775e-05\n",
            "Epoch 45/50\n",
            "944/944 [==============================] - 93s 98ms/step - loss: 0.1997 - mae: 0.1997 - val_loss: 0.2213 - val_mae: 0.2213 - lr: 9.6977e-06\n",
            "Epoch 46/50\n",
            "944/944 [==============================] - 93s 98ms/step - loss: 0.1990 - mae: 0.1990 - val_loss: 0.2203 - val_mae: 0.2203 - lr: 8.7280e-06\n",
            "Epoch 47/50\n",
            "944/944 [==============================] - 93s 98ms/step - loss: 0.1985 - mae: 0.1985 - val_loss: 0.2200 - val_mae: 0.2200 - lr: 7.8552e-06\n",
            "Epoch 48/50\n",
            "944/944 [==============================] - 93s 98ms/step - loss: 0.1981 - mae: 0.1981 - val_loss: 0.2202 - val_mae: 0.2202 - lr: 7.0697e-06\n",
            "Epoch 49/50\n",
            "944/944 [==============================] - 93s 99ms/step - loss: 0.1977 - mae: 0.1977 - val_loss: 0.2201 - val_mae: 0.2201 - lr: 6.3627e-06\n",
            "Epoch 50/50\n",
            "944/944 [==============================] - 93s 98ms/step - loss: 0.1974 - mae: 0.1974 - val_loss: 0.2198 - val_mae: 0.2198 - lr: 5.7264e-06\n"
          ]
        }
      ]
    },
    {
      "cell_type": "code",
      "source": [
        "train_mae1 = transformer_history1.history['mae']\n",
        "valid_mae1 = transformer_history1.history['val_mae']"
      ],
      "metadata": {
        "id": "aiJ2XogyPnfX"
      },
      "execution_count": null,
      "outputs": []
    },
    {
      "cell_type": "code",
      "source": [
        "plt.plot(train_mae1, linewidth=2, label='Train mae'), \n",
        "plt.plot(valid_mae1, linewidth=2, label='Validation mae')\n",
        "plt.ylabel('MAE')\n",
        "plt.xlabel('Epochs')\n",
        "plt.title('Train vs. Validation Accuracy (mae)')\n",
        "plt.legend(loc='upper right')\n",
        "plt.savefig(\"Transformer1_val.png\")\n",
        "plt.show()\n",
        "files.download(\"Transformer1_val.png\") "
      ],
      "metadata": {
        "id": "D90iajWb42AP",
        "colab": {
          "base_uri": "https://localhost:8080/",
          "height": 295
        },
        "outputId": "b16f2941-e08d-438b-eba4-9144bebf8d33"
      },
      "execution_count": null,
      "outputs": [
        {
          "output_type": "display_data",
          "data": {
            "text/plain": [
              "<Figure size 432x288 with 1 Axes>"
            ],
            "image/png": "[encoded data removed]"
          },
          "metadata": {
            "needs_background": "light"
          }
        }
      ]
    },
    {
      "cell_type": "code",
      "source": [
        "X_test_pred = transformer1.predict(X_test)\n",
        "transformer1_pred_mae = np.mean(np.abs(X_test_pred - y_test), axis = 1)\n",
        "transformer1_pred_mae.shape"
      ],
      "metadata": {
        "id": "r3Blq51x42Cb",
        "colab": {
          "base_uri": "https://localhost:8080/"
        },
        "outputId": "36467997-dd77-4d58-c741-7eb75ea5161e"
      },
      "execution_count": null,
      "outputs": [
        {
          "output_type": "execute_result",
          "data": {
            "text/plain": [
              "(15090, 1)"
            ]
          },
          "metadata": {},
          "execution_count": 68
        }
      ]
    },
    {
      "cell_type": "code",
      "source": [
        "np.mean(transformer1_pred_mae)"
      ],
      "metadata": {
        "colab": {
          "base_uri": "https://localhost:8080/"
        },
        "id": "KDCQqcO53D0M",
        "outputId": "42993861-2c69-444b-86ae-d2ee3bcd681e"
      },
      "execution_count": null,
      "outputs": [
        {
          "output_type": "execute_result",
          "data": {
            "text/plain": [
              "0.2198076675774534"
            ]
          },
          "metadata": {},
          "execution_count": 70
        }
      ]
    },
    {
      "cell_type": "code",
      "source": [
        "pred_mae1 = test[[\"R\",\"C\"]][test.index % 80 == 0] \n",
        "pred_mae1[\"mae\"] = transformer1_pred_mae\n",
        "pred_mae1.groupby(['R', 'C']).mean()"
      ],
      "metadata": {
        "id": "Os7suvuy42Hh",
        "colab": {
          "base_uri": "https://localhost:8080/",
          "height": 359
        },
        "outputId": "38c65ec3-f955-4bfb-ca7d-888eb9e48ac6"
      },
      "execution_count": null,
      "outputs": [
        {
          "output_type": "execute_result",
          "data": {
            "text/plain": [
              "            mae\n",
              "R  C           \n",
              "5  10  0.179236\n",
              "   20  0.177177\n",
              "   50  0.225622\n",
              "20 10  0.193784\n",
              "   20  0.227235\n",
              "   50  0.262603\n",
              "50 10  0.175974\n",
              "   20  0.280376\n",
              "   50  0.283115"
            ],
            "text/html": [
              "\n",
              "  <div id=\"df-85a9b85d-2bfa-497c-9046-de1b4380bb7b\">\n",
              "    <div class=\"colab-df-container\">\n",
              "      <div>\n",
              "<style scoped>\n",
              "    .dataframe tbody tr th:only-of-type {\n",
              "        vertical-align: middle;\n",
              "    }\n",
              "\n",
              "    .dataframe tbody tr th {\n",
              "        vertical-align: top;\n",
              "    }\n",
              "\n",
              "    .dataframe thead th {\n",
              "        text-align: right;\n",
              "    }\n",
              "</style>\n",
              "<table border=\"1\" class=\"dataframe\">\n",
              "  <thead>\n",
              "    <tr style=\"text-align: right;\">\n",
              "      <th></th>\n",
              "      <th></th>\n",
              "      <th>mae</th>\n",
              "    </tr>\n",
              "    <tr>\n",
              "      <th>R</th>\n",
              "      <th>C</th>\n",
              "      <th></th>\n",
              "    </tr>\n",
              "  </thead>\n",
              "  <tbody>\n",
              "    <tr>\n",
              "      <th rowspan=\"3\" valign=\"top\">5</th>\n",
              "      <th>10</th>\n",
              "      <td>0.179236</td>\n",
              "    </tr>\n",
              "    <tr>\n",
              "      <th>20</th>\n",
              "      <td>0.177177</td>\n",
              "    </tr>\n",
              "    <tr>\n",
              "      <th>50</th>\n",
              "      <td>0.225622</td>\n",
              "    </tr>\n",
              "    <tr>\n",
              "      <th rowspan=\"3\" valign=\"top\">20</th>\n",
              "      <th>10</th>\n",
              "      <td>0.193784</td>\n",
              "    </tr>\n",
              "    <tr>\n",
              "      <th>20</th>\n",
              "      <td>0.227235</td>\n",
              "    </tr>\n",
              "    <tr>\n",
              "      <th>50</th>\n",
              "      <td>0.262603</td>\n",
              "    </tr>\n",
              "    <tr>\n",
              "      <th rowspan=\"3\" valign=\"top\">50</th>\n",
              "      <th>10</th>\n",
              "      <td>0.175974</td>\n",
              "    </tr>\n",
              "    <tr>\n",
              "      <th>20</th>\n",
              "      <td>0.280376</td>\n",
              "    </tr>\n",
              "    <tr>\n",
              "      <th>50</th>\n",
              "      <td>0.283115</td>\n",
              "    </tr>\n",
              "  </tbody>\n",
              "</table>\n",
              "</div>\n",
              "      <button class=\"colab-df-convert\" onclick=\"convertToInteractive('df-85a9b85d-2bfa-497c-9046-de1b4380bb7b')\"\n",
              "              title=\"Convert this dataframe to an interactive table.\"\n",
              "              style=\"display:none;\">\n",
              "        \n",
              "  <svg xmlns=\"http://www.w3.org/2000/svg\" height=\"24px\"viewBox=\"0 0 24 24\"\n",
              "       width=\"24px\">\n",
              "    <path d=\"M0 0h24v24H0V0z\" fill=\"none\"/>\n",
              "    <path d=\"M18.56 5.44l.94 2.06.94-2.06 2.06-.94-2.06-.94-.94-2.06-.94 2.06-2.06.94zm-11 1L8.5 8.5l.94-2.06 2.06-.94-2.06-.94L8.5 2.5l-.94 2.06-2.06.94zm10 10l.94 2.06.94-2.06 2.06-.94-2.06-.94-.94-2.06-.94 2.06-2.06.94z\"/><path d=\"M17.41 7.96l-1.37-1.37c-.4-.4-.92-.59-1.43-.59-.52 0-1.04.2-1.43.59L10.3 9.45l-7.72 7.72c-.78.78-.78 2.05 0 2.83L4 21.41c.39.39.9.59 1.41.59.51 0 1.02-.2 1.41-.59l7.78-7.78 2.81-2.81c.8-.78.8-2.07 0-2.86zM5.41 20L4 18.59l7.72-7.72 1.47 1.35L5.41 20z\"/>\n",
              "  </svg>\n",
              "      </button>\n",
              "      \n",
              "  <style>\n",
              "    .colab-df-container {\n",
              "      display:flex;\n",
              "      flex-wrap:wrap;\n",
              "      gap: 12px;\n",
              "    }\n",
              "\n",
              "    .colab-df-convert {\n",
              "      background-color: #E8F0FE;\n",
              "      border: none;\n",
              "      border-radius: 50%;\n",
              "      cursor: pointer;\n",
              "      display: none;\n",
              "      fill: #1967D2;\n",
              "      height: 32px;\n",
              "      padding: 0 0 0 0;\n",
              "      width: 32px;\n",
              "    }\n",
              "\n",
              "    .colab-df-convert:hover {\n",
              "      background-color: #E2EBFA;\n",
              "      box-shadow: 0px 1px 2px rgba(60, 64, 67, 0.3), 0px 1px 3px 1px rgba(60, 64, 67, 0.15);\n",
              "      fill: #174EA6;\n",
              "    }\n",
              "\n",
              "    [theme=dark] .colab-df-convert {\n",
              "      background-color: #3B4455;\n",
              "      fill: #D2E3FC;\n",
              "    }\n",
              "\n",
              "    [theme=dark] .colab-df-convert:hover {\n",
              "      background-color: #434B5C;\n",
              "      box-shadow: 0px 1px 3px 1px rgba(0, 0, 0, 0.15);\n",
              "      filter: drop-shadow(0px 1px 2px rgba(0, 0, 0, 0.3));\n",
              "      fill: #FFFFFF;\n",
              "    }\n",
              "  </style>\n",
              "\n",
              "      <script>\n",
              "        const buttonEl =\n",
              "          document.querySelector('#df-85a9b85d-2bfa-497c-9046-de1b4380bb7b button.colab-df-convert');\n",
              "        buttonEl.style.display =\n",
              "          google.colab.kernel.accessAllowed ? 'block' : 'none';\n",
              "\n",
              "        async function convertToInteractive(key) {\n",
              "          const element = document.querySelector('#df-85a9b85d-2bfa-497c-9046-de1b4380bb7b');\n",
              "          const dataTable =\n",
              "            await google.colab.kernel.invokeFunction('convertToInteractive',\n",
              "                                                     [key], {});\n",
              "          if (!dataTable) return;\n",
              "\n",
              "          const docLinkHtml = 'Like what you see? Visit the ' +\n",
              "            '<a target=\"_blank\" href=https://colab.research.google.com/notebooks/data_table.ipynb>data table notebook</a>'\n",
              "            + ' to learn more about interactive tables.';\n",
              "          element.innerHTML = '';\n",
              "          dataTable['output_type'] = 'display_data';\n",
              "          await google.colab.output.renderOutput(dataTable, element);\n",
              "          const docLink = document.createElement('div');\n",
              "          docLink.innerHTML = docLinkHtml;\n",
              "          element.appendChild(docLink);\n",
              "        }\n",
              "      </script>\n",
              "    </div>\n",
              "  </div>\n",
              "  "
            ]
          },
          "metadata": {},
          "execution_count": 71
        }
      ]
    },
    {
      "cell_type": "code",
      "source": [
        "plt.plot(X_test_pred[0,:], label='Predicted')\n",
        "plt.plot(y_test[0,:], label='Actual')\n",
        "plt.xlabel(\"Timestamp\")\n",
        "plt.ylabel(\"Pressure\")\n",
        "plt.legend()\n",
        "plt.title(\"Sample Patient Pressure Prediction\")\n",
        "plt.savefig(\"Transformer1_pred.png\")\n",
        "plt.show()\n",
        "files.download(\"Transformer1_pred.png\") "
      ],
      "metadata": {
        "colab": {
          "base_uri": "https://localhost:8080/",
          "height": 312
        },
        "id": "07X6-TVr3CsL",
        "outputId": "7d49cca9-1d6a-4a7d-b6cf-23a5303c3363"
      },
      "execution_count": null,
      "outputs": [
        {
          "output_type": "execute_result",
          "data": {
            "text/plain": [
              "Text(0.5, 1.0, 'Sample Patient Pressure Prediction')"
            ]
          },
          "metadata": {},
          "execution_count": 88
        },
        {
          "output_type": "display_data",
          "data": {
            "text/plain": [
              "<Figure size 432x288 with 1 Axes>"
            ],
            "image/png": "[encoded data removed]"
          },
          "metadata": {
            "needs_background": "light"
          }
        }
      ]
    },
    {
      "cell_type": "code",
      "source": [
        ""
      ],
      "metadata": {
        "id": "twbqI_noCRdh"
      },
      "execution_count": null,
      "outputs": []
    }
  ],
  "metadata": {
    "accelerator": "GPU",
    "colab": {
      "name": "The LSTM Stacked Autoencoder (LSTM-SAE) and Transformer",
      "provenance": [],
      "collapsed_sections": [],
      "machine_shape": "hm"
    },
    "kernelspec": {
      "display_name": "Python 3",
      "name": "python3"
    },
    "language_info": {
      "name": "python"
    }
  },
  "nbformat": 4,
  "nbformat_minor": 0
}